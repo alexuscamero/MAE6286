{
 "cells": [
  {
   "cell_type": "markdown",
   "metadata": {},
   "source": [
    "# Space and Time"
   ]
  },
  {
   "cell_type": "markdown",
   "metadata": {},
   "source": [
    "## 1-D Diffusion"
   ]
  },
  {
   "cell_type": "markdown",
   "metadata": {},
   "source": [
    "$$ \\begin{equation}\n",
    "\\frac{\\partial u}{\\partial t}= \\nu \\frac{\\partial^2 u}{\\partial x^2}\n",
    "\\end{equation} $$\n",
    "\n",
    "where $\\nu$ is a constant known as the *diffusion coefficient*."
   ]
  },
  {
   "cell_type": "markdown",
   "metadata": {},
   "source": [
    "## Discretization of 2nd - Order Derivatives"
   ]
  },
  {
   "cell_type": "markdown",
   "metadata": {},
   "source": [
    "$$ u_{i+1} = u_i + \\Delta x \\frac{\\partial u}{\\partial x}\\big|_i + \\frac{\\Delta x^2}{2!} \\frac{\\partial ^2 u}{\\partial x^2}\\big|_i + \\frac{\\Delta x^3}{3!} \\frac{\\partial ^3 u}{\\partial x^3}\\big|_i + {\\mathcal O}(\\Delta x^4) $$\n",
    "\n",
    "$$ u_{i-1} = u_i - \\Delta x \\frac{\\partial u}{\\partial x}\\big|_i + \\frac{\\Delta x^2}{2!} \\frac{\\partial ^2 u}{\\partial x^2}\\big|_i - \\frac{\\Delta x^3}{3!} \\frac{\\partial ^3 u}{\\partial x^3}\\big|_i + {\\mathcal O}(\\Delta x^4) $$"
   ]
  },
  {
   "cell_type": "markdown",
   "metadata": {},
   "source": [
    "$$ u_{i+1} + u_{i-1} = 2u_i+\\Delta x^2 \\frac{\\partial ^2 u}{\\partial x^2}\\big|_i + {\\mathcal O}(\\Delta x^4) $$\n",
    "\n",
    "So, \n",
    "\n",
    "$$ \\begin{equation}\n",
    "\\frac{\\partial ^2 u}{\\partial x^2}=\\frac{u_{i+1}-2u_{i}+u_{i-1}}{\\Delta x^2} + {\\mathcal O}(\\Delta x^2)\n",
    "\\end{equation} $$"
   ]
  },
  {
   "cell_type": "markdown",
   "metadata": {},
   "source": [
    "The central difference approximation of the 2nd-order derivative is 2nd-order accurate."
   ]
  },
  {
   "cell_type": "markdown",
   "metadata": {},
   "source": [
    "## Diffusion\n",
    "Discretized version of the diffusion equation in 1D:"
   ]
  },
  {
   "cell_type": "markdown",
   "metadata": {},
   "source": [
    "$$ \\begin{equation}\n",
    "\\frac{u_{i}^{n+1}-u_{i}^{n}}{\\Delta t}=\\nu\\frac{u_{i+1}^{n}-2u_{i}^{n}+u_{i-1}^{n}}{\\Delta x^2}\n",
    "\\end{equation} $$\n",
    "Rearranging,"
   ]
  },
  {
   "cell_type": "markdown",
   "metadata": {},
   "source": [
    "$$\n",
    "\\begin{equation}\n",
    "u_{i}^{n+1}=u_{i}^{n}+\\frac{\\nu\\Delta t}{\\Delta x^2}(u_{i+1}^{n}-2u_{i}^{n}+u_{i-1}^{n})\n",
    "\\end{equation}\n",
    "$$"
   ]
  },
  {
   "cell_type": "markdown",
   "metadata": {},
   "source": [
    "## Stability of the Diffusion Equation"
   ]
  },
  {
   "cell_type": "markdown",
   "metadata": {},
   "source": [
    "The stability condition for the diffusion is\n",
    "$$ \\begin{equation}\n",
    "\\nu \\frac{\\Delta t}{\\Delta x^2} \\leq \\frac{1}{2}\n",
    "\\end{equation} $$"
   ]
  },
  {
   "cell_type": "markdown",
   "metadata": {},
   "source": [
    "______________________"
   ]
  },
  {
   "cell_type": "code",
   "execution_count": 1,
   "metadata": {},
   "outputs": [],
   "source": [
    "import numpy as np\n",
    "from matplotlib import pyplot as py\n",
    "% matplotlib inline\n",
    "\n",
    "# Font family and size to use for Matplotlib figures\n",
    "py.rcParams['font.family'] = 'serif'\n",
    "py.rcParams['font.size'] = 16"
   ]
  },
  {
   "cell_type": "code",
   "execution_count": 2,
   "metadata": {},
   "outputs": [],
   "source": [
    "# Parameters\n",
    "nx = 41   # number of spatial grid points\n",
    "L = 2.0   # length of the domain\n",
    "dx = L/(nx-1)   # spatial grid size\n",
    "nu = 0.3   # viscosity\n",
    "sigma = 0.2   # CFL limit\n",
    "dt = sigma * dx**2 / nu   # time - step size\n",
    "nt = 20   # number of time steps to compute\n",
    "\n",
    "# Grid Point Coordinates\n",
    "x = np.linspace(0.0, L, num = nx)\n",
    "\n",
    "# Initial Conditions\n",
    "u0 = np.ones(nx)\n",
    "mask = np.where(np.logical_and(x >= 0.5, x <= 1.0))\n",
    "u0[mask] = 2.0"
   ]
  },
  {
   "cell_type": "code",
   "execution_count": 3,
   "metadata": {},
   "outputs": [],
   "source": [
    "# Integrate in time\n",
    "u = u0.copy()\n",
    "for n in range(nt):\n",
    "    u[1:-1] = u[1:-1] + nu * dt/dx**2 * (u[2:] - 2 * u[1:-1] + u[:-2])"
   ]
  },
  {
   "cell_type": "code",
   "execution_count": 4,
   "metadata": {},
   "outputs": [
    {
     "data": {
      "image/png": "[encoded data removed]",
      "text/plain": [
       "<Figure size 432x288 with 1 Axes>"
      ]
     },
     "metadata": {},
     "output_type": "display_data"
    }
   ],
   "source": [
    "# Plot the solution after nt times steps\n",
    "# along with the initial conditions.\n",
    "\n",
    "py.figure(figsize = (6.0, 4.0))\n",
    "py.xlabel('x')\n",
    "py.ylabel('u')\n",
    "py.grid()\n",
    "py.plot(x, u0, label = 'Initial', color = 'C0',\n",
    "        linestyle = '--', linewidth = 2)\n",
    "py.plot(x, u, label = 'nt = {}'.format(nt), color = 'C1',\n",
    "         linestyle = '-', linewidth = 2)\n",
    "py.legend(loc = 'upper right')\n",
    "py.xlim(0.0, L)\n",
    "py.ylim(0.5, 2.5);"
   ]
  },
  {
   "cell_type": "markdown",
   "metadata": {},
   "source": [
    "## Animations"
   ]
  },
  {
   "cell_type": "code",
   "execution_count": 5,
   "metadata": {},
   "outputs": [],
   "source": [
    "from matplotlib import animation\n",
    "from IPython.display import HTML"
   ]
  },
  {
   "cell_type": "code",
   "execution_count": 6,
   "metadata": {},
   "outputs": [],
   "source": [
    "'''\n",
    "    Computes the numerical solution of the 1D diffusion\n",
    "    equation over the time steps\n",
    "    u0 : numpy.ndarray, initial conditions\n",
    "            as a 1D array of floats\n",
    "    sigma : float, optional, value of\n",
    "            nu*dt/dx^2, default = 0.5\n",
    "    nt : integer, optional, number of time\n",
    "            steps to computer, default = 20\n",
    "'''\n",
    "\n",
    "def diff(u0, sigma = 0.5, nt = 20):\n",
    "    u_hist = [u0.copy()]\n",
    "    u = u0.copy()\n",
    "    for n in range(nt):\n",
    "        u[1:-1] = u[1:-1] + sigma * (u[2:] - 2 * u[1:-1] + u[:-2])\n",
    "        u_hist.append(u.copy())\n",
    "    return u_hist"
   ]
  },
  {
   "cell_type": "code",
   "execution_count": 7,
   "metadata": {},
   "outputs": [],
   "source": [
    "# History of the numerical solution\n",
    "u_hist = diff(u0, sigma = sigma, nt = nt)"
   ]
  },
  {
   "cell_type": "code",
   "execution_count": 8,
   "metadata": {},
   "outputs": [
    {
     "data": {
      "image/png": "[encoded data removed]",
      "text/plain": [
       "<Figure size 432x288 with 1 Axes>"
      ]
     },
     "metadata": {},
     "output_type": "display_data"
    }
   ],
   "source": [
    "fig = py.figure(figsize = (6.0, 4.0))\n",
    "py.xlabel('x')\n",
    "py.ylabel('u')\n",
    "py.grid()\n",
    "line = py.plot(x, u0, color = 'C0',\n",
    "                   linestyle = '-', linewidth = 2)[0]\n",
    "py.xlim(0.0, L)\n",
    "py.ylim(0.5, 2.5)\n",
    "fig.tight_layout()"
   ]
  },
  {
   "cell_type": "code",
   "execution_count": 9,
   "metadata": {},
   "outputs": [],
   "source": [
    "'''\n",
    "    Updates the line y-data of the Matplotlib figure\n",
    "    n : integer, time-step index\n",
    "    u_hist : list of numpy.ndarray objects, the history\n",
    "                of the numerical solution\n",
    "'''\n",
    "\n",
    "def updateplot(n, u_hist):\n",
    "    fig.suptitle('Time Step {:0>2}'.format(n))\n",
    "    line.set_ydata(u_hist[n])"
   ]
  },
  {
   "cell_type": "markdown",
   "metadata": {},
   "source": [
    "`animation.FuncAnimation` object with arguments:\n",
    "\n",
    "* `fig`: the name of our figure,\n",
    "* `diffusion`: the name of our solver function,\n",
    "* `frames`: the number of frames to dra (which we set equal to `nt`),\n",
    "* `fargs`: extra arguments to pass to the function `diffusion`,\n",
    "* `interval`: the number of milliseconds each frame appears for."
   ]
  },
  {
   "cell_type": "code",
   "execution_count": 10,
   "metadata": {},
   "outputs": [],
   "source": [
    "# Create an animation\n",
    "anime = animation.FuncAnimation(fig, updateplot, frames = nt, \n",
    "                        fargs = (u_hist,), interval = 100)"
   ]
  },
  {
   "cell_type": "code",
   "execution_count": 11,
   "metadata": {},
   "outputs": [
    {
     "data": {
      "text/html": [
       "<video width=\"432\" height=\"288\" controls autoplay loop>\n",
       "  <source type=\"video/mp4\" src=\"data:video/mp4;base64,AAAAHGZ0eXBNNFYgAAACAGlzb21pc28yYXZjMQAAAAhmcmVlAABDa21kYXQAAAKgBgX//5zcRem9\n",
       "5tlIt5Ys2CDZI+7veDI2NCAtIGNvcmUgMTUyIC0gSC4yNjQvTVBFRy00IEFWQyBjb2RlYyAtIENv\n",
       "cHlsZWZ0IDIwMDMtMjAxNyAtIGh0dHA6Ly93d3cudmlkZW9sYW4ub3JnL3gyNjQuaHRtbCAtIG9w\n",
       "dGlvbnM6IGNhYmFjPTEgcmVmPTMgZGVibG9jaz0xOjA6MCBhbmFseXNlPTB4MzoweDExMyBtZT1o\n",
       "ZXggc3VibWU9NyBwc3k9MSBwc3lfcmQ9MS4wMDowLjAwIG1peGVkX3JlZj0xIG1lX3JhbmdlPTE2\n",
       "IGNocm9tYV9tZT0xIHRyZWxsaXM9MSA4eDhkY3Q9MSBjcW09MCBkZWFkem9uZT0yMSwxMSBmYXN0\n",
       "X3Bza2lwPTEgY2hyb21hX3FwX29mZnNldD0tMiB0aHJlYWRzPTkgbG9va2FoZWFkX3RocmVhZHM9\n",
       "MSBzbGljZWRfdGhyZWFkcz0wIG5yPTAgZGVjaW1hdGU9MSBpbnRlcmxhY2VkPTAgYmx1cmF5X2Nv\n",
       "bXBhdD0wIGNvbnN0cmFpbmVkX2ludHJhPTAgYmZyYW1lcz0zIGJfcHlyYW1pZD0yIGJfYWRhcHQ9\n",
       "MSBiX2JpYXM9MCBkaXJlY3Q9MSB3ZWlnaHRiPTEgb3Blbl9nb3A9MCB3ZWlnaHRwPTIga2V5aW50\n",
       "PTI1MCBrZXlpbnRfbWluPTEwIHNjZW5lY3V0PTQwIGludHJhX3JlZnJlc2g9MCByY19sb29rYWhl\n",
       "YWQ9NDAgcmM9Y3JmIG1idHJlZT0xIGNyZj0yMy4wIHFjb21wPTAuNjAgcXBtaW49MCBxcG1heD02\n",
       "OSBxcHN0ZXA9NCBpcF9yYXRpbz0xLjQwIGFxPTE6MS4wMACAAAAYEGWIhAAQ//73gb8yy18ee/H3\n",
       "hfxcQC2Oh+qsNVdk50j0L7V3S1HPUJ9V7wsVTxS23MYp0/6T4alf9DAsRPWxIZF4EvBlm6Rrmav+\n",
       "Kr7gL1p6ZLkeVnuMC/dF+O0MZdQhHh7Vc2LGiisGUI9wNQiCZ8e83vIBljkS5JcHTM3OtLZMuZJ2\n",
       "b1YaHOFSY/pbJzo9W5nioZN4wAtyfyNlpaoGSRUQ7FovLwnDQkfw67b3HO5hUsCqQUBlejCcRvFe\n",
       "Dz3vEea/XzmhwUn3asaHU5NC1FmULZXt5r+a43Vb6bUpP5eivDqnB1dI+h8c1IhS3XaHSfCyi2+e\n",
       "yK+MNIZKPXaluFckoQSQIDT4eEDlxWuFZFmkpCN0I5OpO9PwFzZo/Cdl6LYkZxnpizLZhn0VC5Rt\n",
       "zWhFauOR2XZsU85Qo6XgH19yWkL+rCDNx9KKnWVzWkQVhHM77p6K1RtGe+n11Q+lJub9eAgWIvat\n",
       "Q1h7A3B1TNrIJdaDzoUtdK8qhmTbqO2dySFe6hcwwRzcEnFxPX3PpIAXFOmU/6WkBUZrioypo+vi\n",
       "BeZRA+ex4WCohSoZOWTOFvV+fxo130oh9sm4EqOPyg/vCQWULs/ZPd017cCK091jCl0cIcWkbLXK\n",
       "od2muvP1YRlZXEd6UYg3twN5j6WtD2nz3jTPxi9kAwLy2KT3ACKnGUVOQ6SPjJDDlTdEhonNjXzi\n",
       "shrboheFPu4ujhr0BxXm5Qtf5ge/YK33US2/4qd9P+mU8b9eZnzOoT2lhZ8DF2nddCYVal/gwNkj\n",
       "gPD4qG4feB/xEB8AZ5W5FM4H2VBavs44ZbmiouOYtDE3atJoOHaQ9F3iaXYTFpK5v3gB4iEdcdIi\n",
       "3Qiv0xdO0EexD3dO8d3pwuEqo6AnLZULXXDAb1m+XiJVhs0e4ovihka9e1EN950pf7+COYR7Tuw3\n",
       "LBcHBnOw6hBa3fOaHMQT9ETzuB210zmLdumjgXOj2hYEhNu0e2F3JtxudxBusDl9sQWW+hg2U1SH\n",
       "//rNfWY5bw7Lyf8I1yFyhnEEB+A7woACNS7A1m3y/kZRrI4IdPNgmJIvBXLINF9659Gi4dRe4hyZ\n",
       "Knieyy5c2KAU2UMBHhc3zIhwJwRf/df0ExVRUeZlV5eduumRu/AjCt83FiJI9HH+S3JTq/pvBa0k\n",
       "jLB7vfLti1X35L3fBhKAXAshKRMmW5FwW1U4pRsyM6cT5XG+njemwc+2TrjcItB7YvWakUW6zskP\n",
       "4xt3ahAM1b5p3ulCBmXQmcAz4/UI5CI9NvUnnzdf/fIrQ/jc0xO1xIFxR6yofdlnxv1J4bZYQLcL\n",
       "uJT1qqDj0newFs2FISl36oVzd5VcF4F5TX1nu0ootzpS333JQv445GGdOcDzrHbscMm67ekdcZGd\n",
       "2pdVax760umbDIx56+F36lYM+ifD6UrmCVVfdYrSyTdv3ywDSv3ROtZf0HzLT+hJ7C4QIgCJ9KSG\n",
       "gejxdP0bhvOIGsuLehtUxtrbQVY/Ko6l2vgnYMcGPCHzV3rI318DDNfShkGE0WW+jZHS/vX8b30D\n",
       "1x3GZ1nlFD9xkz7qX7cFzJDrDD5B6FR7nnK1vmSFZumuFpPGXchHbYxG6y92S5v/3mWd/aG8arJQ\n",
       "45OYEwGUrIEPmoLgllHRIyTjQmM7053V0mmod/ZSp5MHQrf1Suq2xkzE72Z0Mi1MkyvGjMTLgJkt\n",
       "c7mBX4IStu/4PLMVgnpADIamZwgn/8j/Q8wpcUTJW0qif32KRdRjZrH0VOqTBYQeYB/nWF9+1Y44\n",
       "GLO/Nib2gxnQDTe6mcid9y7B3FT+N5Tg/cqYXh10Yp0OQB6GV0e98878y+xwfSNnvthoqzqJZmij\n",
       "XNjDoVbYKdn+0NPOyR/Kxmwc8C/lmZ+QORDHd30PMRNJN6EMKvHS2EwNn/Z0mYra9raqAG/+omGW\n",
       "F9BEDymHx8MRXxcgC3+dsTekRkJ1P3EHnMT4PUJ16i2moJHsQZiWCVIX3Pwp6Pcnd2Sv9nTyEmRq\n",
       "i5tkkoku5Xh89RuI59S17YYog/ks7qvOG5/V8a3MI177MX7SaMVKpCxgly1mcRYgoN5hRe9jILnb\n",
       "cUR9AGu/mDo8v/iz1LZ3/syCMbUZHGMJJl1KnZnESLcM8pD6sMyFZOmbJ3lfRdbFwGzd//Yb6y3r\n",
       "M9e/FTZvD/klYseF/T319rZYu8MU+64c/HzFWmLbIjx0qxV2JHV5E7d5F3TL4kZdOgNIZ/cmnQFq\n",
       "LQsQC/6tYnfSg74Yze28gP0Jc4B8RFQaBQAlSe03wbPTBPJJEeMx9v2//oMubJu//UY6I85aE8yB\n",
       "FZeV1EMvuqfcGSgWxiKGdi9Tf0pc2p/QTzhPJ1AC+0l7CSEoGd++6/A2JhvRmcXerUFOnHDOVgW8\n",
       "t8rWwweRT+n7GhDVP9g1dnhh4R7B5w08mVYtlO5nEUq+c2u16MRF/F4hky+Ja5gdlopecVxLufUq\n",
       "XQ7R7vPn8l8ZQg+sPJoTEZGJOE2WmCLXH05i7OMdR445/nL0/7CI6Ey/aP9q97kq9kUe33jOQ4UM\n",
       "imvehquPYuLCQuOkKypttc9nGAADAIrbIA4En4ol/5AN7BZvphpThaU04/64dCFtIST2taVPm0Io\n",
       "Q5lL0uU73F4Bxkg2zhEwmNZ9MjMeiUoooMvR+dLunbX5MJsRDN6IjCTM2bWeu91/V7LIP0ee8n29\n",
       "6e74/qlP2Z0jw/+/qVX5KdNLRDyRBbuoWN5kq6GkTtEtDX+cBHn+I01wzP2cVO+yZuS197Yeiah2\n",
       "76ltR5Gb1liUCIgviSek807DzKXs4odOJaoQk6IQ4F5USRoQTTZtXtMdj3rYNEe0zhP2EM+f2ZHz\n",
       "e77d9vA0M1VjlQIuykTt9wHQHYxOy4B04kgaBW10f9zUrhrGpV7jZzeFIAVRJy/T0cf9pJX3p9s7\n",
       "Gg/n1JlSm2jmJidw0tv6vinT3fsKEcgKi7vWcLyAbbJyZp6jtEpiBMVzVyJwPM5qrS3vliFZhaZ9\n",
       "xe+JfDoCuB6CSlICEbg3NBuHFyv5vBEheqmUzyw27So5hoVsuJ2qUwESqCEFbFYpbdQj1rtaicB6\n",
       "lnJtjLaP18p0Hd8tKbkE5urTGTU/oTX+BQV6YLXWc4esqtvvK90m8YkNwzFh/Zseckjr2W/nMI0B\n",
       "fl9BnhImT6IJ/11rC/DCWtyRGlX+iKpbqfio0yF5SkfM+czQJ4b26wfQVjD2XUrtWLIlfX5xpUZM\n",
       "2HCbbcHxP29duQVmHJK+RL5Uu0sHpSjD+hY27rVjP5Z6MGxZ9KSmwhffxSBpPH5ZlOWD9UV+HuF4\n",
       "fggGBLbN9kCiQJ6oUvfO7+4i4aP5jgqh/son0hRIaApGzqAo2KYbIISLolesTyXMGl8mXzFGU/gt\n",
       "AVGr+8JvClqzvWSUUjWLPiD9NJCb4gPDxJDsZOl3XHAADqlGinMF17G/DzAH2LNHhn5kbPDASioD\n",
       "uF9dx8zIFn+6WzfiaYaYrZnM8tya06gy0ypxduhh4LI8j913lWGkO72Zu3uZkm0Q/2XDW8w/+ADD\n",
       "9hfju2qJIv+UA7t6TaJt57/RwGNpraTL7+/fmRA286dzdG8mWfeirXzCkTLyDsZPixMwTAKAcLP7\n",
       "6eFLrTyuZfUeUCIOoB8w/vV1fWKG7VtXGUpJVeQaaCnOQ6Ij4SLfK2CNoXPwNXYnhNwFhTcdgucq\n",
       "G5/FlUZXCarJbqE0xPuO7mh3nf8AVVp4SwBtKiUU+8XDaEzPxGx9ihMzeHSz27gt8Gcp9bhDjWI0\n",
       "OIlqxa9O0ihdNQxAuC0WAypu/YCWocGcbMXokAvGn0xkLglMpiB+eFNBIP2W23t1rEOrlKTWVOye\n",
       "cKtPb0xtSs2GA2YCWQGdg5Skn7PKeShffeUH+WrlvZd/EUftzSzvL16O7+NYIYG4inpHVO5fTNyy\n",
       "QSC0Jb9djQkVYBzev6phs5PPA9G+H/XNKJJ0+wEmOGiPMGk5HzCrH6abjor/hi9UZrHwO8vdMVAP\n",
       "prvWMHpMLg7+BoV9nHnyP+HK0yC9l4Q6FX8nAlVk/S+jnOErrtBVo1MHXHTdNebFcMUTspvPr/At\n",
       "GBn2y8+JNu5rXzY/XBa9Bctgj1ZnDiFXJV0qCVinUKJXh6hBf5Nn9TgOctJYPK9RWshr/nd/WhJl\n",
       "XCOerlIpi0Ai3VijWvRibsWv7p5uZRb2qyCtlAYXUkRcDGmCu2HwH32Xi7+6Hrd+/wvBev9ChyuR\n",
       "Hx4Ob/EuxUE6i6unKTX+UCjytqC9TgCyNXjCdS7ha7WCbdt7wUCoQa2vGT+A7nGrzrIR7k9JCa8m\n",
       "OX64DM3v//+9M543hbnhtFWxda4u/GWTMnaXl+3Btewp1m8RPy/sV79He7sxsPO3ZaoIVHkE1WJ/\n",
       "vsHn9738ijeBbaV9tu2gL34185CaNvr3cwnYzZQzns4PSwv3O7QGK25fu7rhEhJ3S0ujghkTZs06\n",
       "haS9cERTw33wq2Fr/jwWH20wdHbwJgZLCGJgqGLOx/hthuNVPaSL4atI10HuGmIPikJE0now9mlf\n",
       "MUh0hwyXFjLMf2XeSOzg9VqTCaClk+Hn+Z5brZIMFgDb/k9lV9gSWTFRuxScXyiBjT/KEbzSV46E\n",
       "MpHiQjZnveKFcrWu2mqKBbZ4X31G33ryz8gQTwoTEmB//Drty9gMPoRWIWyZVt+nKRwOC+VlQX+E\n",
       "f2Cm/aT8DfajPPkIucoNzBDN9lK3svvzG+shcisGqPUuz7URLiAcIn1h3dHSr3tYXk+HigbcJMx9\n",
       "B+OrQg3CsftxuqyQsHtO4wRGRCIRF44vfvbn6Eoxk1yz9oTspdTRriRQDhPDmsVxwK6A6/FcaSdf\n",
       "aj2NCEtW/0yBRQV0km49phdsPaLYom16WpHeY8L/GeMBJFQuHgLRY8CiL/BM2e6zcHUc8qSKT0hG\n",
       "UwANdkTq9E29WSpzA/+RV03T1JoCua2chg4fpzcOSkBY7WAPhwKy1aAj4dWh5E3aUGFntujKAKNH\n",
       "2ye4NyUarrEVHlF2OtGu+oA5wltsxb07WsUWkD9pF5Wnyugb5p9PdMiMVO9ooapt3Apj52fjlNGn\n",
       "SS2TiQohVbJUIpKrWlGYU3kToyxlcAmsWPycYPzH9iJwrVb/hktZBvHBN2H8OqW42oOBZNaOJbXp\n",
       "YKNuMBZaaNxFsWlxWTSIvhwOPgsVY8kXul+xx2MTK8Saf4+QKRxrnqyyIvGUFLM4Elg6d0VYGiVC\n",
       "gE4bW1FCisJ//UEWm+bdmI7mhMnrj1fREMlyf/FDry0q4p1DOk7pMNJqggRDRPZqkx6Us3bwwKBJ\n",
       "UbBBwPOelVIWUc7/Cky9Aus0C9TQQd8xrabCa0in3RKOFYrk+6atBXC6CDhz7yF0Ly6Y7634nIp4\n",
       "fdqwpfVJtK4Ys4cby5vq+Yk72A398t4iPNHWAW7idTxN9KqazsNL5iIRu+bkDN/dS90fezKgnya4\n",
       "csnKNF/UoCZFKd3eR7dKTQF0AxwmFjePR6aJVmOYrDwveUxj8T9rb6/8TQrqlc82KIuD4+79xATg\n",
       "AIP9PoWQg2xWCSdhzSH3Y0gTkpqfVd/y7sw4D/1xHiuCSbCip/Te3WwusATMj0vUeSnM4LoJGcqj\n",
       "fg0dWF2TwMYCGG7fOXQfXBmDYy3sItmxgy+G1FvWMnqCSEgx7MVyd/1v639r1Xbu3ufnlJUAgo4o\n",
       "DhCTB4FnjA8XUHY4m7f3hAqmWEJMICDHh2fsQSe9fDyMtgdvQQvK3oEpg+SZSEZ1auVVN8/uLeFY\n",
       "pShTu1t9th5q6TWF8rk0p0UeTRt5qYCphsOzPyKyTpZl6ikmkoNHrY0+j+QcUfIaWnzSfe4UHT8b\n",
       "eS6M4mxXPQk8VWzkGJyk3DBUUgRdaGBxZgN+ma51mPkz2PTbW+Gd31sNraoapm7kzR2YvRgF+9i3\n",
       "OXJoGeJafzhtJeB2cBBnc89Q1af2xRtrT+JkHoqej2wDLkAYGYNkXZNEm+yHedkLF/EgXZuiY095\n",
       "VfCDVfLGEkQ3w4uH6zAKuXdSMLoDVz/FnCq4kQHZcq4qNdgoberTUzK9p/vslDxQDM7jQ7DTnVhc\n",
       "n94on70gewVDTLytWf9i1NTzVwft/fgat0I29WVl9FRKfwt0dpA8jaYA5ADvRYBkfv7/Lr92tdVA\n",
       "YTnyD5+DTvhocJO/h/yeYgdLinQ4246H/9DoM5IpWGCrNIMzMolcrm3IRe/DGWcnNPVeutcvsP0H\n",
       "57idddxUrVsF+KExCpxV3ccsDdq4N2S4P7L4dcPS4AeAy9hJ74sQzWXev+llVMRYqcrCEo7vvhie\n",
       "9Frj6YrRQ+H/JgMwEF0qBD7y5Q8R5xD5cvGDnNij1XBIyGahgKlOwCeh9dp3qgfzVxFeJZl5rS0y\n",
       "wYjaPwZWRrU/DlW+OFYg/pVkyPxAekW5J5X+NxhCpr/jP4EXwKonZwd3Mk2f8uAzqYeaO6FOUqdU\n",
       "df6oQGXKSueXXPJzgtlqt+9S6NdXfv5lrjfususewm2SXviOWapNnJb8YdB0BWf0QgK+CQlO6lob\n",
       "GFS+AnsIXHL4wneTtotKwG+j4n+mYj/mZP+bt5UO9P9knnFPQP2ADWjYpIBi7U9ApDsam7YIsMAw\n",
       "xaKjh7tQA0vBChJcLyz8rWq7h0wMgxyfdtkuqQPGFo7r+9iZmdkkb489i18zBdQ7DIWGwt+vnz8D\n",
       "9/NeiOWexZdbBdXPWClHClN2pstg7u9+oLXolLkIVr36xKBtHrbMMigVllvbvc9kbKJoyCGQdwaQ\n",
       "veEJmbyvNdBhv/GusRLH9D5nI4EG6LuurSAjOfhoGgkF/6nnW1OoGF3Gis3DYoCFTyUaNGIaEvv1\n",
       "RICYeAe+MDbEbw9MhC6pxegux1LBl+8O7IvkMTFFBS5+K16kluQcn2PkrSwo3R0aNHwqg5ESN9UH\n",
       "xDtX6W9w+RxJQnNGV9H+VGQLmLBRoEqWe+y52cROGfN9UptQAFfvLpwijULmRQzUm+nlY5O29n/+\n",
       "L+P3lKAbCfdkPIecjk9ju/BiBCCBQNv0JC4750ulmXOxgEWl2LTIX7HZc4R8+WKgdtVcs8WLl9fg\n",
       "Gs8o0tk/pJFDMoLiOmPpbHDKxjVCiexndH8Uc57eEMLVbtji8Vy8QxQnTzAC0R+FPppgyRHSklcw\n",
       "fogxAEDShJZ6qTQdhpGOSg9uNno6Rh3C1jC8dBvRQ2ZlGPHkfYYPXLR20MVcGLdVtwx1Knw+/cGr\n",
       "s+8FJ9e/HzHY+XqNb/LHDSMs/EO2142/jels1qE8QWggMe+ZcSfWAEI0T7GkMIr0yWridmXSybb/\n",
       "ndrUX3DXSg/FCKyK9N9jJHBzkVxJYv5Ol+cVn05bHly+glYrMY1h1nHVBPaVe3p1O+oVxD5WRff9\n",
       "NErNGREO8PF6rd2n/o8ExrTm2rW9QmdNvWhRYc6JvuLdpX4woc/sDg5h4tO5OAvQ5upN8C7jMDKO\n",
       "9/+aR14UnWmhLt1DTKFygV7a0J+BbOXV/Jdr/RPLBvHyYZHYdfS3KLj42n3moVerOQbWzLOdbKRL\n",
       "ukiWnbo64/dqzrOhz+Pu7VDSewlEKyMppl+Q3w7atnYSPPcZq4/lOWm2ZXfpV1rbLTSF7bCupyNm\n",
       "7IaLS6v9iDtCI96pKgkGTfirq9A/WbssiSlulDcq6SnVzYlIq2eGogHwfWRpi0WhOA/S2Zso9gY7\n",
       "4qq1dv8CcYA6PshFPgMeiibKypzCMABazwZiTsh24sLrh5pLROcwtwogdR2RehhLBnnxV/yQeNy0\n",
       "to6L1Gc1VJN6za3JBOA9flKDWAFgPEmZ/6PmBxQKgjEs01AeduWoWDA8vrepya/V+3ndQhOIpaZ2\n",
       "1vA+vQrGJ48j+nMP9/wLjnFRhVSz9/y6PwVx3ggXj82V9SAgbZxdYhO8PTn68j9T7R0CsHX8g3JL\n",
       "F3doyyTbF4OoVlDAaVr2teaEa0KVs1g1olLOZtWGGL7O4Wq9Z0O45bUg3haxEMqgM1cJZiFQ2kd7\n",
       "/VPawI6TevpgudYzeMHdeK8HCbTH7ds7VZzhHYJAukznTFRMc/WEkW2xnFYHx3+TG1laCHcd36UO\n",
       "Y7AatEFzImhmXVc4cKF2UFp5b5EZX8SYROllzB9pCAbG7r1HyKvP8opmlAprIssalwCpEwOh/tFN\n",
       "r7qXOnErieMvfmhD2sPMP4bgX99PxlbN7j5Rx68G5d16O5RZbu7hxP7+l8v5MobYtTXVr9hajpN6\n",
       "eZhnzOPNeQUCBdTXTF5Jl776TS2/LjMp01VFactfTqSN2FhUcrspkAXe1bEAAAZKQZojbEEP7I5Y\n",
       "ADWIfxoCDA06nht3RuYoSUJHZLRbHEoWoey1JN3eCn83UHOwuL/Sq/VoKXsAYKXOSNyjhozCRRwk\n",
       "NO0OjcU+PokVGHr+Pj8W6RdLM6HnhEQog2i48BcnKK1+HUq+ZLk36opeDh3z4RWGpyEZZEMdaODm\n",
       "fZAkKn3ob+0NYUq71kDUIH00azKstoc0iG7MjwOnDAMNv3mV8qchvpmCU1RoPQ6w5kU7/ILmxzZ5\n",
       "7fu+B5GWXKB4T25XoolBi2IfsJD+FciDHNQnAokJ4eoyEhEKuSb6S/95IBCa1+JMjGogGeR6uFPG\n",
       "8CWOyP93PAAuBqqWPvYB5gzDrM4XjnfWF07U0ALtN/TOcD7XhIU7rV8zIzEGIsC3b+3+fV73PKrg\n",
       "c2mwdkuKVyEsBNDhFmHHbmlEP71u5GQn+2nDhPNaXLgTQKykN8jKzV9aJDEROweq9K1R7ixK4G3Q\n",
       "7SAQfA2kcIJ0YiPi8rcMYS59O0hH3YV9SXW71Cx7v4xlTa2XcWW3KUiinH8TREL66vii9KnW/kpE\n",
       "qP0JxD6jj7UBSGO20LIcznelMAvynFcle9PZL2I9B2hKjocw5uZ1sviGXSpWpoMdnQeebykANelB\n",
       "zqamWG1g5+zefS3Nvtfn7vB3fvcVPJ9DMSTj7n7EtQorVFEeL55AToLfuplN5t0aQsWrClbQtZAv\n",
       "n05kq1Ub7tEipz6LUXUdpp/9YlSjNNdA9nOSrxAdiLRUVmHvxc3XOR7sTT5/C7MW4rq+g0mKmvY3\n",
       "Je0wVUpUktrhK9KRkCfLp9EITOhbYSa6iqzsFiPjtUFCfGujJYMO/BHJbn4v3tG4A6bR27VLXyUF\n",
       "hYZ6X9ryivIkvlskuPfD3rQ+haa/DK2vsHAzudhqTRhVZhtkBAHVZ4QaYFCS6EkztqPTnaq9t6gj\n",
       "whm3aTBjokOcjVdrLVlxUxdty8jiEfX6ihogkJrfikmPJDrwXtQvZ/GLiFIMqX31FhThBp3h1UeD\n",
       "CyNjp2GxNeSVOF9zCq5EsXi90hzWaTWE0/LE1gaO6/L0RS6sJqOum5DcB+gbKlIBXt7r69wb8tNs\n",
       "goRfDTsW+99e+M7/YjkBdtRQTXfgZyms8z9Td3WlRT4FaVtNh5FDr8OsZuoGoL40FSVfz9RRliXE\n",
       "ceTKV0l72dd/sN9nmFoEMk2miDJgV9yEQhP7DQxdrFdfeqlQ3AZOabkRzc8gAQHUneBbqqXipJQW\n",
       "ZdBA9mmgIvxfPrxDJAIoZnZE8DiDsOZtkCUSZKgwPlxyNbKP8YQlG0TUvI/Ig+Gub3r0yDIkNrBO\n",
       "e6oHLNp7dMQNPyxMHHWLgbqa5edlAl1Z0LQ8R0tqIye/vIPq0BuS2rHv1Tknstl57aEhvrBpf45J\n",
       "B8YDkYa9Z6WCm3LVDE3xMfIqA5Y7dHYxmM/dczgmyCcT6U3NwCzirEIs2RAGnu4KQdghIzYLn1oG\n",
       "wkFcrHoilDfhPQDR55xVgB/c22tw2SL+03yem/wdXpxcpU8gSJoa4wwBZOUXE3crCswdJaSLrkt3\n",
       "EhCcQW6pvtcG5DWqppF/syhZ4mbGZ4Pcol+vQ9E8oMamY0DQoQ4tzQzep/qTrCEmVpMNThWiMnCd\n",
       "w6/UudeSdtZUMMeiQRQgSKputFyv6Y0b2jP1rZkJ+XYpLOEu7HU0yo0oeccJonCxSR7Jq6QEoIQr\n",
       "qtmC3/5208beRRVV8yd08t2izr1qQH6QCf4PbyS4eGUlIjy0y+DzWjH5hXSbghe0UK00soLEQ1h/\n",
       "gdHbDn/WDdEEoV8yjfdGW/UjCc+MfUMb38h2tP6UWZCrmnzxje8QJK/xZ1sGz1jtPJJzjV/xU/TW\n",
       "DP/mviM/rqTDjlbPmSqOgPb/nhk3CYZ3pNrw0kXSXzsLhcuxojNbLlQdXCIlSRH6uo4sURgGXDtY\n",
       "nboxmHl4DTRPM5Anj3WpRnu6HsTy4O3PC2nZCXVX57psUNPbWhIEKKaGIZWqfiebvmMngz37eEzd\n",
       "V92GL6/OMCcbuHG4b8iMxqjjrJculuRpPXpHy/OA2zhYM0EYfIJwxezTVxGVayy4j6hi34cb/bKB\n",
       "g0okQLd58c3rmXuQDzc+AX4LI7+tPOmL9PExExcXWbA+6bZYvDfort064qQYUS/l14EcdsuKRsqH\n",
       "x47dOOAAAAIVQZ5BeIb/sLVwOBMWvltpdZgA2qs/WVKWsMDxVW3KCvvRFDe424PKifbm+oLBlvwk\n",
       "gFT23P2MAX6fYBZaZWIvmObXWS19NAfhO7mkKL3gR+hkGDJTXT7vwTgKoUh8BrKq2PItrc/xtADM\n",
       "M3B2HJxoErMC3uoNxFokgIKqqR0+btDZFZaiRHeS+Ku1RmLUsp28rKpekOJMUzTM+qe7rI/KQ+e+\n",
       "Rb4+K8FLnKpUVc+HH/ZojpkMc2ikonkP/4I8vz2XLPMULqSi5sLF2p2r15nvfIij0l+tFP9XuPv2\n",
       "h2QsvjEiLcgsnz8F3/Gti8MSHXCndIhGl57FhsKPF5va/qwBE57nI+oOXQm61x4cpmgme02721AX\n",
       "F+FS/Xnij7k38KjzR5XrtThiTgUh4rceNYmvk0lzRAEpNYvKi/SKlFVfnIGTLWxKbfwIVV9Lkgh7\n",
       "lxwsgakxvQoge2U/LNXJFfE1NhJpIq16lSgG2Zjw6C9ofE5lsT9UYmhwOjssZBfvtnrMfwbEAey+\n",
       "X9in0YTC6wOpa7lxVNJxiBFP8PH+cRuRWKdBrRbU63Ou1t7mbLGWBDQ8ITa1GHfBo6/FMPcwiaau\n",
       "QMH4iZ6g9GJJ6cZrxh+5zcLC0Hyj0lWtdzhDb6alK3LpGnCradHuprh2nxA61EEajsB5x/D8vEg4\n",
       "qiNSyiMSpRsxmssFD5O8L6yv1s9tcSnbWNVRCykAAAFjAZ5iakN/B6Q7FybDwAhDXrhhZv/beqIf\n",
       "TvEBLzU0COHMveGdKboY2GBi50YSEUanyiN9jM7pPInmVVed9hGaH3I7SbZfC01RR+CnqThkQhaJ\n",
       "rRxejYrv9qx6T+nsDH71lpWaXzyoLu/oeCcveon4nxZqakkkcbQcnmqfIy0aDjoJMGuyCRUspQoJ\n",
       "L3tF0fM1uColgvNflN+XLCJ33aSXDnHui4aGvP1HQ/Bqp0B6nd0dKPZzTBrjKk+vnFK+lrA9k+gE\n",
       "NEJS2r9CO4hCi7duLOY4eqhKqicOU41PxdbnljwtO4BdsyWFt0UhfNbvEfduoZp6ssU6oxrhmKaS\n",
       "ftMBD2+2EWNoiDgJzbbZ5qBfIj0+gb6AR1AI95+AQVgj+yDDyKNb2SwJDfxoBoGrqm/BVI2Oznb7\n",
       "QtebAy/sxDtLTtuBVB8Z3tZyCl97NZ2BzNgVuxuaT4ICOjlKff+TlRJngdCDgAAAA1ZBmmVJqEFo\n",
       "mUwU8P/+qaARQ0AEO6DKN9JaJdJw5ZaC5KD5nDDLeO1Nj7TLl+XqxN8wXRTl7+dDip/UgRGDtt5x\n",
       "R3CnqPPX7g/o7TKFQJEkLIFqKz0iiCjiGwrALxrXWkpyOa/ppqHyZq5hwhmTOnKNsmiSdt8GLwxq\n",
       "VL0Gw9YykeLoqZR+j6d3ThTu85v01qVLjnNlZYubf9irFxKqYgTbtZPTj9SW8KhPAajoriKe7K9Z\n",
       "gnrpGvQ29aT9U93uDzlg+jfB4OswDLzSGIyZCX3UVLwefDTM/Q3zGBrtft9SfF8jyqQaV1/uJpAG\n",
       "j+5VPLP0u3MfdxkQHLh8gqQhdYq8kYK6e8EQHJR5Ob8htILiButL4LNJB0G5KvgcwGt46Ep8mVQt\n",
       "VUm99qQD3A/WhomNMMneGRDjs4JJJz7BrQReRNiVaM0amAH6iKL4sn8Xgths7LrLY+T0jCFCOjse\n",
       "vNrP20Ix88p/N7izMLZRxucRfcro++JcZ6hnUoa2cCu1G3is4neVL1hj4P54u9ap20wdRFrI0aJo\n",
       "ZWZe3zGFhVsUChygG7bAb+0ogTlVtFHpCFYZndYf7SUTbdeN16fIHqIMrI1vX+kZPtlO0c+eGzUe\n",
       "prAqEU14yeFjfky/xFu+Q5r13pr4zcdJXALmKUnzuZeUvjS0n446UW+uwMzCCbVv2ZQPsf1uXI6Q\n",
       "MQ6Q176RB7EyPkuFktWnKZpXDpIzqSdHRwKzHPpqAt6BcEYOsWLhs8LvkGHkt+BNFMX+Deym6kPl\n",
       "PZG6u9U0NQENVe12LtUCw8hjjkZLSknLb4esaxuj0RjzCKvEBQyNDXX4zCqz1/NY/DNuQnhc1K9b\n",
       "WUuhF3BMuyrcZJ034v0xyKmEjusoV+yHzYtHGiHXpoaa4roM5ClPi8l69jzmVH6GIaKmCPEAol+U\n",
       "P8FfEiekt/m4EAIP1ttfreI1etHJXDYpZfQZlWhiSMpGxg52IoC2z7fu8zZ0+a8kXkushEvFsztM\n",
       "9erBn0O6omsNKA8PNr/EvQzmIpYKczxmYy3HF8Pr/hACzjI6BFjsTq8eyPkASI4lfVUpF97f3oll\n",
       "0gB66ht9n72cz+xncMw3EoGBE4axXZ3TteN76tu+FX6PvYShITtwFYGlkfke3/0RnwAAASkBnoRq\n",
       "Q38HvueXRACE61csau/BJLyg2vBl25xQ1niVl8rYXOExzrryb3C5Q7rY7fTtJr3dhTEVdZ6c43x1\n",
       "NeLmHFMyqqNBAW2v+nqdUvBC/Kx6Fm3ThKHrF+iN0ZAcvoN47gLRm/Bf3DvaPRH8X8KrEEYXRm90\n",
       "xJb8SAzPIsMzc+83mT2qrwVEP+VG/wHwHeVD6TAafrdFNCzRfeYhZC5kQ6EKLov8mAVZLMEjta7g\n",
       "PbC48iy8Gb/5jGxi1KYOQG/2BQN8M141q3SgWRNW/EDu1HTpaxxwL93jpjqIqYlTFlgwsszghIzf\n",
       "N80Wx8ZLiNts8jYrc7WNPrfiisaQzl2cKg2LxOVr04chKhVJt6GgKVQSHRDFDV82SFviuqui7+Bm\n",
       "K8xL3Wj1QR8AAAJwQZqGSeEKUmUwIf/+qaARQ0AEPx+o9Byxc577OmI+pW4MbtQ43Yv/icWYLQa2\n",
       "T6mqS9bB/BI+Uqnjw6/TZoMQMgbzMaHe/LhrB9Cng/o7TRK0sOoCa/c/W5n71LB3A3g4LMBUuSf9\n",
       "gisFwxQ8aJGy78UFCOtLd//CXJOQL0YA3xZj4PsYKDPsHkBdQMob2zW05Z6WpwuNu3xcguwmhyNg\n",
       "FOKA8615gHybufbIRImPhw8nQPkYc6YbJj4Lu7q3W38fpbv96DYsIYxjvUm11rAV3FRJCRTeokWu\n",
       "r97P5a/qnHiXu6DEXtFmxrDiPIvs1a4V2q7wpg56KGrp+T+OCLkTaoO+l5yZf8lmxBeo1ynXyyK/\n",
       "hX+JPSMpu7T/Dv+M7gs/9lVrZwE1bvWyk5Cr5cshl/ej8Fw4sVdLE1QKh/PJ4sKLhnibE/2pr+PX\n",
       "77K3XuccHwXpYD/2GU81w0sKiRhNWCQpePv5aCu4cc2D2Mb+R/vUQc7FWoR/AgPlv1CTur2PugQo\n",
       "Vqj8fDgCK/JoOKgJ8bhwQ8adts8olLcBvm/Xzkn11oIYAZGwT+rOaEcmSSeQStaIwBP73eD7P0nO\n",
       "rsQhmhEheXn/lMyGyxm/rX8UExeTHZmo4yUgA4ziPZ7ivKmauPGn3yo768+CkevOSE+9oIKBhZeG\n",
       "pfoexwPMksvXvsUIJ0+MAS60Ud+U5L+8Tg34BGcLdAFbs6rdu6H+WfP5dYvvvxrEsENOLTZDxRtn\n",
       "8cTRzZKzXIcezvK0ZwnZDpJa4eVWwJzMEDLoEBZJ4JHXPzSTAjzIkiXBpZ1BW00ntC49ME1KK5oV\n",
       "psv4qBr5OmOnAAACckGap0nhDomUwIf//qmf6i9irRgA2XbT+G25qYVD45VmaX0L5ZkKsU3RavXi\n",
       "nco+0kJOhAqZ7QGfmBfrwAZqUCBkDeZjQ735cNYPoU8H9HaYgAds/8ZVhaA0goxAQZxUjn7DSfBA\n",
       "0/aShuXqE5w66/3pY5cGVRGKuKqKCVPQwlqiuyQECvfQgvuhHuf3RMz3T2/EQeK0X/w8e9PZFFPO\n",
       "X7dZL/q7GNdi54tVBvdpABLsyJewAZKT5tvdx1B7gi+/1wBgTRGrpfJguyRmZBfFHsifVn6gm15u\n",
       "E7JExtJGtdAfvpNGssBcaUm+oDgYjVCt9GRxUHOA+UThkUu6Bq+3anTaNzpNM/tmCIoztvRhbahA\n",
       "S5pvql7qFmJ137aIOjc7O3qgvj841tbe1THseLaJEhfbje4jmHZt0P287NYR5lZ1rzJHD452Kg7E\n",
       "Lnp6a+M0Cju2eRlYMyiEmwMt5Qg6DyQ6kJvCYiNEW2igAiWgfiJ8GXp07aLSlL1LHUcqyLv1317K\n",
       "/iZFHFOh/zZD0nwFsUUoOoqaldmSIp4bwDVU/zUyK8xVHV/y+DE/ZJoOkHCzt+PYXfoeELUWOrmr\n",
       "U2/fcbHfuMeFnkt2IgtSzDaJNdpjrz+JnXmy8pnlKZ3hW7r5SZEZvbSXKuWaqzTXUo51SEawfrUJ\n",
       "ZhO85GiOOFIIWH2IcLwyWtWEI065Ffz1YuvWJw3Qvkrscbv2aSWZI9j02+yBrhph0CU1OAuztICR\n",
       "BNTf/QGs/VMc3Kw8jWZ/MfpunivsC868ixN6tB/to5lSQOaI9uJOAE1otMIKh/e1ebBt1jCzowm5\n",
       "h4X4E4ZHIXLrGwGfAAACi0GayEnhDyZTAh///qmgIIYwAbSZ0DwULDdupYB8ine9zEjVzia0Yc0G\n",
       "lNFMx8rERj0rqiQxQItNIooiN7NpfogJ3tAJFB2284o7VJAUDlN9yQWKblPOMeroa497KVlqJnnD\n",
       "jef+Qv/ecgq/5s3U5JNJCU8nOflzTsTQzwde5o4I73/WRoD/5X5vhn0b6TOVrLedDuM/ekVinBvS\n",
       "/uk9YvjCwKgsYPzI4W8mZpLpWQPFPAKVhvqycIy4xZdUUy7EtZ7+7zFdLk8jAvhcS/2KVRyBYL2Y\n",
       "xZKYmhFoItU/qd/yFWFOFTGDTUhele4mWyhvNa+tzmm4MwNiLQnaNXKJ10Z1vtkidgx+jU3yOYBi\n",
       "Q3kinPGaNoBlYAwBsjjWSOBjzEnNK3nerslMFcry4PTgjodGjY3pgMGvtBKzJ0wKkZLGafii/+Lp\n",
       "cYBfek3TJ2Xm5PJqp6PvOXvwn5HQA5apRA6uAHcrazurFS5hmEeyMrR0UORu3N5OsP4XTLrGZDgt\n",
       "T7+M3UihG3aZXDwbWGdp51+X2dS/AtWB8JFfxlZBoAZ+gzI3N3FO9pbdkQU+tJW9a6rL85IePM6r\n",
       "9ka38jXvCdQVTBgTS0Aa9/zJXvTWiq7V9GzwhOvaKgX6iUCRcdgS1VRXVgONE/AjobvwQFqdayvX\n",
       "19FTxRchmlIVymQRspV1ztxfpHCcETMBYC6QL9Cu4ovX5IhzCus52a7x+lx0+wmOXXq2LoY4lOTU\n",
       "wPSVLtwVt4ktDEebFPZWV2B9+MamTen+wxz5Z1Cak6mRtOjWAXG2VaXH1YEC0MsPpCF8D6tn7PtX\n",
       "2/zDqJg8tKE19HOQbXQC2KVgQffC+ffJQLDUIDUWLJ1fDe7pOKXxiwAAAohBmulJ4Q8mUwIIf/6q\n",
       "WQ/sq1QAAKWnWtW8ll3uEovicio7AhV7ZzhNctyohJOw7mV7+eVCHNWf4cbiKhTZVZZU1//4ANgY\n",
       "eMSoU+33uvJpxnC9lUeow/oeXb0roqtJ5vypRpoVjYs7R9PNPCSdbEobIXFLhuQmaUPT3y0HgCVr\n",
       "sW+rUS68/0cv62+UqcSLT9SHCFaQmH/VROUHYWvvegzHll70WSMJrmB5rw8Npcs0MEfT5HlE667M\n",
       "CbCR5X0dR47EycUQKCLy/yHwf4uWA7RWgT82pg6v0lYSA1GrUwDqu/Waou4fcdphtscX70/+uapj\n",
       "u24o9LmOyNeFKj1bYZbigYAIhp8l/O0IhGmhH0r4JNw7fvbfN2s2lnvnChozB2AvKRrQ9H3CNL1X\n",
       "hgm6aZrf+Xt+R7I8gKO+pCnaizaGZ64Dp+Rm54NL5Lk1lJ5t//Gfj8ztJlwAiYhBGqg6nAaW3CnB\n",
       "0DAGbFD/l+5uTgIQ5Vgr61CFXa/lO6xD0Da3QjN7Ec48+0pC0JksuK6CFuGhLtdMgdtwVftVQgxK\n",
       "nbiRbyGGwUfKW8m5qSZrUiXPqhLfGY+SdZw2rBgLi62J+YLV4Ui+D/9bBm1uG1WQg4M2dRZkBSse\n",
       "e5cZ8n6vtbqySjF2fV1lZV89CEo+jXZclEo+nCxTiY9TJDnYad8In4Rv5ECjh2q65CtFRICuCmXt\n",
       "JBCAznnMGI1pWXVI+Hf+LqHq+oAT8b6RIOi1nkHP3JHTfRd98BoU+sBnaIsI0/LSyur5uqZodMuZ\n",
       "FBbD6m0Viir5Omh0Hibz+YVlqG4lQUXIG3ASPZ+Bgi9lG2EeO948DL/+8LdWWnglx0InvakJD8kc\n",
       "EYvQpueWKDgAAAKyQZsKSeEPJlMCCH/+qlkQ7r54fpjlABEHjAMJgvinYKT2+o0+7X81AxUegPin\n",
       "b+ZCxylEAEGod9Z46Rf/Ra8WTWUdoDxR4ygpWqGk3VKwOpsttyHr16jOj5OPJdcwADgmC9nm8BxA\n",
       "AQOPu7xPAeGMSZG4qLZMtH8PhApQvPB5PoiWiSb3qlfTFtsMTg3YpfHKz0+GCCq1Mn8f+ke64nLm\n",
       "VlRYaEutci49JfjwHRp07kc/FcKjXVfBOfy6EIYNXwkLIQ99SzvhrDo2+luVuoRXD8CZ0rdKqHKB\n",
       "a9UGRNs5FrsS1Y45EL8CdA50ppiVdhaL1HMr5oa/PmDlUTaeTVKc2QHwRwdLxU+HQs2D6B7ZuObc\n",
       "QexkGNekk6exglD7h6tOxfk8EnbiFRl9zdqWArOMmCL2rRtt7xi7Trgdix7/OrsLnLQx/3Ui5WVd\n",
       "IFHqk7mdEpt6gF19FC8xN9s7QoGTav5HVI3gV4mwNENjQGCpdbwnGB+WrUWvEdSXYWzzSOns9hdL\n",
       "l5KIkGlo2zz1wL4l2yw2xiAhnLRBORpFT9K8IQyE3n+cth9KpVKzPh1uT4/OyM0UqMyaWshr54Jd\n",
       "+vhpZex9vaT4AFh7NOZBAjhhQk2E+DJaiKjEw+eOcR7vnwLJis76A1sxmsOdWxmw5rzYGWaXiCby\n",
       "vmWZEjAeNvSONWEUevmhS9Z9FqCZPP53d1FD7rBDkYyOjMH5WJeO2OdWxRQJ5GFBe0e079CCQndX\n",
       "xo6feazCH1oYV4spj8MB9mK7I8f0mScWvIgwYAhN197dtFTafHHBSF5SqmD8cAz87cQwkopgP6F5\n",
       "d73HsADoMtSwXmQDLJIjYqCtSXn0uQ9MlwF0iIvQ8i0aiP5caJ/gv3fdny/S7dGXLNn7FtxvR46a\n",
       "0x1WAl20kN2MfAHQR6SGDTMHAAAC50GbLEnhDyZTBRE8EP/+qllEWSUAEPzRu+17jQLumm5s+d3e\n",
       "JcITrUapf6YFd5n8ZsQOWNRjp5D8JBuG+6Kwbl00g4I7CIzKq0/jetPEADYGHn9WAVS9vM8xz9eC\n",
       "HYUIQGKqS14NGtr/em7LOHQdjFmU4y2jVDoAfcCes7H/g5/b4EbgbZ5Stv7RCDhPMK/huZbGCWyw\n",
       "zv0tD0WXP24k+i1yfnVnuSmrR/o+ej3QPt3IW/CfkL9oA0AbU9gizHf+fVxV3avOPL+eeTRSz8Wf\n",
       "oHob9vn+lAvOR5lB7jb0PmTXaqns0njZ1QJGiC5ooMfMqf0kdtpnIxydz6fcK5AC2kh2p0QQ+uky\n",
       "QbQbJSqJgVPc7bBb79d+DpWQF5oMlO9ArW87UsVl+Ap7C/W05Q/PdpHnvFwDmrRP5kzUOUkjXvxu\n",
       "FBi56Yp2mu4JHtm7G0QEYOYWGZw4UmfBHaGRwi6FIJKWLnnoPh9gga7pjJYlmKO2DlwEiK8raq9M\n",
       "PrZ1nSqa9ypajBvL1aboHT+/y88zXjeUk76o/ql2CrD/uFArJiGib7m2eaCo4dNCrQ5jJsF5l9+N\n",
       "Lzd5PoIcCN7dqnbWRnHH/wnNaXBhmd5Ru9/QhnXxZSJDD6onlyaX+4TQwuW/ZfyBh6Yc5HU++i/H\n",
       "yzaG1DdL97XB31jVW4gxTmkcR6t1BZ23PKOyWfHl02U/qA6TvQrAlaAbUbCcyc3TJpHkV+plECQ8\n",
       "R1skqern7NCBY3lfStw9Ja0Dn8J2UOqFfb3RBcKutMMJdWkF6QiTherFJ2lOySA0Yr/iGxsbGrcd\n",
       "KZLDD2yUg/KfkJ1uwUt/F42h8k/kQxQ3ngGXdWdyEqLJV01rey9bh7u3643qAk5e7zz1TDUTKnKI\n",
       "sgnZsPue3MMfxoFmBB+J+iGK3LeHmPCqJAfmmNLzViggWLHQH+tDhs1rtL9cMwatC3vXoh3yJLyI\n",
       "r/7YmBzEp6PkD1C2TOlHPoCwxd7LAHTAAAAA0wGfS2pDfwej5Vqmpix4AQp2M8LRvtV321DM8hQw\n",
       "+8ORs6lHHKEGm6UfBEWuNJNTQ15xvkEaZh1sDe6c9UWgpln/rDbUN2NjRndfsKozef+S3yUzHXC9\n",
       "RIVZz1fUt4iEAT9Lb3mebpKnjbpI3VactwYyFd/KEuIVffKfNqRugTVdU+Io5wmIOFnHfc+tuijn\n",
       "ReMXsSFjoOOmw8+5umYvXzAlnjuILEyb0rwq9OMwdzNlF3WhRTovzZtwPDTIZ2OcRJczY0Po1CmJ\n",
       "gtv2F/Yu0PwKIuAAAAJWQZtNSeEPJlMCCH/+qlk7HcwADZaiAmrzfEJlS26kiuVHPfSCSlFlyr91\n",
       "k3TWbt/0pXKKhfeZEBZju6ekPyCWgFk17vER1VDGHWTabLvC2itWLvzunTV+Hx4Lf0ptsdCPxcU4\n",
       "OYQH17cymZ8f95VHaxtzj23+3ub13qYlDbQOsYrvw4c2+tMBhZPI9/ficqlJsYGI9S+0U1Bq2EAL\n",
       "9iCAt83PxjG8PkwTdKE0FkXXSZEWIN7ew4qYIhVGtXtVksi+ClNc6Vt4/8qNyE4mTa1Lq+K6/+K8\n",
       "pKI2nxcHul/YBvo9l6iEc1CxOcIvjZCQSZ2UJIN0TriwWuXXh65mL624QU1uCxJm3p3OD2bPXqKS\n",
       "jFyZhwg9+a/m79pOO9/61aVV4dStvXMChCc2NaUfzFelOV8f1HQBgf1vSWHcfJxFaZ3U7Jt1Pewt\n",
       "nmf0NS1dRWaa1nEVok2Jbxp/Fs8sWo7WymAjyOc48/BEwlodxGJHtaAD3jejIig1W5ZSBCXWLJSE\n",
       "PVvx6K48QG0CP+q4KpYdO/L02v+gkViitRNChUEZdEzyEeXIySl2H0LKsVYRiZ/22Jv1rF+h8brD\n",
       "ZBPWmKpXRvQUoCeM5wRKzA6GLt7RamQ1r1TPF6/uZJi/A3z6JiTVPkAkp63xYibCHtI0N7F7uRnK\n",
       "jQUoOSNjSt/8WIQxCGzA11BK2bHexz6SEVfA5HiyGM1TVom9SxnyrNDzxYc6xsOiXYS8kzteeFfZ\n",
       "SAo5m3r608DnU93KhmLOEkMO7tjqdQKlkOf8gkj3yj5HS5fnKfI+tcTzgQAAAnxBm3FJ4Q8mUwIf\n",
       "//6poGbS1oAIeVTcVMe71Xp/KcdBoJvURJsKDOGnRLGmHmLr7jWBfNUh71qiAKeHh1mxBgejyQMg\n",
       "b1lDO+9uKbakYRGpRiKOPkBkQZCjvKaS+L2fHGcN+Ul118ALOtcUL5ymKcDsSv15N3+kB2wFPPfx\n",
       "mSeuYm1KxqSHCR2DLpecjwHSPGWEEkdJAxgGEmHMODVxmx7aEvpFjajlbASuvII8R8m9q6ugbMdZ\n",
       "MiQyWCirwvM5VQH3Yv/cWC5XOLxjCl9KLKpkRdI1V3Dlqpt4klBa7dAV+wuWK3oB8tI8nbQFaYBl\n",
       "E0c4F9DXSbZBh9a9P6Phzur97LWuYDCnG0oso/pm3KSaZeJOmU+XiMgmFQNv0M9qsdEcQ/xWt5mE\n",
       "b4qHQzslpLxx9tPhY/cL5gDt8UbZznlhKO0t570EV9hfJHqiJ2jRrXHKPPchIdCiPCQv1fK/6j+A\n",
       "temxZ74uiiMdEdZHYWFGeiM5GqIScJakMFovGzOjKHsn1GLS/hPUA+R32FJ3Y+Q3zT/DHUHdnbyd\n",
       "sYl/oyekUMBXqRsmFYB4j6RDQ9p4bB49tFd7DhFdpqkJCexIvRZZAKQwGQZAJf0zmlfbTlATC1eK\n",
       "znUKkhm8FMxPYvTnz9Mt0D/2SyJVYMXNZJqxKC1Xd+ayh3Y00+eeKEo6dn9oZJC1/FG00x19tNyI\n",
       "I1fYYfAoE/VXuOZw3sbfUIMh653sQnIO0996FZnTKUhwxowWMHr2KYMRboCZl3Nad2FYvRZhnABd\n",
       "4c2iih39GamPhqzYbWTcMdI9+1QnnL+rTejr1skttbbzK3avtr4WgRO1zGpz05ruL7cvAnSBvNsA\n",
       "AAEpQZ+PRRE8O/8F4TvNPmQATq/uhMNIPCmjtzjtqNaPXx0h3gTLka+4qEnrUildYYq/qqXynSgr\n",
       "7s17Na5gxaGvkEJzaMMLUW5pDDEY+W/Tge2yhnEFByZuwCZBPIZqppzm3pLJBFNs4uH/vDQ4QvrF\n",
       "uXJFU9Au3zq1+mVb2DP3tFHrqSdXlRwIMk/1pEP45x8l43tQZCqKUXYhCOdk90igbfTcnFPHdkxb\n",
       "sfd3f8CqXXMpQW+4qtnE8RqS+IslZ4Bia7G7v7als8uidVkavJlmJhWTFrYX4u2sY9oak9RzdKWY\n",
       "Nz2tysIfc/1GmMxjUP8V1oaxu65M613sSB7dMAWZYCbOkiG11o6znc/ToiLLV5ZEeWl6s7LpdDMz\n",
       "T8LkV7xNRfe86Tq7HhOBAAAA1AGfrnRDfwekPBKwy/sPRACFIxoDdRtyodaousvGCCuqklyDsuiu\n",
       "Pczw9CBI3HFVfbXSag7iFCY2LY3JeMzulNFq2zj4s0KlBuA9anYzcBn3RKmN+4ayjVAVoZc/epwe\n",
       "pkR6+9KkUxlf9HGSUhVe/duc3wXyAiJCVXPPAMiTicvN+/rb7F7g1MY88/Qdw28b9MMuIJsd+XTU\n",
       "rlAt1pgxoZOMrRBEK8DnCx9TuSPPEvu/+Mi9zNnExJxexDgaWEId3awLWMouKqLeOzKzRqrK6znZ\n",
       "QD0gAAAAwAGfsGpDfwekACGfLIANn2S1BDGeuP3lfL02/Q/Ame7GiRgwZFSdf97ujFr8l6h65n7G\n",
       "NsZ8k/AcFSda0N02rqwAwfkgL0eVnlfFKuUnKSP2usuXNhaW9yi1N494+9tUBVp2UvP5SN/RJ20X\n",
       "luNJLN4tKxDbG1LCabMgfqcX+cstudVJ9mATGd+vawksxly4kew5l/nyKceDzZ3CYZLDFfjy08T6\n",
       "zilhgGZGFZQa+WDZpsyvNGuyCClvka+I/6BSQAAAAWZBm7NJqEFomUwU8N/+p5SaNvABzDF4qhjC\n",
       "OCErf3DF34As6D5erNqYPDa/ueDHp/X0LbiXq+xnnbSHmaOj7ftBFk72qj7f1Qgu4JQUWvwe/u3B\n",
       "R/C8Mz2Xp84vELdtu0wL3WShDiLWKm6d+YKJQoO4ypVVK/L72ml/d/IhNMXezpslA9/xHJsJRzVf\n",
       "S1aoF0R/7+dCm3cUmNiedUx20mpJ4DJATGWgV82XPZYrudua6+lFEDbaJZVxqyuS+AwxJG+5ScGX\n",
       "NbeQNBchgzf98HSTr+KebzLYecUOKhWBC5lmRo4iZYFDiHN2bsQ9LweukyRCW0LrEsZZNF4Y7w/n\n",
       "jhHW3AbnB4hgnPWXjBc2k9NQnOA7dsXZoC+OzeLanilFT5PcxVuPMC8iH5dQT6Z/AxsZ/PogfMgN\n",
       "Tqt/z5zg8iHueD9EjLHVt8iCx7k3iMGhIUhdWWLGwxvZNZtHgbbeBHTPx3yLfiZhAAAAyAGf0mpD\n",
       "fwhJnjcQAXXAkLzTNfcdWzq2k6mXzQ53yzv2vJbiQhe3Q9A9YY8teKwN9Cea1QJSobjH0tWzy0Ll\n",
       "j1DE/VaeeVd1xzWf3iJAHTLOQtsSJV0WTWt3AoCeUJPzyg3motp0hpBQFaZvseYvi75ti71Hdf0H\n",
       "28/HgkLmGg4LotJBAuX+Jk3OiGgwAKRkAOn3fMwIasmZk3JAtfC/RIGg9vk1B8gyRJyMg9i9WEY9\n",
       "u+TEsYIz06qaCjzDWeQY3dQR/m4pOge0AAAD9m1vb3YAAABsbXZoZAAAAAAAAAAAAAAAAAAAA+gA\n",
       "AAfQAAEAAAEAAAAAAAAAAAAAAAABAAAAAAAAAAAAAAAAAAAAAQAAAAAAAAAAAAAAAAAAQAAAAAAA\n",
       "AAAAAAAAAAAAAAAAAAAAAAAAAAAAAAAAAAIAAAMgdHJhawAAAFx0a2hkAAAAAwAAAAAAAAAAAAAA\n",
       "AQAAAAAAAAfQAAAAAAAAAAAAAAAAAAAAAAABAAAAAAAAAAAAAAAAAAAAAQAAAAAAAAAAAAAAAAAA\n",
       "QAAAAAGwAAABIAAAAAAAJGVkdHMAAAAcZWxzdAAAAAAAAAABAAAH0AAACAAAAQAAAAACmG1kaWEA\n",
       "AAAgbWRoZAAAAAAAAAAAAAAAAAAAKAAAAFAAVcQAAAAAAC1oZGxyAAAAAAAAAAB2aWRlAAAAAAAA\n",
       "AAAAAAAAVmlkZW9IYW5kbGVyAAAAAkNtaW5mAAAAFHZtaGQAAAABAAAAAAAAAAAAAAAkZGluZgAA\n",
       "ABxkcmVmAAAAAAAAAAEAAAAMdXJsIAAAAAEAAAIDc3RibAAAALNzdHNkAAAAAAAAAAEAAACjYXZj\n",
       "MQAAAAAAAAABAAAAAAAAAAAAAAAAAAAAAAGwASAASAAAAEgAAAAAAAAAAQAAAAAAAAAAAAAAAAAA\n",
       "AAAAAAAAAAAAAAAAAAAAAAAAABj//wAAADFhdmNDAWQAFf/hABhnZAAVrNlBsJaEAAADAAQAAAMA\n",
       "UDxYtlgBAAZo6+PLIsAAAAAcdXVpZGtoQPJfJE/FujmlG88DI/MAAAAAAAAAGHN0dHMAAAAAAAAA\n",
       "AQAAABQAAAQAAAAAFHN0c3MAAAAAAAAAAQAAAAEAAACIY3R0cwAAAAAAAAAPAAAAAQAACAAAAAAB\n",
       "AAAQAAAAAAIAAAQAAAAAAQAADAAAAAABAAAEAAAAAAUAAAgAAAAAAQAADAAAAAABAAAEAAAAAAEA\n",
       "AAgAAAAAAQAAFAAAAAABAAAIAAAAAAEAAAAAAAAAAQAABAAAAAABAAAMAAAAAAEAAAQAAAAAHHN0\n",
       "c2MAAAAAAAAAAQAAAAEAAAAUAAAAAQAAAGRzdHN6AAAAAAAAAAAAAAAUAAAauAAABk4AAAIZAAAB\n",
       "ZwAAA1oAAAEtAAACdAAAAnYAAAKPAAACjAAAArYAAALrAAAA1wAAAloAAAKAAAABLQAAANgAAADE\n",
       "AAABagAAAMwAAAAUc3RjbwAAAAAAAAABAAAALAAAAGJ1ZHRhAAAAWm1ldGEAAAAAAAAAIWhkbHIA\n",
       "AAAAAAAAAG1kaXJhcHBsAAAAAAAAAAAAAAAALWlsc3QAAAAlqXRvbwAAAB1kYXRhAAAAAQAAAABM\n",
       "YXZmNTguMTIuMTAw\n",
       "\">\n",
       "  Your browser does not support the video tag.\n",
       "</video>"
      ],
      "text/plain": [
       "<IPython.core.display.HTML object>"
      ]
     },
     "execution_count": 11,
     "metadata": {},
     "output_type": "execute_result"
    }
   ],
   "source": [
    "# Display the video\n",
    "HTML(anime.to_html5_video())"
   ]
  }
 ],
 "metadata": {
  "kernelspec": {
   "display_name": "Python 3",
   "language": "python",
   "name": "python3"
  },
  "language_info": {
   "codemirror_mode": {
    "name": "ipython",
    "version": 3
   },
   "file_extension": ".py",
   "mimetype": "text/x-python",
   "name": "python",
   "nbconvert_exporter": "python",
   "pygments_lexer": "ipython3",
   "version": "3.6.5"
  }
 },
 "nbformat": 4,
 "nbformat_minor": 2
}
