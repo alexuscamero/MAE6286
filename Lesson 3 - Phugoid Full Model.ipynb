{
 "cells": [
  {
   "cell_type": "markdown",
   "metadata": {},
   "source": [
    "# Phugoid Full Model"
   ]
  },
  {
   "cell_type": "markdown",
   "metadata": {},
   "source": [
    "Dynamic model, with lift, weight, drag, and $\\theta$, the positive angle of the trajectory"
   ]
  },
  {
   "cell_type": "markdown",
   "metadata": {},
   "source": [
    "### System of Equations:\n",
    "\n",
    "$$ \\begin{align}\n",
    "v' & = -g\\, \\sin \\theta - \\frac{C_D}{C_L} \\frac{g}{v_t^2} v^2 \\\\\n",
    "\\theta' & = - \\frac{g}{v}\\, \\cos \\theta + \\frac{g}{v_t^2}\\, v\n",
    "\\end{align} $$"
   ]
  },
  {
   "cell_type": "markdown",
   "metadata": {},
   "source": [
    "### The Initial Value Problem\n",
    "\n",
    "Position of the glider on a vertical plane with respect to an inertial frame of reference:\n",
    "\n",
    "$$ \\begin{align}\n",
    "x' (t) & = v\\, \\cos \\theta \\\\\n",
    "y' (t) & = v\\, \\sin \\theta\n",
    "\\end{align} $$\n",
    "\n",
    "Initial values for every unknown:\n",
    "\n",
    "$$ \\begin{align}\n",
    "v (0) = v_0 \\quad \\text {and} \\quad \\theta (0) = \\theta_0 \\\\\n",
    "x (0) = x_0 \\quad \\text {and} \\quad y (0) = y_0 \\\\\n",
    "\\end{align} $$"
   ]
  },
  {
   "cell_type": "code",
   "execution_count": null,
   "metadata": {},
   "outputs": [],
   "source": []
  }
 ],
 "metadata": {
  "kernelspec": {
   "display_name": "Python 3",
   "language": "python",
   "name": "python3"
  },
  "language_info": {
   "codemirror_mode": {
    "name": "ipython",
    "version": 3
   },
   "file_extension": ".py",
   "mimetype": "text/x-python",
   "name": "python",
   "nbconvert_exporter": "python",
   "pygments_lexer": "ipython3",
   "version": "3.6.5"
  }
 },
 "nbformat": 4,
 "nbformat_minor": 2
}
