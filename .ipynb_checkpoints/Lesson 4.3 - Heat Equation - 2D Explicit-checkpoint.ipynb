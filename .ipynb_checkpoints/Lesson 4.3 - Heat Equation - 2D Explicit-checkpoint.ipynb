{
 "cells": [
  {
   "cell_type": "markdown",
   "metadata": {},
   "source": [
    "# Spreading Out"
   ]
  },
  {
   "cell_type": "markdown",
   "metadata": {},
   "source": [
    "## 2D Heat Conduction\n",
    "The equation of heat conduction in 2D is:\n",
    "\n",
    "$$\n",
    "\\begin{equation}\n",
    "\\rho c_p \\frac{\\partial T}{\\partial t} = \\frac{\\partial}{\\partial x} \\left( \\kappa_x \\frac{\\partial T}{\\partial x} \\right) + \\frac{\\partial}{\\partial y} \\left(\\kappa_y \\frac{\\partial T}{\\partial y} \\right)\n",
    "\\end{equation}\n",
    "$$\n",
    "\n",
    "where $\\rho$ is the density, $c_p$ is the heat capacity and $\\kappa$ is the thermal conductivity.\n",
    "\n",
    "If the thermal conductivity $\\kappa$ is constant, then we can take it outside of the spatial derivative and the equation simplifies to:\n",
    "\n",
    "$$\n",
    "\\begin{equation}\n",
    "\\frac{\\partial T}{\\partial t} = \\alpha \\left(\\frac{\\partial^2 T}{\\partial x^2} + \\frac{\\partial^2 T}{\\partial y^2} \\right)\n",
    "\\end{equation}\n",
    "$$\n",
    "\n",
    "where $\\alpha = \\frac{\\kappa}{\\rho c_p}$ is the thermal diffusivity.  The thermal diffusivity describes the ability of a material to conduct heat vs. storing it."
   ]
  },
  {
   "cell_type": "markdown",
   "metadata": {},
   "source": [
    "### Problem\n",
    "\n",
    "Consider a micro-chip as a 2D plate of\n",
    "- size 1 cm x 1 cm,\n",
    "- made of Silicon\n",
    "    - $\\kappa = 159{\\rm W/m C}$,\n",
    "    - $c_p = 0.712\\cdot 10^3 {\\rm J/kg C}$,\n",
    "    - $\\rho = 2329{\\rm kg/m}^3$, and\n",
    "    - diffusivity $\\alpha \\approx 10^{-4}{\\rm m}^2{/\\rm s}$.\n",
    "- Silicon melts at $1414 {\\rm C}$, but chips should of course operate at much smaller temperatures. The maximum temperature allowed depends on the processor make and model; in many cases, the maximum temperature is somewhere between $60{\\rm C}$ and $\\sim70{\\rm C}$, but better CPUs are recommended to operate at a maximum of $80{\\rm C}$, (like the Intel Core i7, for example)."
   ]
  },
  {
   "cell_type": "markdown",
   "metadata": {},
   "source": [
    "### 2D Finite Differences\n",
    "\n",
    "We will use a 2D Cartesian grid: one that consists of two families of (grid) lines parallel to the two spatial directions. Two lines (of different families) intersect on one and only one grid node (this is called a _structured_ grid).\n",
    "\n",
    "In the $x$ direction, the discretization uses $i=0, \\cdots N_x$ lines.\n",
    "\n",
    "In the $y$ direction, we have $j=0, \\cdots N_y$ lines.\n",
    "\n",
    "A given node on the grid will now have two spatial coordinates, and we need two indices: for the two lines that intersect at that node.  For example, the middle point in the figure below would be $T_{i,j}$."
   ]
  },
  {
   "cell_type": "markdown",
   "metadata": {},
   "source": [
    "### Explicit Scheme in 2D\n",
    "Discretized using forward difference in time, and central difference in space,  using an explicit scheme:\n",
    "$$\n",
    "\\begin{equation}\n",
    "\\frac{T^{n+1}_{i,j} - T^n_{i,j}}{\\Delta t} = \\alpha \\left( \\frac{T^n_{i+1, j} - 2T^n_{i,j} + T^n_{i-1,j}}{\\Delta x^2} + \\frac{T^n_{i, j+1} - 2T^n_{i,j} + T^n_{i,j-1}}{\\Delta y^2}\\right)\n",
    "\\end{equation}\n",
    "$$\n",
    "\n",
    "Rearranging the equation to solve for the value at the next time step, $T^{n+1}_{i,j}$, yields\n",
    "\n",
    "$$\n",
    "\\begin{equation}\n",
    "T^{n+1}_{i,j}= T^n_{i,j} + \\alpha \\left( \\frac{\\Delta t}{\\Delta x^2} (T^n_{i+1, j} - 2T^n_{i,j} + T^n_{i-1,j}) + \\\\\\frac{\\Delta t}{\\Delta y^2} (T^n_{i, j+1} - 2T^n_{i,j} + T^n_{i,j-1})\\right)\n",
    "\\end{equation}\n",
    "$$"
   ]
  },
  {
   "cell_type": "markdown",
   "metadata": {},
   "source": [
    "Similar to all of the 1D explicit methods we've used, the solution at $T^{n+1}_{i,j}$ is updated using only known values from the current solution at time $n$. This is straightforward to implement in code, but will be subject to stability limitations on the time step that you can choose."
   ]
  },
  {
   "cell_type": "markdown",
   "metadata": {},
   "source": [
    "### Boundary Conditions\n",
    "If the boundary has Dirichlet conditions, we simply impose the prescribed temperature at that point. If the boundary has Neumann conditions, we approximate them with a finite-difference scheme.\n",
    "\n",
    "Remember, Neumann boundary conditions prescribe the derivative in the normal direction.\n",
    "\n",
    "We have $\\frac{\\partial T}{\\partial y} = q_y$ in the top boundary and $\\frac{\\partial T}{\\partial x} = q_x$ in the right boundary, with $q_y = q_x = 0$ (insulation).\n",
    "\n",
    "Thus, at every time step, we need to enforce\n",
    "\n",
    "$$\n",
    "\\begin{equation}\n",
    "T_{i,end} = q_y\\cdot\\Delta y + T_{i,end-1}\n",
    "\\end{equation}\n",
    "$$\n",
    "\n",
    "and\n",
    "\n",
    "$$\n",
    "\\begin{equation}\n",
    "T_{end,j} = q_x\\cdot\\Delta x + T_{end-1,j}\n",
    "\\end{equation}\n",
    "$$"
   ]
  },
  {
   "cell_type": "markdown",
   "metadata": {},
   "source": [
    "### Stability \n",
    "In 2D stability constraints, we need to add them in both directions: \n",
    "\n",
    "$$\n",
    "\\begin{equation}\n",
    "\\alpha \\frac{\\Delta t}{(\\Delta x)^2} + \\alpha \\frac{\\Delta t}{(\\Delta y)^2} < \\frac{1}{2}.\n",
    "\\end{equation}\n",
    "$$\n",
    "\n",
    "Say that the mesh has the same spacing in $x$ and $y$, $\\Delta x = \\Delta y = \\delta$. In that case, the stability condition is:\n",
    "\n",
    "$$\n",
    "\\begin{equation}\n",
    "\\alpha \\frac{\\Delta t}{\\delta^2} < \\frac{1}{4}\n",
    "\\end{equation}\n",
    "$$"
   ]
  },
  {
   "cell_type": "markdown",
   "metadata": {},
   "source": [
    "## Code"
   ]
  },
  {
   "cell_type": "code",
   "execution_count": 1,
   "metadata": {},
   "outputs": [],
   "source": [
    "import numpy as np\n",
    "from matplotlib import pyplot as py\n",
    "%matplotlib inline\n",
    "\n",
    "# Font family and size to use for Matplotlib figures.\n",
    "py.rcParams['font.family'] = 'serif'\n",
    "py.rcParams['font.size'] = 16"
   ]
  },
  {
   "cell_type": "code",
   "execution_count": 2,
   "metadata": {},
   "outputs": [],
   "source": [
    "'''\n",
    "    Computes the temperature distribution with the given number\n",
    "        of time steps.\n",
    "    Explicit integration using forward differencing in time and\n",
    "        central differincing in space, with Neumann conditions\n",
    "        (zero-gradient) on top and right boundaries and\n",
    "        Dirichlet conditions on bottom and left boundaries.\n",
    "        \n",
    "    T0 : np.ndarray, initial temperature distribution\n",
    "    nt : integer, max number of time steps to compute\n",
    "    dt : float, time-step size\n",
    "    dx : float, grid spacing in the x - direction\n",
    "    dy : float, grid spacing in the y - direction\n",
    "    alpha : float, thermal diffusivity\n",
    "    \n",
    "    Returns:\n",
    "    T : np.ndarray, temperature distribution as a 2D \n",
    "            array of floats\n",
    "'''\n",
    "\n",
    "def ftcs(t0, nt, dt, dx, dy, alpha):\n",
    "    # Constants\n",
    "    sigma_x = alpha * dt / dx**2\n",
    "    sigma_y = alpha * dt / dy**2\n",
    "    \n",
    "    # Integrate in time\n",
    "    T = T0.copy()\n",
    "    ny, nx = T.shape\n",
    "    I, J = int(nx/2), int(ny/2)   # indices of the center\n",
    "    for n in range(nt):\n",
    "        T[1:-1, 1:-1] = (T[1:-1, 1:-1] +\n",
    "            sigma_x * (T[1:-1, 2:] - 2.0 * T[1:-1, 1:-1] + T[1:-1, :-2]) +\n",
    "            sigma_y * (T[2:, 1:-1] - 2.0 * T[1:-1, 1:-1] + T[:-2, 1:-1]))\n",
    "        # Neumann Conditions (zero-gradient)\n",
    "        T[-1, :] = T[-2, :]\n",
    "        T[:, -1] = T[:, -2]\n",
    "        # Check if the center of the domain has reached T = 70 C\n",
    "        if T[J, I] >= 70.0:\n",
    "            break\n",
    "    print('[Time Step {}] Center at T = {:.2f} at t = {:.2f} s'\n",
    "        .format(n + 1, T[J, I], (n + 1) * dt))\n",
    "    \n",
    "    return T"
   ]
  },
  {
   "cell_type": "markdown",
   "metadata": {},
   "source": [
    "The `break` statement exits the `for` loop at the closest time iteration when the plate reaches 70 C."
   ]
  },
  {
   "cell_type": "code",
   "execution_count": 3,
   "metadata": {},
   "outputs": [],
   "source": [
    "# Parameters\n",
    "Lx = 0.01   # length of the plate in the x direction\n",
    "Ly = 0.01   # height of the plate in the y direction\n",
    "nx = 21   # number of points in the x direction\n",
    "ny = 21   # number of points in the y direction\n",
    "dx = Lx / (nx - 1)   # grid spacing in the x direction\n",
    "dy = Ly / (ny - 1)   # grid spacing in the y direction\n",
    "alpha = 1e-4   # thermal diffusivity of the plate\n",
    "\n",
    "# Locations along a gridline\n",
    "x = np.linspace(0.0, Lx, num = nx)\n",
    "y = np.linspace(0.0, Ly, num = ny)\n",
    "\n",
    "# Initial temperature distribution\n",
    "Tb = 100.0   # temperature at the left and bottom boundaries\n",
    "T0 = 20.0 * np.ones((ny, nx))\n",
    "T0[0, :] = Tb\n",
    "T0[:, 0] = Tb"
   ]
  },
  {
   "cell_type": "markdown",
   "metadata": {},
   "source": [
    "Time step with $\\frac{\\alpha \\Delta t}{\\Delta x^2} = \\frac{\\alpha \\Delta t}{\\Delta y^2} = \\frac{1}{4}$: "
   ]
  },
  {
   "cell_type": "code",
   "execution_count": 4,
   "metadata": {},
   "outputs": [
    {
     "name": "stdout",
     "output_type": "stream",
     "text": [
      "[Time Step 256] Center at T = 70.02 at t = 0.16 s\n"
     ]
    }
   ],
   "source": [
    "# Time-step size based on CFL limit of sigma = 0.25\n",
    "sigma = 0.25\n",
    "dt = sigma * min(dx, dy)**2 / alpha   # time-step size\n",
    "nt = 500   # number of time steps to compute\n",
    "\n",
    "# Temperature along the rod\n",
    "T = ftcs(T0, nt, dt, dx, dy, alpha)"
   ]
  },
  {
   "cell_type": "markdown",
   "metadata": {},
   "source": [
    "## Results Visualization\n",
    "`pyplot.contourf` produces a contour plot. ('f' denotes \"filled\" contours)"
   ]
  },
  {
   "cell_type": "code",
   "execution_count": 5,
   "metadata": {},
   "outputs": [
    {
     "data": {
      "image/png": "[encoded data removed]",
      "text/plain": [
       "<Figure size 576x360 with 2 Axes>"
      ]
     },
     "metadata": {},
     "output_type": "display_data"
    }
   ],
   "source": [
    "# Filled contour of the temperature\n",
    "py.figure(figsize = (8.0, 5.0))\n",
    "py.xlabel('x [m]')\n",
    "py.ylabel('y [m]')\n",
    "levels = np.linspace(20.0, 100.0, num = 51)\n",
    "contf = py.contourf(x, y, T, levels = levels)\n",
    "cbar = py.colorbar(contf)\n",
    "cbar.set_label('Temperature [C]')\n",
    "py.axis('scaled', adjustable = 'box');"
   ]
  }
 ],
 "metadata": {
  "kernelspec": {
   "display_name": "Python 3",
   "language": "python",
   "name": "python3"
  },
  "language_info": {
   "codemirror_mode": {
    "name": "ipython",
    "version": 3
   },
   "file_extension": ".py",
   "mimetype": "text/x-python",
   "name": "python",
   "nbconvert_exporter": "python",
   "pygments_lexer": "ipython3",
   "version": "3.6.5"
  }
 },
 "nbformat": 4,
 "nbformat_minor": 2
}
