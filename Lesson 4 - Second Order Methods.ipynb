{
 "cells": [
  {
   "cell_type": "markdown",
   "metadata": {},
   "source": [
    "# Second - Order Methods"
   ]
  },
  {
   "cell_type": "markdown",
   "metadata": {},
   "source": [
    "* Error is ${\\mathcal O}(\\Delta t^2)$\n",
    "* A method is of order $p$ whenn the error is proportional to $(\\Delta t)^p$"
   ]
  },
  {
   "cell_type": "markdown",
   "metadata": {},
   "source": [
    "* Explicit midpoint method, or the modified Euler method\n",
    "$$ \\begin{align}\n",
    "u_{n+1/2}   & = u_n + \\frac{\\Delta t}{2} f(u_n) \\\\\n",
    "u_{n+1} & = u_n + \\Delta t \\,\\, f(u_{n+1/2})\n",
    "\\end{align} $$"
   ]
  },
  {
   "cell_type": "markdown",
   "metadata": {},
   "source": [
    "* It improves the accuracy over Euler's method by evaluating the right-hand side of the differential equation at an intermediate point - the midpoint\n",
    "* Same idea can be applied again, and the function $f(u)$ can be evaluated at more intermediate points, improving the accuracy even more\n",
    "$--$ Runge - Kutta Methods"
   ]
  },
  {
   "cell_type": "markdown",
   "metadata": {},
   "source": [
    "## Phugoid model with 2nd - order RK"
   ]
  },
  {
   "cell_type": "code",
   "execution_count": 31,
   "metadata": {},
   "outputs": [],
   "source": [
    "import math\n",
    "import numpy\n",
    "from matplotlib import pyplot as py\n",
    "% matplotlib inline"
   ]
  },
  {
   "cell_type": "code",
   "execution_count": 5,
   "metadata": {},
   "outputs": [],
   "source": [
    "# Font family and size for Matplotlib figures\n",
    "#   for default plottibng formats\n",
    "pyplot.rcParams['font.family'] = 'serif'\n",
    "pyplot.rcParams['font.size'] = 16"
   ]
  },
  {
   "cell_type": "code",
   "execution_count": 9,
   "metadata": {},
   "outputs": [],
   "source": [
    "# Parameters\n",
    "g = 9.81  # gravitational acceleration, m/s^2\n",
    "vt = 4.9  # trim velocity, m/s\n",
    "CD = 1.0 / 5.0  # drag coefficient\n",
    "CL = 1.0  # lift coefficient\n",
    "\n",
    "# Initial Conditions\n",
    "v0 = 6.5  # start at the trim velocity\n",
    "theta0 = -0.1  # trajectory angle\n",
    "x0 = 0.0  # horizontal position\n",
    "y0 = 2.0  # vertical position, altitude"
   ]
  },
  {
   "cell_type": "code",
   "execution_count": 12,
   "metadata": {},
   "outputs": [],
   "source": [
    "\"\"\" Function to return the right - hand side \n",
    "        of the phugoid system of equations\n",
    "    ----------------------------------------\n",
    "    u : list or nump.ndarray, solution at the previous time \n",
    "            step as a list or 1D array of four floats\n",
    "    CL : float, lift coefficient\n",
    "    CD : float, drag coefficient\n",
    "    g : float, gravitational acceleration\n",
    "    vt : float, trim velocity\n",
    "\"\"\" \n",
    "\n",
    "def rhs_phugoid(u, CL, CD, g, vt):\n",
    "    v, theta, x, y = u\n",
    "    rhs = numpy.array([ -g * math.sin(theta) - CD/CL * g/vt**2 * v**2,\n",
    "                          -g * math.cos(theta) / v+g / vt**2 * v,\n",
    "                          v * math.cos(theta),\n",
    "                          v * math.sin(theta)])\n",
    "    return rhs"
   ]
  },
  {
   "cell_type": "code",
   "execution_count": 20,
   "metadata": {},
   "outputs": [],
   "source": [
    "\"\"\" Function to return the solution at the  \n",
    "        next time step using Euler's method\n",
    "    ----------------------------------------\n",
    "    u : nump.ndarray, solution at the previous time \n",
    "            step as a 1D array of floats\n",
    "    f : function, computes the right-hand side of the system\n",
    "    dt : float, time-step size\n",
    "    args : tuple, optional, positional arguments to pass\n",
    "                the function f\n",
    "\"\"\" \n",
    "\n",
    "def euler(u, f, dt, *args):\n",
    "    u_new = u + dt*f(u,*args)\n",
    "    return u_new"
   ]
  },
  {
   "cell_type": "code",
   "execution_count": 46,
   "metadata": {},
   "outputs": [],
   "source": [
    "\"\"\" Function to return the difference in the L1-norm between\n",
    "        the solution on a coarse grid, and on a fine grid\n",
    "    ----------------------------------------\n",
    "    u_coarse : nump.ndarray, solution on the coarse grid\n",
    "            as a 1D array of floats\n",
    "    u_fine : nump.ndarray, solution on the fine grid\n",
    "            as a 1D array of floats\n",
    "    dt : float, time-step size\n",
    "\"\"\" \n",
    "\n",
    "def l1_diff(u_coarse, u_fine, dt):\n",
    "    N_coarse = u_coarse.shape[0]\n",
    "    N_fine = u_fine.shape[0]\n",
    "    ratio = math.ceil(N_fine / N_coarse)\n",
    "    diff = dt* numpy.sum(numpy.abs( u_coarse - u_fine[::ratio]))\n",
    "    return diff"
   ]
  },
  {
   "cell_type": "code",
   "execution_count": 47,
   "metadata": {},
   "outputs": [],
   "source": [
    "\"\"\" Function to compute the next time step using the modified\n",
    "        Euler method of equations (1) and (2)\n",
    "    Using the 2nd - order Runge - Kutta \n",
    "    ----------------------------------------\n",
    "    u : nump.ndarray, solution at the previous time step\n",
    "            as a 1D array of floats\n",
    "    f : function, computes the right-hand side of the system\n",
    "    dt : float, time-step size\n",
    "    args : tuple, optional, positional arguments to pass\n",
    "                the function f\n",
    "\"\"\" \n",
    "\n",
    "def rk2(u, f, dt, *args):\n",
    "    u_star = u + 0.5 * dt * f(u, *args)\n",
    "    u_new = u + dt * f(u_star, *args)\n",
    "    return u_new"
   ]
  },
  {
   "cell_type": "code",
   "execution_count": 48,
   "metadata": {},
   "outputs": [],
   "source": [
    "# time discretization\n",
    "T = 15.0  # length of time interval\n",
    "dt = 0.01  # time-step size\n",
    "N = int(T/dt) + 1  # number of time steps\n",
    "\n",
    "# arrays to store the solution at each time step\n",
    "u_euler = numpy.empty((N,4))\n",
    "u_rk2 = numpy.empty((N,4))\n",
    "\n",
    "# initial conditions\n",
    "u_euler[0] = numpy.array([v0, theta0, x0, y0])\n",
    "u_rk2[0] = numpy.array([v0, theta0, x0, y0])\n",
    "\n",
    "# time integration with both method\n",
    "for n in range(N-1):\n",
    "    u_euler[n+1] = euler(u_euler[n], rhs_phugoid, dt, CL, CD, g, vt)\n",
    "    u_rk2[n+1] = rk2(u_rk2[n], rhs_phugoid, dt, CL, CD, g, vt)\n"
   ]
  },
  {
   "cell_type": "code",
   "execution_count": 49,
   "metadata": {},
   "outputs": [],
   "source": [
    "# glider's position over time\n",
    "x_euler = u_euler[:,2]\n",
    "y_euler = u_euler[:,3]\n",
    "x_rk2 = u_rk2[:,2]\n",
    "y_rk2 = u_rk2[:,3]"
   ]
  },
  {
   "cell_type": "markdown",
   "metadata": {},
   "source": [
    "[`numpy.where`] - returns the indices of the elements in an array that \n",
    "        match a given condition"
   ]
  },
  {
   "cell_type": "code",
   "execution_count": 50,
   "metadata": {},
   "outputs": [],
   "source": [
    "# index of the first negative element of y_euler\n",
    "index_neg_euler = numpy.where(y_euler < 0.0)[0]\n",
    "if len(index_neg_euler) == 0:\n",
    "    index_ground_euler = N - 1\n",
    "    print('[Euler] Glider has not touched ground yet!')\n",
    "else:\n",
    "    index_ground_euler = index_neg_euler[0]\n",
    "    \n",
    "# index of the first negative element of y_rk2\n",
    "index_neg_rk2 = numpy.where(y_rk2 < 0.0)[0]\n",
    "if len(index_neg_rk2) == 0:\n",
    "    index_ground_rk2 = N - 1\n",
    "    print('[RK2] Glider has not touched ground yet!')\n",
    "else:\n",
    "    index_ground_rk2 = index_neg_rk2[0]"
   ]
  },
  {
   "cell_type": "markdown",
   "metadata": {},
   "source": [
    "[`numpy.allclose`] - compare each element of two arrays and return 'True' if each comparison is within some relative tolerance. The default tolerance is $10^{-5}$."
   ]
  },
  {
   "cell_type": "code",
   "execution_count": 51,
   "metadata": {},
   "outputs": [
    {
     "name": "stdout",
     "output_type": "stream",
     "text": [
      "Are the x-values close? False\n",
      "Are the y-values close? False\n"
     ]
    }
   ],
   "source": [
    "# checks if two scheme leads to the same numerical solution\n",
    "print('Are the x-values close? {}'.format(numpy.allclose(x_euler,x_rk2)))\n",
    "print('Are the y-values close? {}'.format(numpy.allclose(y_euler,y_rk2)))"
   ]
  },
  {
   "cell_type": "code",
   "execution_count": 52,
   "metadata": {},
   "outputs": [
    {
     "name": "stdout",
     "output_type": "stream",
     "text": [
      "Distance traveled: 14.516\n"
     ]
    },
    {
     "data": {
      "image/png": "[encoded data removed]",
      "text/plain": [
       "<Figure size 648x432 with 2 Axes>"
      ]
     },
     "metadata": {},
     "output_type": "display_data"
    }
   ],
   "source": [
    "# plot of the glider's path\n",
    "print('Distance traveled: {:.3f}'.format(x_rk2[index_ground_rk2 -1]))\n",
    "\n",
    "py.figure(figsize = (9.0, 6.0))\n",
    "\n",
    "py.subplot(121)\n",
    "py.grid()\n",
    "py.xlabel('x')\n",
    "py.ylabel('y')\n",
    "py.plot(x_euler[:index_ground_euler], y_euler[:index_ground_euler],\n",
    "           label = 'Euler')\n",
    "py.plot(x_rk2[:index_ground_rk2], y_rk2[:index_ground_rk2],\n",
    "           label = 'RK2')\n",
    "py.legend();\n",
    "\n",
    "py.subplot(122)\n",
    "py.grid()\n",
    "py.xlabel('x')\n",
    "py.ylabel('y')\n",
    "py.plot(x_euler, y_euler, label = 'Euler')\n",
    "py.plot(x_rk2, y_rk2, label = 'RK2')\n",
    "py.xlim(0.0, 5.0)\n",
    "py.ylim(1.9, 2.5);"
   ]
  },
  {
   "cell_type": "markdown",
   "metadata": {},
   "source": [
    "Both Euler and RK2 methods will converge to the same solution as we refine the grid - but at different rates, RK2 gets more accurate faster, as $\\Delta t$ gets smaller"
   ]
  },
  {
   "cell_type": "markdown",
   "metadata": {},
   "source": [
    "## Grid - Convergence"
   ]
  },
  {
   "cell_type": "markdown",
   "metadata": {},
   "source": [
    "The code below uses a `for` - lopp that computes the solution on different time grids, with the coarses and finest grid differing by 100x. "
   ]
  },
  {
   "cell_type": "code",
   "execution_count": 53,
   "metadata": {},
   "outputs": [],
   "source": [
    "# set the list of time-step sizes to investigate\n",
    "dt_values = [0.1, 0.04, 0.01, 0.005, 0.001]\n",
    "\n",
    "# empy list to store the solution for each time step size\n",
    "u_values = []\n",
    "\n",
    "for dt in dt_values:\n",
    "    N = int(T/dt) + 1  # number of time-steps\n",
    "    \n",
    "    # initial conditions\n",
    "    u = numpy.empty((N,4))\n",
    "    u[0] = numpy.array([v0, theta0, x0, y0])\n",
    "    \n",
    "    # time integration using RK2 method\n",
    "    for n in range(N-1):\n",
    "        u[n+1] = rk2(u[n], rhs_phugoid, dt, CL, CD, g, vt)\n",
    "        u_values.append(u)"
   ]
  },
  {
   "cell_type": "code",
   "execution_count": 54,
   "metadata": {},
   "outputs": [],
   "source": [
    "# computes the differences in the x - position for all grids\n",
    "diff_values = []\n",
    "for u, dt in zip(u_values, dt_values):\n",
    "    diff = l1_diff(u[:,2], u_values[-1][:,2], dt)\n",
    "    diff_values.append(diff)"
   ]
  },
  {
   "cell_type": "code",
   "execution_count": 57,
   "metadata": {},
   "outputs": [
    {
     "data": {
      "image/png": "[encoded data removed]",
      "text/plain": [
       "<Figure size 432x432 with 1 Axes>"
      ]
     },
     "metadata": {},
     "output_type": "display_data"
    }
   ],
   "source": [
    "# plot difference versus time-step size\n",
    "py.figure(figsize = (6.0, 6.0))\n",
    "py.title('L1 - norm of the difference versus time-step size')\n",
    "py.xlabel('$\\Delta t$')\n",
    "py.ylabel('Difference')\n",
    "py.grid()\n",
    "py.loglog(dt_values[:-1], diff_values[:-1],\n",
    "         color = 'C0', linestyle = '--', marker = 'o')\n",
    "py.axis('equal');"
   ]
  },
  {
   "cell_type": "markdown",
   "metadata": {},
   "source": [
    "To compute the observed order of convergence, the code below uses three grid resolution that refined at a constant rate, $r = 2$"
   ]
  },
  {
   "cell_type": "code",
   "execution_count": 59,
   "metadata": {},
   "outputs": [
    {
     "name": "stdout",
     "output_type": "stream",
     "text": [
      "Observed order of convergence: p = 1.996\n"
     ]
    }
   ],
   "source": [
    "r = 2  # time-step sie refinement ratio\n",
    "h = 0.001  # finest time-step size\n",
    "\n",
    "dt_values = [h, r*h, r**2 *h]\n",
    "u_values = []\n",
    "\n",
    "for dt in dt_values:\n",
    "    N = int(T/dt) + 1  # number of time-steps\n",
    "    \n",
    "    # initial conditions\n",
    "    u = numpy.empty((N,4))\n",
    "    u[0] = numpy.array([v0, theta0, x0, y0])\n",
    "    \n",
    "    # time integration using RK2\n",
    "    for n in range(N-1):\n",
    "        u[n+1] = rk2(u[n], rhs_phugoid, dt, CL, CD, g, vt)\n",
    "    \n",
    "    # solution fo the present time grid\n",
    "    u_values.append(u)\n",
    "    \n",
    "# computes the observed order of convergence\n",
    "p = (math.log(l1_diff(u_values[2], u_values[1], dt_values[2]) /\n",
    "                 l1_diff(u_values[1], u_values[0], dt_values[1])) /\n",
    "                    math.log(r))\n",
    "\n",
    "print('Observed order of convergence: p = {:.3f}'.format(p))"
   ]
  },
  {
   "cell_type": "markdown",
   "metadata": {},
   "source": [
    "## Multi - Step Methods"
   ]
  },
  {
   "cell_type": "markdown",
   "metadata": {},
   "source": [
    "* involving the calculation of the solution $u_{n+1}$ the known solution at $u_{n-1}$, in addition to $u_{n}$"
   ]
  },
  {
   "cell_type": "markdown",
   "metadata": {},
   "source": [
    "* by applying centered difference approximation of the derivative $u'$:\n",
    "\n",
    "$$ u'(t) \\approx \\frac{u_{n+1} - u_{n-1}}{2\\Delta t} $$"
   ]
  },
  {
   "cell_type": "markdown",
   "metadata": {},
   "source": [
    "* then, $$ u_{n+1} = u_{n-1} + 2\\Delta t \\, f(u_n) $$"
   ]
  },
  {
   "cell_type": "markdown",
   "metadata": {},
   "source": [
    "* This is known as the leapfrog method.\n",
    "    * where the time interval between these two solutions is $2\\Delta t$"
   ]
  },
  {
   "cell_type": "code",
   "execution_count": 61,
   "metadata": {},
   "outputs": [],
   "source": [
    "# leapfrog method\n",
    "\"\"\" Returns the solution at the next time step\n",
    "        using leapfrog method\n",
    "    ----------------------------------------\n",
    "    prev : nump.ndarray, solution at the time step \n",
    "        n - 1 as a 1D array of floats\n",
    "    u : numpy.ndarray, solution at the previous time\n",
    "        step as a 1D array of floats\n",
    "    f : function, computes the right hand side of the system\n",
    "    dt : float, time-step size\n",
    "    args : tuple, optional, positional arguments to pass\n",
    "                the function f\n",
    "\"\"\" \n",
    "\n",
    "def leapfrog(prev, u, f, dt, *args):\n",
    "    u_new = prev + 2.0*dt*f(u,*args)\n",
    "    return u_new"
   ]
  },
  {
   "cell_type": "markdown",
   "metadata": {},
   "source": [
    "Multi-step methods are not $self-starting$."
   ]
  },
  {
   "cell_type": "code",
   "execution_count": 63,
   "metadata": {},
   "outputs": [],
   "source": [
    "# Parameters\n",
    "g = 9.81  # gravitational acceleration, m/s^2\n",
    "vt = 4.9  # trim velocity, m/s\n",
    "CD = 1.0 / 5.0  # drag coefficient\n",
    "CL = 1.0  # lift coefficient\n",
    "\n",
    "# Initial Conditions\n",
    "v0 = 6.5  # start at the trim velocity\n",
    "theta0 = -0.1  # trajectory angle\n",
    "x0 = 0.0  # horizontal position\n",
    "y0 = 2.0  # vertical position, altitude\n",
    "\n",
    "# time discretization\n",
    "T = 15.0  # length of time interval\n",
    "dt = 0.01  # time-step size\n",
    "N = int(T/dt) + 1  # number of time steps\n",
    "\n",
    "# arrays to store the solution at each time-step\n",
    "u_leap = numpy.empty((N,4))\n",
    "# initial conditions\n",
    "u_leap[0] = numpy.array([v0, theta0, x0, y0])\n",
    "# use the RK2 method for the first time step\n",
    "u_leap[1] = rk2(u_leap[0], rhs_phugoid, dt, CL, CD, g, vt)"
   ]
  },
  {
   "cell_type": "code",
   "execution_count": 64,
   "metadata": {},
   "outputs": [],
   "source": [
    "# Time integration using the leapfrog method\n",
    "for n in range(1, N-1):\n",
    "    u_leap[n+1] = leapfrog(u_leap[n-1], u_leap[n],\n",
    "                           rhs_phugoid, dt, CL, CD, g, vt)"
   ]
  },
  {
   "cell_type": "code",
   "execution_count": 65,
   "metadata": {},
   "outputs": [],
   "source": [
    "# Glider's position over the time\n",
    "x_leap = u_leap[:,2]\n",
    "y_leap = u_leap[:,3]\n",
    "\n",
    "# gets the index of the first negative element of y_leap\n",
    "index_neg_leap = numpy.where(y_leap < 0.0)[0]\n",
    "if len(index_neg_leap) == 0:\n",
    "    index_ground_leap = N - 1\n",
    "    print('[leapfrog] Glider has not touched ground yet!')\n",
    "else:\n",
    "    index_ground_leap = index_neg_leap[0]"
   ]
  },
  {
   "cell_type": "code",
   "execution_count": 67,
   "metadata": {},
   "outputs": [
    {
     "name": "stdout",
     "output_type": "stream",
     "text": [
      "Distance traveled: 14.516\n"
     ]
    },
    {
     "data": {
      "image/png": "[encoded data removed]",
      "text/plain": [
       "<Figure size 648x432 with 2 Axes>"
      ]
     },
     "metadata": {},
     "output_type": "display_data"
    }
   ],
   "source": [
    "print('Distance traveled: {:.3f}'.format(x_leap[index_ground_leap - 1]))\n",
    "\n",
    "# Plot of the glider's path for the leapfrog scheme\n",
    "py.figure(figsize = (9.0, 6.0))\n",
    "py.subplot(121)\n",
    "py.grid()\n",
    "py.xlabel('x')\n",
    "py.ylabel('y')\n",
    "py.plot(x_leap[:index_ground_leap], y_leap[:index_ground_leap])\n",
    "\n",
    "py.subplot(122)\n",
    "py.grid()\n",
    "py.xlabel('x')\n",
    "py.ylabel('y')\n",
    "py.plot(x_leap, y_leap)\n",
    "py.xlim(0.0, 5.0)\n",
    "py.ylim(1.8, 2.5);"
   ]
  },
  {
   "cell_type": "code",
   "execution_count": 72,
   "metadata": {},
   "outputs": [
    {
     "name": "stdout",
     "output_type": "stream",
     "text": [
      "Observed order of convergence: p = 2.187\n"
     ]
    }
   ],
   "source": [
    "# Order of convergence\n",
    "r = 2  # time-step sie refinement ratio\n",
    "h = 0.001  # finest time-step size\n",
    "\n",
    "dt_values = [h, r*h, r**2 *h]\n",
    "u_values = []\n",
    "\n",
    "for dt in dt_values:\n",
    "    N = int(T/dt) + 1  # number of time-steps\n",
    "    \n",
    "    # initial conditions\n",
    "    u = numpy.empty((N,4))\n",
    "    u[0] = numpy.array([v0, theta0, x0, y0])\n",
    "    # Use RK2 for the first time step\n",
    "    u[1] = rk2(u[0], rhs_phugoid, dt, CL, CD, g, vt)\n",
    "    \n",
    "    # time integration using leapfrog scheme\n",
    "    for n in range(1, N-1):\n",
    "        u[n+1] = leapfrog(u[n-1], u[n], rhs_phugoid, dt, CL, CD, g, vt)\n",
    "    \n",
    "    # solution fo the present time grid\n",
    "    u_values.append(u)\n",
    "    \n",
    "# computes the observed order of convergence\n",
    "p = (math.log(l1_diff(u_values[2][:, 2], u_values[1][:, 2],\n",
    "                      dt_values[2]) /\n",
    "              l1_diff(u_values[1][:, 2], u_values[0][:, 2],\n",
    "                      dt_values[1])) /\n",
    "    math.log(r))\n",
    "     \n",
    "print('Observed order of convergence: p = {:.3f}'.format(p))"
   ]
  },
  {
   "cell_type": "code",
   "execution_count": null,
   "metadata": {},
   "outputs": [],
   "source": []
  }
 ],
 "metadata": {
  "kernelspec": {
   "display_name": "Python 3",
   "language": "python",
   "name": "python3"
  },
  "language_info": {
   "codemirror_mode": {
    "name": "ipython",
    "version": 3
   },
   "file_extension": ".py",
   "mimetype": "text/x-python",
   "name": "python",
   "nbconvert_exporter": "python",
   "pygments_lexer": "ipython3",
   "version": "3.6.5"
  }
 },
 "nbformat": 4,
 "nbformat_minor": 2
}
