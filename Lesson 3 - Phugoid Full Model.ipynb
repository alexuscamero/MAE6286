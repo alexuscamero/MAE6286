{
 "cells": [
  {
   "cell_type": "markdown",
   "metadata": {},
   "source": [
    "# Phugoid Full Model"
   ]
  },
  {
   "cell_type": "markdown",
   "metadata": {},
   "source": [
    "Dynamic model, with lift, weight, drag, and $\\theta$, the positive angle of the trajectory"
   ]
  },
  {
   "cell_type": "markdown",
   "metadata": {},
   "source": [
    "### System of Equations:\n",
    "\n",
    "$$ \\begin{align}\n",
    "v' & = -g\\, \\sin \\theta - \\frac{C_D}{C_L} \\frac{g}{v_t^2} v^2 \\\\\n",
    "\\theta' & = - \\frac{g}{v}\\, \\cos \\theta + \\frac{g}{v_t^2}\\, v\n",
    "\\end{align} $$"
   ]
  },
  {
   "cell_type": "markdown",
   "metadata": {},
   "source": [
    "### The Initial Value Problem\n",
    "\n",
    "Position of the glider on a vertical plane with respect to an inertial frame of reference:\n",
    "\n",
    "$$ \\begin{align}\n",
    "x' (t) & = v\\, \\cos \\theta \\\\\n",
    "y' (t) & = v\\, \\sin \\theta\n",
    "\\end{align} $$\n",
    "\n",
    "Initial values for every unknown:\n",
    "\n",
    "$$ \\begin{align}\n",
    "v (0) = v_0 \\quad \\text {and} \\quad \\theta (0) = \\theta_0 \\\\\n",
    "x (0) = x_0 \\quad \\text {and} \\quad y (0) = y_0 \\\\\n",
    "\\end{align} $$"
   ]
  },
  {
   "cell_type": "markdown",
   "metadata": {},
   "source": [
    "### Euler's Method"
   ]
  },
  {
   "cell_type": "markdown",
   "metadata": {},
   "source": [
    "The full system of equations discretized with Euler's method is:\n",
    "\n",
    "$$ \\begin{align}\n",
    "v^{n+1} & = v^n + \\Delta t \\left(- g\\, \\sin\\theta^n - \\frac{C_D}{C_L} \\frac{g}{v_t^2} (v^n)^2 \\right) \\\\\n",
    "\\theta^{n+1} & = \\theta^n + \\Delta t \\left(- \\frac{g}{v^n}\\,\\cos\\theta^n + \\frac{g}{v_t^2}\\, v^n \\right) \\\\\n",
    "x^{n+1} & = x^n + \\Delta t \\, v^n \\cos\\theta^n \\\\\n",
    "y^{n+1} & = y^n + \\Delta t \\, v^n \\sin\\theta^n.\n",
    "\\end{align} $$"
   ]
  },
  {
   "cell_type": "markdown",
   "metadata": {},
   "source": [
    "As a vector equation:\n",
    "$$\n",
    "u'(t) = f(u)\n",
    "$$\n",
    "\n",
    "where\n",
    "\n",
    "$$ \\begin{align}\n",
    "u & = \\begin{pmatrix} v \\\\ \\theta \\\\ x \\\\ y \\end{pmatrix} & f(u) & = \\begin{pmatrix} - g\\, \\sin\\theta - \\frac{C_D}{C_L} \\frac{g}{v_t^2} v^2 \\\\ - \\frac{g}{v}\\,\\cos\\theta + \\frac{g}{v_t^2}\\, v \\\\ v\\cos\\theta \\\\ v\\sin\\theta \\end{pmatrix}\n",
    "\\end{align} $$"
   ]
  },
  {
   "cell_type": "markdown",
   "metadata": {},
   "source": [
    "### Solve"
   ]
  },
  {
   "cell_type": "code",
   "execution_count": 1,
   "metadata": {},
   "outputs": [],
   "source": [
    "import math\n",
    "import numpy as np\n",
    "from matplotlib import pyplot as py\n",
    "% matplotlib inline"
   ]
  },
  {
   "cell_type": "code",
   "execution_count": 2,
   "metadata": {},
   "outputs": [],
   "source": [
    "# font family and size for Matplotlib figures\n",
    "py.rcParams['font.family'] = 'serif'\n",
    "py.rcParams['font.size'] = 16"
   ]
  },
  {
   "cell_type": "code",
   "execution_count": 3,
   "metadata": {},
   "outputs": [],
   "source": [
    "# Parameters\n",
    "g = 9.81   # gravitational acceleration, m/s^2\n",
    "vt = 30.0   # trim velocity, m/s\n",
    "CD = 1.0/40   # drag coefficient\n",
    "CL = 1.0   # lift coefficient\n",
    "\n",
    "# Initial conditions\n",
    "v0 = vt   # start at the trim velocity\n",
    "theta0 = 0.0   # trajectory angle\n",
    "x0 = 0.0   # horizontal position\n",
    "y0 = 1000.0   # vertical position, altitude"
   ]
  },
  {
   "cell_type": "code",
   "execution_count": 4,
   "metadata": {},
   "outputs": [],
   "source": [
    "\"\"\"\n",
    "    Function to return the right-hand size of\n",
    "        the phugoid system of equations.\n",
    "    ------------------------------------------\n",
    "    u : list or numpy.ndarray, solution at the previous\n",
    "        time step as a list or a 1D array of floats\n",
    "    CL : float, lift coefficient\n",
    "    CD : float, drag coefficient\n",
    "    g : float, gravitational acceleration\n",
    "    vt : float, trim velocity\n",
    "\"\"\"\n",
    "def rhs_phugoid(u, CL, CD, g, vt):\n",
    "    v, theta, x, y = u\n",
    "    rhs = np.array([ -g * math.sin(theta) - CD/CL * g/vt**2 * v**2,\n",
    "                    -g * math.cos(theta) / v + g/vt**2*v,\n",
    "                    v * math.cos(theta),\n",
    "                    v * math.sin(theta)])\n",
    "    return rhs"
   ]
  },
  {
   "cell_type": "code",
   "execution_count": 5,
   "metadata": {},
   "outputs": [],
   "source": [
    "\"\"\"\n",
    "    Function to return the solution at the next \n",
    "        time step using Euler's method.\n",
    "    ------------------------------------------\n",
    "    u : numpy.ndarray, solution at the previous\n",
    "        time step as a 1D array of floats\n",
    "    f : function, computes the right-hand side of the system\n",
    "    dt : float, time-step size\n",
    "    args : tuple, optional, positional arguments to pass to\n",
    "            the function f\n",
    "\"\"\"\n",
    "def euler(u, f, dt, *args):\n",
    "    u_new = u + dt * f(u, *args)\n",
    "    return u_new"
   ]
  },
  {
   "cell_type": "code",
   "execution_count": 6,
   "metadata": {},
   "outputs": [],
   "source": [
    "T = 100.0   # length of time interval\n",
    "dt = 0.1   # time-step size\n",
    "N = int(T/dt) + 1   # number of time-steps\n",
    "\n",
    "# array to store the solution at each time step\n",
    "u = np.empty((N,4))\n",
    "\n",
    "#initial condition\n",
    "u[0] = np.array([v0, theta0, x0, y0])\n",
    "\n",
    "# time integration with Euler's method\n",
    "for n in range(N-1):\n",
    "    u[n+1] = euler(u[n], rhs_phugoid, dt, CL, CD, g, vt)"
   ]
  },
  {
   "cell_type": "markdown",
   "metadata": {},
   "source": [
    "### Plot"
   ]
  },
  {
   "cell_type": "code",
   "execution_count": 7,
   "metadata": {},
   "outputs": [
    {
     "data": {
      "image/png": "[encoded data removed]",
      "text/plain": [
       "<Figure size 648x288 with 1 Axes>"
      ]
     },
     "metadata": {},
     "output_type": "display_data"
    }
   ],
   "source": [
    "# Glider's position over the time\n",
    "x = u[:, 2]\n",
    "y = u[:, 3]\n",
    "\n",
    "# plot of glider's path\n",
    "py.figure(figsize = (9.0, 4.0))\n",
    "py.title('Path of the Glider (flight time = {})'.format(T))\n",
    "py.xlabel('x')\n",
    "py.ylabel('y')\n",
    "py.grid()\n",
    "py.plot(x, y, color = 'C0', linestyle = '-', linewidth = 2);"
   ]
  },
  {
   "cell_type": "markdown",
   "metadata": {},
   "source": [
    "### Grid Convergence"
   ]
  },
  {
   "cell_type": "code",
   "execution_count": 8,
   "metadata": {},
   "outputs": [],
   "source": [
    "# list of time-step sizes\n",
    "dt_values = [0.1, 0.05, 0.01, 0.005, 0.001]\n",
    "\n",
    "# empty list to store the solution of each grid\n",
    "u_values = []\n",
    "\n",
    "for dt in dt_values:\n",
    "    # number of time-steps\n",
    "    N = int(T/dt) + 1\n",
    "    \n",
    "    # array to store the solution at each time step\n",
    "    u = np.empty((N,4))\n",
    "    \n",
    "    # initial condition\n",
    "    u[0] = np.array([v0, theta0, x0, y0])\n",
    "    \n",
    "    # temporal integration using Euler's method\n",
    "    for n in range(N-1):\n",
    "        u[n+1] = euler(u[n], rhs_phugoid, dt, CL, CD, g, vt)\n",
    "    \n",
    "    # stores the solution for the present time-step size\n",
    "    u_values.append(u)"
   ]
  },
  {
   "cell_type": "code",
   "execution_count": 9,
   "metadata": {},
   "outputs": [],
   "source": [
    "\"\"\"\n",
    "    Function to return the difference in the L1-norm between\n",
    "        the solution on a coarse grid, and on a fine grid.\n",
    "    ------------------------------------------\n",
    "    u_coarse : numpy.ndarray, solution on the coarse grid\n",
    "        as an array of floats\n",
    "    u_fine : numpy.ndarray, solution on the fine grid\n",
    "        as an array of floats\n",
    "    dt : float, time-step size\n",
    "\"\"\"\n",
    "def l1_diff(u_coarse, u_fine, dt):\n",
    "    N_coarse = len(u_coarse)\n",
    "    N_fine = len(u_fine)\n",
    "    ratio = math.ceil(N_fine/N_coarse)\n",
    "    diff = dt * np.sum(np.abs(u_coarse - u_fine[::ratio]))\n",
    "    return diff"
   ]
  },
  {
   "cell_type": "code",
   "execution_count": 10,
   "metadata": {},
   "outputs": [],
   "source": [
    "# empty list to store the difference in the solution\n",
    "# between two grids\n",
    "diff_values = []\n",
    "\n",
    "for i, dt in enumerate(dt_values[:-1]):\n",
    "    diff = l1_diff(u_values[i][:,2], u_values[-1][:,2], dt)\n",
    "    diff_values.append(diff)"
   ]
  },
  {
   "cell_type": "code",
   "execution_count": 11,
   "metadata": {},
   "outputs": [
    {
     "data": {
      "image/png": "[encoded data removed]",
      "text/plain": [
       "<Figure size 432x432 with 1 Axes>"
      ]
     },
     "metadata": {},
     "output_type": "display_data"
    }
   ],
   "source": [
    "# Difference versus the time-step sie\n",
    "py.figure(figsize = (6.0,6.0))\n",
    "py.title('L1-norm Difference versus time-step size')\n",
    "py.xlabel('$\\Delta t$')\n",
    "py.ylabel('Differences')\n",
    "py.grid()\n",
    "py.loglog(dt_values[:-1], diff_values, color = 'C0', linestyle = '--' ,marker = 'o')\n",
    "py.axis('equal');"
   ]
  },
  {
   "cell_type": "markdown",
   "metadata": {},
   "source": [
    "### Order of Convergence"
   ]
  },
  {
   "cell_type": "markdown",
   "metadata": {},
   "source": [
    "Using 3 grid resolutions, refined at a constant ratio $r$ to find the *observed order of convergence* ($p$):\n",
    "\n",
    "$$ \\begin{equation}\n",
    "p = \\frac{\\log \\left(\\frac{f_3-f_2}{f_2-f_1} \\right) }{\\log(r)}\n",
    "\\end{equation} $$\n",
    "\n",
    "* where $f_1$ is the finest mesh solution, and $f_3$ the coarsest"
   ]
  },
  {
   "cell_type": "code",
   "execution_count": 12,
   "metadata": {},
   "outputs": [
    {
     "name": "stdout",
     "output_type": "stream",
     "text": [
      "Observed Order of Convergence: p = 1.014\n"
     ]
    }
   ],
   "source": [
    "r = 2   # refinement ratio for the time-step size\n",
    "h = 0.001   # base grid size\n",
    "\n",
    "pdt_val = [h, r*h, r**2 * h]\n",
    "pu_val = []\n",
    "\n",
    "for dt in pdt_val:\n",
    "    N = int(T/dt) + 1   # number of time steps\n",
    "    \n",
    "    # array to store the solution at each time step\n",
    "    u = np.empty((N,4))\n",
    "    \n",
    "    # initial conditions\n",
    "    u[0] = np.array([v0, theta0, x0, y0])\n",
    "    \n",
    "    # time integration using Euler's method\n",
    "    for n in range(N-1):\n",
    "        u[n+1] = euler(u[n], rhs_phugoid, dt, CL, CD, g, vt)\n",
    "    \n",
    "    # solution\n",
    "    pu_val.append(u)\n",
    "    \n",
    "f2f1 = l1_diff(pu_val[1][:,2], pu_val[0][:,2], pdt_val[1])   # f2 - f1\n",
    "f3f2 = l1_diff(pu_val[2][:,2], pu_val[1][:,2], pdt_val[2])   # f3 - f2\n",
    "\n",
    "# calculates the observed order of convergence\n",
    "p = math.log(f3f2/f2f1) / math.log(r)\n",
    "print('Observed Order of Convergence: p = {:.3f}'.format(p))"
   ]
  }
 ],
 "metadata": {
  "kernelspec": {
   "display_name": "Python 3",
   "language": "python",
   "name": "python3"
  },
  "language_info": {
   "codemirror_mode": {
    "name": "ipython",
    "version": 3
   },
   "file_extension": ".py",
   "mimetype": "text/x-python",
   "name": "python",
   "nbconvert_exporter": "python",
   "pygments_lexer": "ipython3",
   "version": "3.6.5"
  }
 },
 "nbformat": 4,
 "nbformat_minor": 2
}
