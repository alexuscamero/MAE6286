{
 "cells": [
  {
   "cell_type": "markdown",
   "metadata": {},
   "source": [
    "# Riding the Wave"
   ]
  },
  {
   "cell_type": "markdown",
   "metadata": {},
   "source": [
    "## Traffic Flow, revisited\n",
    "### A better flux model"
   ]
  },
  {
   "cell_type": "markdown",
   "metadata": {},
   "source": [
    "In a typical conservation law,\n",
    "\n",
    "$$\n",
    "\\begin{equation}\n",
    "\\frac{\\partial \\rho}{\\partial t} + \\frac{\\partial F}{\\partial x} = 0\n",
    "\\end{equation}\n",
    "$$\n",
    "\n",
    "where $F$ is the flux, $F=\\rho u$—flux equals density times velocity.\n",
    "\n",
    "A linear relation between traffic speed and density as a first approximation: \n",
    "\n",
    "$$\n",
    "\\begin{equation}\n",
    "F(\\rho) = \\rho \\, u_{max}\\left(1 - \\frac{\\rho}{\\rho_{max}} \\right)\n",
    "\\end{equation}\n",
    "$$\n",
    "\n",
    "This flux model meets the two requirements, based on a qualitative view of traffic flow, that:\n",
    "1. $u \\rightarrow u_{max}$ and $F\\rightarrow 0$ when $\\rho \\rightarrow 0$.\n",
    "2. $u \\rightarrow 0$ as $\\rho \\rightarrow \\rho_{max}$"
   ]
  },
  {
   "cell_type": "markdown",
   "metadata": {},
   "source": [
    "If the traffic speed is a linear function of density, the flux function will be quadratic. Thus, the max flux will occer when $\\rho^{\\star} = \\rho_{max}/2$, corresponding to a traffic speed $u_{max}/2$."
   ]
  },
  {
   "cell_type": "markdown",
   "metadata": {},
   "source": [
    "Should the max flux on a given stretch of a road have a strict dependence on the max speed that the roadway allows, be it by physical restrictions or posted speed limits? I.e., do we expect the max flux to increase if we allows arbitrarily high speeds?\n",
    "##### No. But there *should* be some ideal traffic speed, $u^{\\star}$, corresponding to an ideal traffic density, $\\rho^{\\star}$, resulting in the maximum traffic flux:\n",
    "\n",
    "$$\n",
    "\\begin{equation}\n",
    "F_{\\rm max} = \\rho^{\\star}u^{\\star}\n",
    "\\end{equation}\n",
    "$$"
   ]
  },
  {
   "cell_type": "markdown",
   "metadata": {},
   "source": [
    "Let's introduce a flux model that is subic in $\\rho$ instead of quadratic:\n",
    "\n",
    "$$\n",
    "\\begin{equation}\n",
    "F(\\rho) = u_{\\rm max}\\rho (1 - A\\rho - B \\rho^2)\n",
    "\\end{equation}\n",
    "$$\n",
    "\n",
    "This still meets the first criterion listed above: $F\\rightarrow 0$ when $\\rho \\rightarrow 0$.\n",
    "\n",
    "Imposing the following coniditons, \n",
    "\n",
    "* When $\\rho = \\rho_{\\rm max}$ traffic flux goes to zero:\n",
    "\n",
    "$$\n",
    "\\begin{equation}\n",
    "F(\\rho_{\\rm max}) = 0 = u_{\\rm max}\\, \\rho_{\\rm max}(1 - A \\rho_{\\rm max} - B \\rho_{\\rm max}^2)\n",
    "\\end{equation}\n",
    "$$\n",
    "\n",
    "* Based on eq. (3), maximum flux occurs when $\\rho = \\rho^{\\star}$ and $F'(\\rho^{\\star}) = 0$:\n",
    "\n",
    "$$\n",
    "\\begin{equation}\n",
    "F'(\\rho^{\\star}) = 0  = u_{\\rm max}(1 - 2A\\rho^{\\star} - 3B(\\rho^{\\star})^2)\n",
    "\\end{equation}\n",
    "$$\n",
    "\n",
    "* $u^{\\star}$ is obtained when $\\rho = \\rho^{\\star}$:\n",
    "\n",
    "$$\n",
    "\\begin{equation}\n",
    "u^{\\star} = u_{\\rm max}(1 - A \\rho^{\\star} - B(\\rho^{\\star})^2)\n",
    "\\end{equation}\n",
    "$$\n",
    "\n",
    "Here we have three equations and four unknowns, $A,B,\\rho^{\\star}, u^{\\star}$. \n",
    "\n",
    "In practice, the ideal traffic speed could be obtained for a given road by observations. Similarly to $u_{max}$ and $\\rho_{max}$ it will therefore be taken as a parameter."
   ]
  },
  {
   "cell_type": "markdown",
   "metadata": {},
   "source": [
    "### Solving the new flux equation"
   ]
  },
  {
   "cell_type": "markdown",
   "metadata": {},
   "source": [
    "Here, [SymPy](http://sympy.org/en/index.html), the symbolic mathematics library of Python, will be used. \n",
    "\n",
    "Import Sympy, initialize $\\LaTeX$ printing, and define a set of symbolic variables that will be used in calculations...\n",
    "\n",
    "Remember that variables are not defined automatically, we have to tell Sympy that a name will correspond to a symbolic variable by using the keyword `symbol`. "
   ]
  },
  {
   "cell_type": "code",
   "execution_count": 1,
   "metadata": {},
   "outputs": [],
   "source": [
    "import sympy as sp\n",
    "sp.init_printing()\n",
    "\n",
    "(u_max, u_star, rho_max, rho_star,\n",
    "     A, B) = sp.symbols('u_max u_star rho_max rho_star A B')"
   ]
  },
  {
   "cell_type": "markdown",
   "metadata": {},
   "source": [
    "Sympy also allows you to create symbols with a superscript by means of the special character `^`. \n",
    "\n",
    "To define the three equation, we use `sympy.Eq()` in terms of symbolic variables. This function creates an equality between two Sympy obkects, passed as arguments separated by a comma.\n",
    "\n",
    "Remember that the equal sign in Python is used for varibale assignment and it cannot be used to build symbolic equation with Sympy. That is why `sympy.Eq()` will be used to create symbolic equalities. But the equal sign is used to assign an equation to a name.\n",
    "\n",
    "Here, below, `eq1`, `eq2`, `eq3` are names for the symbolic equalities we create with `sympy.Eq()`."
   ]
  },
  {
   "cell_type": "code",
   "execution_count": 2,
   "metadata": {},
   "outputs": [],
   "source": [
    "eq1 = sp.Eq(0, u_max * rho_max * (1 - A * rho_max - B * rho_max**2))\n",
    "eq2 = sp.Eq(0, u_max * (1 - 2 * A * rho_star - 3 * B * rho_star**2))\n",
    "eq3 = sp.Eq(u_star, u_max * (1 - A * rho_star - B * rho_star**2))"
   ]
  },
  {
   "cell_type": "markdown",
   "metadata": {},
   "source": [
    "Let's display these equations in pretty typset mathematics just by executing their name in a code cell:"
   ]
  },
  {
   "cell_type": "code",
   "execution_count": 3,
   "metadata": {},
   "outputs": [
    {
     "data": {
      "image/png": "[encoded data removed]",
      "text/latex": [
       "$$0 = \\rho_{max} u_{max} \\left(- A \\rho_{max} - B \\rho_{max}^{2} + 1\\right)$$"
      ],
      "text/plain": [
       "              ⎛                2    ⎞\n",
       "0 = ρₘₐₓ⋅uₘₐₓ⋅⎝-A⋅ρₘₐₓ - B⋅ρₘₐₓ  + 1⎠"
      ]
     },
     "execution_count": 3,
     "metadata": {},
     "output_type": "execute_result"
    }
   ],
   "source": [
    "eq1"
   ]
  },
  {
   "cell_type": "code",
   "execution_count": 4,
   "metadata": {},
   "outputs": [
    {
     "data": {
      "image/png": "[encoded data removed]",
      "text/latex": [
       "$$0 = u_{max} \\left(- 2 A \\rho_{star} - 3 B \\rho_{star}^{2} + 1\\right)$$"
      ],
      "text/plain": [
       "         ⎛                      2    ⎞\n",
       "0 = uₘₐₓ⋅⎝-2⋅A⋅ρₛₜₐᵣ - 3⋅B⋅ρₛₜₐᵣ  + 1⎠"
      ]
     },
     "execution_count": 4,
     "metadata": {},
     "output_type": "execute_result"
    }
   ],
   "source": [
    "eq2"
   ]
  },
  {
   "cell_type": "code",
   "execution_count": 5,
   "metadata": {},
   "outputs": [
    {
     "data": {
      "image/png": "[encoded data removed]",
      "text/latex": [
       "$$u_{star} = u_{max} \\left(- A \\rho_{star} - B \\rho_{star}^{2} + 1\\right)$$"
      ],
      "text/plain": [
       "             ⎛                  2    ⎞\n",
       "uₛₜₐᵣ = uₘₐₓ⋅⎝-A⋅ρₛₜₐᵣ - B⋅ρₛₜₐᵣ  + 1⎠"
      ]
     },
     "execution_count": 5,
     "metadata": {},
     "output_type": "execute_result"
    }
   ],
   "source": [
    "eq3"
   ]
  },
  {
   "cell_type": "markdown",
   "metadata": {},
   "source": [
    "Assuming there is an observed value of $u_{star}$, corresponding to the ideal traffic speed, three equations with three unknowns will have a solution!\n",
    "\n",
    "Mathematical operators cannot be used directly on the Sympy equations. Because they are really _equalities_. Let's see..."
   ]
  },
  {
   "cell_type": "code",
   "execution_count": 6,
   "metadata": {},
   "outputs": [
    {
     "data": {
      "image/png": "[encoded data removed]",
      "text/latex": [
       "$$\\left(0 = \\rho_{max} u_{max} \\left(- A \\rho_{max} - B \\rho_{max}^{2} + 1\\right)\\right) - 3 \\left(u_{star} = u_{max} \\left(- A \\rho_{star} - B \\rho_{star}^{2} + 1\\right)\\right)$$"
      ],
      "text/plain": [
       "⎛              ⎛                2    ⎞⎞     ⎛             ⎛                  2\n",
       "⎝0 = ρₘₐₓ⋅uₘₐₓ⋅⎝-A⋅ρₘₐₓ - B⋅ρₘₐₓ  + 1⎠⎠ - 3⋅⎝uₛₜₐᵣ = uₘₐₓ⋅⎝-A⋅ρₛₜₐᵣ - B⋅ρₛₜₐᵣ \n",
       "\n",
       "    ⎞⎞\n",
       " + 1⎠⎠"
      ]
     },
     "execution_count": 6,
     "metadata": {},
     "output_type": "execute_result"
    }
   ],
   "source": [
    "eq1 - 3 * eq3"
   ]
  },
  {
   "cell_type": "markdown",
   "metadata": {},
   "source": [
    "Sympy only printed out what what was suggested but it did not manipulate algebraically the left and right sides of `eq1` like we are aiming for. \n",
    "\n",
    "In order to achieve this, let's create a new equation, perform the left-hand side (LHS) and right-right side (RHS) operations separately and then recombine them into desired result. "
   ]
  },
  {
   "cell_type": "code",
   "execution_count": 7,
   "metadata": {},
   "outputs": [
    {
     "data": {
      "image/png": "[encoded data removed]",
      "text/latex": [
       "$$- 3 u_{star} = u_{max} \\left(- 2 A \\rho_{star} - 3 B \\rho_{star}^{2} + 1\\right) - 3 u_{max} \\left(- A \\rho_{star} - B \\rho_{star}^{2} + 1\\right)$$"
      ],
      "text/plain": [
       "                ⎛                      2    ⎞          ⎛                  2   \n",
       "-3⋅uₛₜₐᵣ = uₘₐₓ⋅⎝-2⋅A⋅ρₛₜₐᵣ - 3⋅B⋅ρₛₜₐᵣ  + 1⎠ - 3⋅uₘₐₓ⋅⎝-A⋅ρₛₜₐᵣ - B⋅ρₛₜₐᵣ  + \n",
       "\n",
       " ⎞\n",
       "1⎠"
      ]
     },
     "execution_count": 7,
     "metadata": {},
     "output_type": "execute_result"
    }
   ],
   "source": [
    "eq4 = sp.Eq(eq2.lhs - 3 * eq3.lhs, eq2.rhs - 3 * eq3.rhs)\n",
    "\n",
    "# Display eq4\n",
    "eq4"
   ]
  },
  {
   "cell_type": "markdown",
   "metadata": {},
   "source": [
    "Let's use `simplify()` to make the expression simpler. But you can imagine that the equality of an expression being simple is not well defined. \n",
    "\n",
    "The `sumplify()` function applies several strategies to give an equivalent reduced expression. "
   ]
  },
  {
   "cell_type": "code",
   "execution_count": 8,
   "metadata": {},
   "outputs": [
    {
     "data": {
      "image/png": "[encoded data removed]",
      "text/latex": [
       "$$3 u_{star} = - u_{max} \\left(A \\rho_{star} - 2\\right)$$"
      ],
      "text/plain": [
       "3⋅uₛₜₐᵣ = -uₘₐₓ⋅(A⋅ρₛₜₐᵣ - 2)"
      ]
     },
     "execution_count": 8,
     "metadata": {},
     "output_type": "execute_result"
    }
   ],
   "source": [
    "eq4.simplify()"
   ]
  },
  {
   "cell_type": "markdown",
   "metadata": {},
   "source": [
    "The `expand()` function expands bracketed factors in expressions anf group powers of symbols. "
   ]
  },
  {
   "cell_type": "code",
   "execution_count": 9,
   "metadata": {},
   "outputs": [
    {
     "data": {
      "image/png": "[encoded data removed]",
      "text/latex": [
       "$$- 3 u_{star} = A \\rho_{star} u_{max} - 2 u_{max}$$"
      ],
      "text/plain": [
       "-3⋅uₛₜₐᵣ = A⋅ρₛₜₐᵣ⋅uₘₐₓ - 2⋅uₘₐₓ"
      ]
     },
     "execution_count": 9,
     "metadata": {},
     "output_type": "execute_result"
    }
   ],
   "source": [
    "# Display eq4\n",
    "eq4\n",
    "\n",
    "# Apply expand() function to eq4\n",
    "eq4.expand()"
   ]
  },
  {
   "cell_type": "markdown",
   "metadata": {},
   "source": [
    "The `solve()` function returnes results in a _list_, since you end up with multiple solutions for a given variable.\n",
    "\n",
    "These linear equations only return one solution so we can skip a step and ask right away for the `[0]`-th element of the list."
   ]
  },
  {
   "cell_type": "code",
   "execution_count": 10,
   "metadata": {},
   "outputs": [
    {
     "data": {
      "image/png": "[encoded data removed]",
      "text/latex": [
       "$$\\frac{1}{A u_{max}} \\left(2 u_{max} - 3 u_{star}\\right)$$"
      ],
      "text/plain": [
       "2⋅uₘₐₓ - 3⋅uₛₜₐᵣ\n",
       "────────────────\n",
       "     A⋅uₘₐₓ     "
      ]
     },
     "execution_count": 10,
     "metadata": {},
     "output_type": "execute_result"
    }
   ],
   "source": [
    "rho_sol = sp.solve(eq4, rho_star)[0]\n",
    "rho_sol"
   ]
  },
  {
   "cell_type": "code",
   "execution_count": 11,
   "metadata": {},
   "outputs": [
    {
     "data": {
      "image/png": "[encoded data removed]",
      "text/latex": [
       "$$\\frac{1}{\\rho_{max}^{2}} \\left(- A \\rho_{max} + 1\\right)$$"
      ],
      "text/plain": [
       "-A⋅ρₘₐₓ + 1\n",
       "───────────\n",
       "       2   \n",
       "   ρₘₐₓ    "
      ]
     },
     "execution_count": 11,
     "metadata": {},
     "output_type": "execute_result"
    }
   ],
   "source": [
    "B_sol = sp.solve(eq1, B)[0]\n",
    "B_sol"
   ]
  },
  {
   "cell_type": "markdown",
   "metadata": {},
   "source": [
    "The arguments to the Sympy function `subs()` are given as (old, new) pairs, where the \"new\" expression subsitutes the \"old\" one. \n",
    "\n",
    "In `eq2`, we subsitute `rho_sol` in place of `rho_star` and we subsitute `B_sol` in place of `B`."
   ]
  },
  {
   "cell_type": "code",
   "execution_count": 12,
   "metadata": {},
   "outputs": [
    {
     "data": {
      "image/png": "[encoded data removed]",
      "text/latex": [
       "$$0 = u_{max} \\left(1 - \\frac{2}{u_{max}} \\left(2 u_{max} - 3 u_{star}\\right) - \\frac{3 \\left(2 u_{max} - 3 u_{star}\\right)^{2}}{A^{2} \\rho_{max}^{2} u_{max}^{2}} \\left(- A \\rho_{max} + 1\\right)\\right)$$"
      ],
      "text/plain": [
       "         ⎛                                               2              ⎞\n",
       "         ⎜    2⋅(2⋅uₘₐₓ - 3⋅uₛₜₐᵣ)   3⋅(2⋅uₘₐₓ - 3⋅uₛₜₐᵣ) ⋅(-A⋅ρₘₐₓ + 1)⎟\n",
       "0 = uₘₐₓ⋅⎜1 - ──────────────────── - ───────────────────────────────────⎟\n",
       "         ⎜            uₘₐₓ                       2     2     2          ⎟\n",
       "         ⎝                                      A ⋅ρₘₐₓ ⋅uₘₐₓ           ⎠"
      ]
     },
     "execution_count": 12,
     "metadata": {},
     "output_type": "execute_result"
    }
   ],
   "source": [
    "quadA = eq2.subs([(rho_star, rho_sol), (B, B_sol)])\n",
    "quadA"
   ]
  },
  {
   "cell_type": "code",
   "execution_count": 13,
   "metadata": {},
   "outputs": [
    {
     "data": {
      "image/png": "[encoded data removed]",
      "text/latex": [
       "$$- 3 u_{max} + 6 u_{star} + \\frac{3 \\left(2 u_{max} - 3 u_{star}\\right)^{2}}{A \\rho_{max} u_{max}} - \\frac{3 \\left(2 u_{max} - 3 u_{star}\\right)^{2}}{A^{2} \\rho_{max}^{2} u_{max}} = 0$$"
      ],
      "text/plain": [
       "                                        2                       2    \n",
       "                    3⋅(2⋅uₘₐₓ - 3⋅uₛₜₐᵣ)    3⋅(2⋅uₘₐₓ - 3⋅uₛₜₐᵣ)     \n",
       "-3⋅uₘₐₓ + 6⋅uₛₜₐᵣ + ───────────────────── - ───────────────────── = 0\n",
       "                         A⋅ρₘₐₓ⋅uₘₐₓ             2     2             \n",
       "                                                A ⋅ρₘₐₓ ⋅uₘₐₓ        "
      ]
     },
     "execution_count": 13,
     "metadata": {},
     "output_type": "execute_result"
    }
   ],
   "source": [
    "quadA.simplify()"
   ]
  },
  {
   "cell_type": "markdown",
   "metadata": {},
   "source": [
    "Printing each root separately..."
   ]
  },
  {
   "cell_type": "code",
   "execution_count": 14,
   "metadata": {},
   "outputs": [],
   "source": [
    "A_sol = sp.solve(quadA, A)"
   ]
  },
  {
   "cell_type": "code",
   "execution_count": 15,
   "metadata": {},
   "outputs": [
    {
     "data": {
      "image/png": "[encoded data removed]",
      "text/latex": [
       "$$\\frac{1}{2 \\rho_{max} u_{max} \\left(u_{max} - 2 u_{star}\\right)} \\left(\\sqrt{- u_{star} \\left(4 u_{max} - 9 u_{star}\\right)} \\left(- 2 u_{max} + 3 u_{star}\\right) + \\left(2 u_{max} - 3 u_{star}\\right)^{2}\\right)$$"
      ],
      "text/plain": [
       "  ___________________________                                         2\n",
       "╲╱ -uₛₜₐᵣ⋅(4⋅uₘₐₓ - 9⋅uₛₜₐᵣ) ⋅(-2⋅uₘₐₓ + 3⋅uₛₜₐᵣ) + (2⋅uₘₐₓ - 3⋅uₛₜₐᵣ) \n",
       "───────────────────────────────────────────────────────────────────────\n",
       "                      2⋅ρₘₐₓ⋅uₘₐₓ⋅(uₘₐₓ - 2⋅uₛₜₐᵣ)                     "
      ]
     },
     "execution_count": 15,
     "metadata": {},
     "output_type": "execute_result"
    }
   ],
   "source": [
    "A_sol[0]"
   ]
  },
  {
   "cell_type": "code",
   "execution_count": 16,
   "metadata": {},
   "outputs": [
    {
     "data": {
      "image/png": "[encoded data removed]",
      "text/latex": [
       "$$\\frac{1}{2 \\rho_{max} u_{max} \\left(u_{max} - 2 u_{star}\\right)} \\left(2 u_{max} - 3 u_{star}\\right) \\left(2 u_{max} - 3 u_{star} + \\sqrt{- u_{star} \\left(4 u_{max} - 9 u_{star}\\right)}\\right)$$"
      ],
      "text/plain": [
       "                   ⎛                     ___________________________⎞\n",
       "(2⋅uₘₐₓ - 3⋅uₛₜₐᵣ)⋅⎝2⋅uₘₐₓ - 3⋅uₛₜₐᵣ + ╲╱ -uₛₜₐᵣ⋅(4⋅uₘₐₓ - 9⋅uₛₜₐᵣ) ⎠\n",
       "─────────────────────────────────────────────────────────────────────\n",
       "                     2⋅ρₘₐₓ⋅uₘₐₓ⋅(uₘₐₓ - 2⋅uₛₜₐᵣ)                    "
      ]
     },
     "execution_count": 16,
     "metadata": {},
     "output_type": "execute_result"
    }
   ],
   "source": [
    "A_sol[1]"
   ]
  },
  {
   "cell_type": "markdown",
   "metadata": {},
   "source": [
    "### Evaluating The New Flux Equation"
   ]
  },
  {
   "cell_type": "markdown",
   "metadata": {},
   "source": [
    "Let's numerically evaluate the solutions for $A$ using the following values:\n",
    "\n",
    "$$\n",
    "\\begin{align} \n",
    "\\rho_{\\rm max} &=10.0 \\nonumber\\\\ u_{\\rm max} &=1.0 \\nonumber\\\\ u^{\\star} &=0.7 \\nonumber\n",
    "\\end{align}\n",
    "$$\n",
    "\n",
    "Evaluate the numerical result for each root of $A$ using the `evalf()` function, where it passes the numeric substitution as an argument... Evaluating both roots, and picking the positive value...\n",
    "\n",
    "Let's try the `[0]`-th solution for $A$:"
   ]
  },
  {
   "cell_type": "code",
   "execution_count": 17,
   "metadata": {},
   "outputs": [
    {
     "data": {
      "image/png": "[encoded data removed]",
      "text/latex": [
       "$$-0.0171107219255619$$"
      ],
      "text/plain": [
       "-0.0171107219255619"
      ]
     },
     "execution_count": 17,
     "metadata": {},
     "output_type": "execute_result"
    }
   ],
   "source": [
    "A_val_0 = A_sol[0].evalf(subs={u_star: 0.7, u_max: 1.0, rho_max: 10.0})\n",
    "A_val_0"
   ]
  },
  {
   "cell_type": "markdown",
   "metadata": {},
   "source": [
    "`[1]`-th solution for A:"
   ]
  },
  {
   "cell_type": "code",
   "execution_count": 18,
   "metadata": {},
   "outputs": [
    {
     "data": {
      "image/png": "[encoded data removed]",
      "text/latex": [
       "$$0.0146107219255619$$"
      ],
      "text/plain": [
       "0.0146107219255619"
      ]
     },
     "execution_count": 18,
     "metadata": {},
     "output_type": "execute_result"
    }
   ],
   "source": [
    "A_val_1 = A_sol[1].evalf(subs={u_star: 0.7, u_max: 1.0, rho_max: 10.0})\n",
    "A_val_1"
   ]
  },
  {
   "cell_type": "markdown",
   "metadata": {},
   "source": [
    "By using the Python built-in `max` function, the positive root will be automatically picked... "
   ]
  },
  {
   "cell_type": "code",
   "execution_count": 19,
   "metadata": {},
   "outputs": [
    {
     "data": {
      "image/png": "[encoded data removed]",
      "text/latex": [
       "$$0.0146107219255619$$"
      ],
      "text/plain": [
       "0.0146107219255619"
      ]
     },
     "execution_count": 19,
     "metadata": {},
     "output_type": "execute_result"
    }
   ],
   "source": [
    "A_val = max(A_val_0, A_val_1)\n",
    "A_val"
   ]
  },
  {
   "cell_type": "markdown",
   "metadata": {},
   "source": [
    "Evaluate B numerically in the same way using the positive `A_val`:"
   ]
  },
  {
   "cell_type": "code",
   "execution_count": 20,
   "metadata": {},
   "outputs": [
    {
     "data": {
      "image/png": "[encoded data removed]",
      "text/latex": [
       "$$0.00853892780744381$$"
      ],
      "text/plain": [
       "0.00853892780744381"
      ]
     },
     "execution_count": 20,
     "metadata": {},
     "output_type": "execute_result"
    }
   ],
   "source": [
    "B_val = B_sol.evalf(subs={rho_max: 10.0, A: A_val})\n",
    "B_val"
   ]
  },
  {
   "cell_type": "markdown",
   "metadata": {},
   "source": [
    "#### Turn off $\\LaTeX$"
   ]
  },
  {
   "cell_type": "code",
   "execution_count": 21,
   "metadata": {},
   "outputs": [],
   "source": [
    "sp.init_printing(use_latex = False)"
   ]
  },
  {
   "cell_type": "markdown",
   "metadata": {},
   "source": [
    "## Green Light: Take 2"
   ]
  },
  {
   "cell_type": "code",
   "execution_count": 22,
   "metadata": {},
   "outputs": [
    {
     "name": "stdout",
     "output_type": "stream",
     "text": [
      "<class 'sympy.core.symbol.Symbol'> <class 'sympy.core.symbol.Symbol'>\n"
     ]
    }
   ],
   "source": [
    "print(type(rho_max), type(u_max))"
   ]
  },
  {
   "cell_type": "code",
   "execution_count": 23,
   "metadata": {},
   "outputs": [],
   "source": [
    "rho_max = 10.0\n",
    "u_max = 1.0"
   ]
  },
  {
   "cell_type": "code",
   "execution_count": 24,
   "metadata": {},
   "outputs": [],
   "source": [
    "'''\n",
    "    Computes the traffic flux along the road as a\n",
    "        a 1D array of floats\n",
    "        \n",
    "    rho : np.ndarray, traffic density along the road\n",
    "    u_max : float, max speed allowed on the road\n",
    "    A : float, scaling coefficient for rho\n",
    "    B : float, scaling coefficient for rho squared\n",
    "    \n",
    "    Returns:\n",
    "    F : np.ndarray\n",
    "'''\n",
    "\n",
    "def flux(rho, u_max, A, B):\n",
    "    F = rho * u_max * ( 1.0 - A * rho - B * rho**2)\n",
    "    return F"
   ]
  },
  {
   "cell_type": "code",
   "execution_count": 25,
   "metadata": {},
   "outputs": [],
   "source": [
    "import numpy as np\n",
    "from matplotlib import pyplot as py\n",
    "% matplotlib inline\n",
    "\n",
    "# Set the font family and size to use for Matplotlib figures.\n",
    "py.rcParams['font.family'] = 'serif'\n",
    "py.rcParams['font.size'] = 16"
   ]
  },
  {
   "cell_type": "code",
   "execution_count": 26,
   "metadata": {},
   "outputs": [],
   "source": [
    "'''\n",
    "    Computes the \"green light\" IC.\n",
    "    It consists of a shock with a linear\n",
    "        distribution behind it.\n",
    "        \n",
    "    x : np.ndarray, locations on the road\n",
    "    rho_light : float, car density at stoplight\n",
    "    \n",
    "    Returns:\n",
    "    rho : np.ndarray, initial car density along\n",
    "            the road as a 1D array of floats\n",
    "'''\n",
    "\n",
    "def rho_green(x, rho_light):\n",
    "    rho = np.zeros_like(x)\n",
    "    mask = np.where(x < 2.0)\n",
    "    rho[mask] = rho_light * x[mask] / 2.0\n",
    "    return rho"
   ]
  },
  {
   "cell_type": "code",
   "execution_count": 27,
   "metadata": {},
   "outputs": [],
   "source": [
    "# Parameters\n",
    "nx = 81  # number of locations on the road\n",
    "L = 4.0  # length of the road\n",
    "dx = L / (nx - 1)  # distance between two consecutive locations\n",
    "nt = 30  # number of time steps to compute\n",
    "rho_light = 5.0  # car density at the traffic light\n",
    "\n",
    "# Locations on the road\n",
    "x = np.linspace(0.0, L, num = nx)\n",
    "\n",
    "# Initial traffic density\n",
    "rho0 = rho_green(x, rho_light)"
   ]
  },
  {
   "cell_type": "code",
   "execution_count": 28,
   "metadata": {},
   "outputs": [
    {
     "data": {
      "image/png": "[encoded data removed]",
      "text/plain": [
       "<Figure size 432x288 with 1 Axes>"
      ]
     },
     "metadata": {},
     "output_type": "display_data"
    }
   ],
   "source": [
    "# Plot of the initial car density on the road\n",
    "fig = py.figure(figsize=(6.0, 4.0))\n",
    "py.xlabel(r'$x$')\n",
    "py.ylabel(r'$\\rho$')\n",
    "py.grid()\n",
    "line = py.plot(x, rho0, color = 'C0',\n",
    "               linestyle = '-', linewidth = 2)[0]\n",
    "py.xlim(0.0, L)\n",
    "py.ylim(-0.5, 6.0)\n",
    "py.tight_layout();"
   ]
  },
  {
   "cell_type": "code",
   "execution_count": 29,
   "metadata": {},
   "outputs": [],
   "source": [
    "'''\n",
    "    Computes the traffic density on the road at\n",
    "        a certain time given the initial traffic density\n",
    "        \n",
    "    rho0 : np.ndarray, initial car density along the road\n",
    "    nt : integer, number of time steps to compute\n",
    "    dt : float, time-step size to integrate\n",
    "    dx : float, distance between two consecutive locations\n",
    "    bc_value : float, constant density at the first station\n",
    "    args : list or tuple, positional arguments to be passed\n",
    "            to the flux functions\n",
    "            \n",
    "    Returns:\n",
    "    rho_hist : list of np.ndarray objects, history of the car\n",
    "                    density along the road\n",
    "'''\n",
    "\n",
    "def ftbs(rho0, nt, dt, dx, bc_value, *args):\n",
    "    rho_hist = [rho0.copy()]\n",
    "    rho = rho0.copy()\n",
    "    for n in range(nt):\n",
    "        # Compute the flux\n",
    "        F = flux(rho, *args)\n",
    "        # Advance in time\n",
    "        rho[1:] = rho[1:] - dt / dx * (F[1:] - F[:-1])\n",
    "        # Left boundary condition\n",
    "        rho[0] = bc_value\n",
    "        # Record the time-step solution\n",
    "        rho_hist.append(rho.copy())\n",
    "    return rho_hist"
   ]
  },
  {
   "cell_type": "code",
   "execution_count": 30,
   "metadata": {},
   "outputs": [],
   "source": [
    "# Set time-step size based on CFL limit\n",
    "sigma = 1.0\n",
    "dt = sigma * dx / u_max  # time-step size\n",
    "\n",
    "# Compute the traffic density at all time steps\n",
    "rho_hist = ftbs(rho0, nt, dt, dx, rho0[0], u_max, A_val, B_val)"
   ]
  },
  {
   "cell_type": "code",
   "execution_count": 31,
   "metadata": {},
   "outputs": [],
   "source": [
    "from matplotlib import animation\n",
    "from IPython.display import HTML"
   ]
  },
  {
   "cell_type": "code",
   "execution_count": 32,
   "metadata": {},
   "outputs": [],
   "source": [
    "'''\n",
    "    Updates the line y-data of the Matplotlib figure\n",
    "    n : integer, time-step index\n",
    "    rho_hist : list of np.ndarray objects, history of\n",
    "                    the numerical solution\n",
    "'''\n",
    "\n",
    "def update_plot(n, rho_hist):\n",
    "    fig.suptitle('Time Step {:0>2}'.format(n))\n",
    "    line.set_ydata(rho_hist[n])"
   ]
  },
  {
   "cell_type": "code",
   "execution_count": 33,
   "metadata": {},
   "outputs": [
    {
     "data": {
      "text/html": [
       "<video width=\"432\" height=\"288\" controls autoplay loop>\n",
       "  <source type=\"video/mp4\" src=\"data:video/mp4;base64,AAAAHGZ0eXBNNFYgAAACAGlzb21pc28yYXZjMQAAAAhmcmVlAABbdm1kYXQAAAKgBgX//5zcRem9\n",
       "5tlIt5Ys2CDZI+7veDI2NCAtIGNvcmUgMTUyIC0gSC4yNjQvTVBFRy00IEFWQyBjb2RlYyAtIENv\n",
       "cHlsZWZ0IDIwMDMtMjAxNyAtIGh0dHA6Ly93d3cudmlkZW9sYW4ub3JnL3gyNjQuaHRtbCAtIG9w\n",
       "dGlvbnM6IGNhYmFjPTEgcmVmPTMgZGVibG9jaz0xOjA6MCBhbmFseXNlPTB4MzoweDExMyBtZT1o\n",
       "ZXggc3VibWU9NyBwc3k9MSBwc3lfcmQ9MS4wMDowLjAwIG1peGVkX3JlZj0xIG1lX3JhbmdlPTE2\n",
       "IGNocm9tYV9tZT0xIHRyZWxsaXM9MSA4eDhkY3Q9MSBjcW09MCBkZWFkem9uZT0yMSwxMSBmYXN0\n",
       "X3Bza2lwPTEgY2hyb21hX3FwX29mZnNldD0tMiB0aHJlYWRzPTkgbG9va2FoZWFkX3RocmVhZHM9\n",
       "MSBzbGljZWRfdGhyZWFkcz0wIG5yPTAgZGVjaW1hdGU9MSBpbnRlcmxhY2VkPTAgYmx1cmF5X2Nv\n",
       "bXBhdD0wIGNvbnN0cmFpbmVkX2ludHJhPTAgYmZyYW1lcz0zIGJfcHlyYW1pZD0yIGJfYWRhcHQ9\n",
       "MSBiX2JpYXM9MCBkaXJlY3Q9MSB3ZWlnaHRiPTEgb3Blbl9nb3A9MCB3ZWlnaHRwPTIga2V5aW50\n",
       "PTI1MCBrZXlpbnRfbWluPTEwIHNjZW5lY3V0PTQwIGludHJhX3JlZnJlc2g9MCByY19sb29rYWhl\n",
       "YWQ9NDAgcmM9Y3JmIG1idHJlZT0xIGNyZj0yMy4wIHFjb21wPTAuNjAgcXBtaW49MCBxcG1heD02\n",
       "OSBxcHN0ZXA9NCBpcF9yYXRpbz0xLjQwIGFxPTE6MS4wMACAAAAVU2WIhAA///73aJ8Cm1o/E/g9\n",
       "/1YwHSjDqT+oZ4Z+4o6/pOuMKe31n8o26cgAC4ON0DdHa039+xAxPly5dmru+yaHqziQkKuYsoMX\n",
       "6QsvlCzszADICNQ+mmkHve7pL79xyuSyb8Mb8ifD+5glapZiBhd0FpxqxfIl2iyrzCSaHRqg4FtV\n",
       "yT8evftOz4mrwTw7Jbgz/LXfUmV4ivVWCkPn12p81fiRT7oc6rM/HtAWKRub7cmrOT0YH4Yo0pHg\n",
       "1T+nGwusdekbA7RwQxCCXqmiH2B/6HTU2PNj/ffhjSHhZg5ih0njcXXww6/y8cq0d/uYd8utgVgy\n",
       "z0AEFnlLKxhw7UsU7KUpFO5Y/R9OlFtnits58OOieLdMMUm8IPUQiE/LmynFgvnU27nUFkTQ22Hj\n",
       "JkufkK8WpND7BiOaHfssATNohegSfqLOUfCgTR9fEC8yiB89U1JlT50OCcsmcLfafT2YEmY1DtgP\n",
       "h5UcflBpDQ4vV5dzoT+hrZ/sbRFrCsLqdPBkaJLrlUO9bGpn6sI9sFbJHg2yhBd7Vu/uj+oFZvBQ\n",
       "xfYvY//6M+xSe4ARU4wcpJYP8lskMOVN0ByoEsbrvuyGtuh14U+7i6OGvQHFeVrC1/mB79grfdRN\n",
       "ihcoiz/sISRv15mfM6hPaWFnu7Lad10JhVqX+DA3SOD2/QT7bEDOqAFdQissBu1e2bKgtQXIFexH\n",
       "iouOYtAptDk29HyDaVINv05wZWzFeSr/R1XKGQuh74rJXzngbQylQ9xGFklHioata6tcbYvslae3\n",
       "yPivuPiBIR5A0oY8tmyPgyLtu2L3gAPe0UBaoaYHsj+WXYXmJncPU4IACuI/KLp1XsCw75VN++Uu\n",
       "xUmp7vCy+4epZOwrMwcdLFgz+6D+Zmmw//jVyLuA4oO94qGM59Aczx9a3BeJpmh34fQqyYFTUhLr\n",
       "G8+FqamYu6FLSWgZe0f/O1BlQhjItWlIBE6kStrsWTpe8R3laKVTpkZDRaobsbucJISA6N856Q6/\n",
       "VOyAbDwI9zNRAL92hzYbUaNxWOOe5o4ePfHVy/fxk0RRiNOlZrDW/8MlnKhHTuZnYwWQFVFmzqxw\n",
       "CA1DQ8Q/DbluwdtrX9Xc/Hx69+Two9Xd1VHJqb7bD4vnSvkvWD0M1N/EBkDasx2b4RdmHvO7q50O\n",
       "EQXWJDXJ1Q0ky0yoVjsXs8yuuy5+RMtgn2/nGpyf/OKebuJHrMFoNViNFG6dADze7Xe0NmpwJ4S/\n",
       "WJoJjzaHVdej44XDY6rggLSNTMUbDlMxEmT9pywwN5gHQjj1ZHJTdFsOlkR8t0q15sFiF3Lf6Nzi\n",
       "ivit+KCQDhnoNkveVHWcNuV+6hW/FGSZ/8CAWcr9r9E/N+EAIQ5hTY0q3B7sLDgdHmvI09Q9kxGQ\n",
       "bqe3N2T8fmh2u1adHtES6H/k/DCJwZj1pSLbU4Ra3PCa/aEO+OjgXfukt3+vlSh1CoMTSKU8obg6\n",
       "ZP1gZaBES3ayOXeDma3eQT84br1IHx3gnILwSk8IwvHtTIhDCTqCA5xrirW/JwK6DDr/vujS7+/y\n",
       "NgvjuK464deECen0YwGMLS8tj+NzOgwwaKtxdrwlM6v5nxB+OBpUGei9KepClCGdvQMJaXfz3BWN\n",
       "l75otESG4Of5hrRFnpQvsMVJZCedvp+td2S+RgEQwAJgQkTZopG7CJSXGXZgWdv/AqwphIFfvn7g\n",
       "ljeTiRQHExtp5RB+w+7zguSz8V3Qp//Ks6cYYiH0cFK9ACVonbyjrUINLQIV3RG3wAM/RGn9Pj8T\n",
       "V7W+yKHbqgswOSgDvo0+CrqCPOKs3/K8V4YT0L2Vox77ybw7U5QADVI0p7QKD0ae3hiJl5R0gDyY\n",
       "UKrL7tZw3cRUgJYclygyqI3WOcOdD8ox6sUVx104SnIEbwBbwjM1KKqqBdZNGqX0VyBMDjgPdeli\n",
       "0AtHwWrYbLiy83A+Ge8PQSxMzAq/GhtErkinnpfv+cYrI1u3aGQ9ciE+HmG+uwv056jOwK/2A0OT\n",
       "O4zvX9jdgNpSxWA6WPup8h/JnmYs8icnUesz0zraEisQiTeIEeKu6Oh9KY/wcqTMWnqP0fCXRNsE\n",
       "/tVfw0W8U/4sh0+eAtjkTFadZaqZSz7belOrxXmhR78yZ5LbiOBGHzw2u4BCtGsRFwrIiemnc51W\n",
       "g81attr/ARQW8I31VNmM082TbStnyrz9dQC+NWKaf4k+xY918dGEa81kxlan/ZfULuXmDrbQi5sK\n",
       "g0C2c0P1eJnx3LmK7NprCBULatPRUcZrc0PLJcui+1sVx/m2fpbA7kb/jXN+ZJpPZ4H8hY1IyALI\n",
       "XaksqLpZnjG7s3sItSC38iCCIiEfRwENxuN1vN6R0eFp3oqUzj8bbYByqjdbbqXJWpbounWlxAUb\n",
       "oO7Z5s5hCQnJoEnIg1jp4ZRwoKi1r01cROP2bNoX58RIU93dFmbvAq5BLQmnaxXWbyHDWvB3cIbG\n",
       "IHQCkj+f47PnB45CG+Lm8DygzbgnRK2XciDGhiTzG5gsJVJVzx/fJ0MylXC8Shp4bUGMZFN/22Bk\n",
       "DDD1GQCWQ3c6aS9WkffVF5B7v1GhZBxq372Iw+MSaU0n0LdB7M2CaDjxAJW3VN5thuzPhi4zSJHg\n",
       "vUMd6AQxlBqmNHdl5BvDIcdam1bb+GS+2vQqCgyfHU81/Rv+qA421K9XyS63hhOMImFKJhQ7PR3h\n",
       "jIS1cER7SEXZE1e80fzqyCCLzrE8iInGCKJPFPkrMsTJFWsZYRqwCfpL1ApH1kIGnL9mbUXZXcJM\n",
       "0YiazuuDYFcHdrNKmqDFS5z0LC5rdgc+WAsvt/MDOE10Kz5Fcj3QokqW042a8b4psozJ90qGQm3F\n",
       "w5u0xVCyeFI9FA8TU0ealBXAGlkw9Dsd+8F2zqL0w56Ray1deTR0C1ZX4k6LK3yWzTeTBIX30M0S\n",
       "Ihp1prv7LVkRkn2syWDlz65erX2csRRP595186fQ5PoM5SWDkC0jxWYJYUFPlguEX41cNGY8+iaT\n",
       "qmgz1NaD1X/5+lKYPLunxxu94mPvWYKHTchRwPfozEqWEwvEHQnZpld3PPEPDj/9hTaEw+PNngrL\n",
       "ZjDsy2v+Akn6NX+Ze2JBJj4tmTSlcFgaGdeCdPrwg7kA8N2/GzLp/6ODYrI6ffM8sfWWNsZCw3fk\n",
       "7duUV00GUOZsTqKCTYPOXGcr/MZO7VRM99fchZmIT82g2EFOiSIsmsH+fzooXnlykfUa8TI+a1Ud\n",
       "/jCTkBd/L/2hieiRXveIyCyMjMCcUn/oTkfyrPo5N5d71TD7nt/Ai1iAR+ZW5MT6E1AC87Xkx47A\n",
       "oxhDdhrYCVk2yqiY1wNhnZmBb6eh4UuM73kA9szySQZUQyIqrIDv2HTF3MYUcEoVybHi9QYxnPRR\n",
       "Z+C1SWKPwJd3Kc2xv4v1N0F+1f1A8W2ieZDh/pDGPu7v0YjTs4ikh+NWLc+5mSJO70wX1IJ9dp6x\n",
       "tY3u5oQ8DWFyTDj4rUE/DUub9/ZnVSzqpIBXK8FRHs7/BC6DsBbasfR7dlmAIsH5h/XNaylBW6pA\n",
       "ubdQIJnk5gmMeSJfy1uhJqi8ERR05F8Lmu/Qr9nSR2jJ/64Ff20AmEUHuXJ36EGqKYgs/yti9NlJ\n",
       "mWvjfsFYtw+6g7MVLwDtShK9Arfp9jZBKKud7zvrB6oNX4v6NhBeIr2hhNDkoTvCveUQLsB841vw\n",
       "yomVowxyYD29Ai3bTIuryZepZVLvy9r5OSuKj+fjvG8I0uIniej+We8Y/KpJIjvQ3m8A4Nou6pVb\n",
       "dSKNs/24xZN/TD5GnuDjOzSyaLwYkIuDGUrcjArEsYl9OMLjIZfTAiDBH07E2n21Plrp43y3MQAb\n",
       "TQ1wfLpEYedE8XsSt3EPSRNZy2FXeRxsJVX60y3yQUn/lfHPr8wQuqEUnXNjVdNDiTCoCqbyVB4z\n",
       "AnHZqeNVIuevoAUo55YslX3I8v0hbV0msuhIO2Ey/5eq47RvQt9hlX/9C9IbjIfW5OIpkAJAedPt\n",
       "gAwFyoMzSkXVaErmlQXQhNr4DbolYJ9pcgt1bYm0tfrSzfreUxpx9SuKx/XlJiDUwg3/EZ0Vg7oZ\n",
       "GDQF604IRICuswJlHVkGn0bYGSJ783cXXtQoaidVBchEFDIhIoIkp1ZqEvj/yY9eXzC0Jdc7YgTI\n",
       "+f9uXre5fp6W9SlT9Z3B0V2UjrVGIo7JZ6e0S51sW3i7baTDu/9hxBG/HxNDjpLeLjLa/sMYsp2Z\n",
       "0n/Jk7P/fg3DCuVb0+S1rj9rjY0ff9REOp9nLiuNzQHizYlukNrU/fAMEfEcol1MNelq8zwMj9Y4\n",
       "OcgBX0+qTjWaOam/EKgpnzrDQo1PO1ZIHQQtEtHZVOv/coI/62TKd1A5Gm882BlZbbjhQZG1vFjB\n",
       "ookqOeIP9nIRJ/TuBbm6VePsg1G5Szn5nIjCdY7u0/X0pGC35gcsz0nBfebyp/kcEIaKyrgfv+ss\n",
       "xPAKdPkEHllOnhY6eCO9ZuVQKZhvbdiXmyPTEQGaaop81OB7TWeh92RIFm63J0pQ1Dk3cplEiOLa\n",
       "cqXeuFO48uRzyYAlMqIxUt6aeAeCRYwU5o3DKbtk35dE6xp6UWTZpvxTmKQyZiMmRihnSWHZCWa4\n",
       "2xegq4eL5Jr0fs0PYLwiRZ4la/31HCyM7Av8AZRDBw/2UBWMz3t6Dg80GBXP2uGiHmmOpg/cgMki\n",
       "HtYmwEMQjLHaqJw6YFGDivpW82Tof7HupDp8c5ONHGHT51L8eGmTxCfM6o+U7yDhc/DD8NCH/PMM\n",
       "H0uwoLu0JHU6uFJiIXgOTTZMlOzniCA4nN7+6Cx4g10b85L1uU1OSyzi47dEAjbysWkgKktYos1P\n",
       "Lp6nKZ0CWfl8htwzF8qcYtheSg2noVp8PhMbPhZtDCBJ2EwOJY9p/bD2lChWTZly+j3lFfKhUyk0\n",
       "MUFbxSTThO3TZq876FW1qkZBCOsATNa7Qgq5D3SgbmQv4qMNB7h3Gk2FfNiFa3K3D8xv/foIKdEy\n",
       "InHhr/gJxKrgr3UGvOMzBrnh7upInE4EXRLibMP3g/AmB0t1QG2MvLDAEGSripvUOlKSKrgQp+CO\n",
       "bmGPbpmB6Uc80oNoJ3vIKdkDR4wRf76UmaSgf9Bv77IRvDn55wxfNoCfZMN+Go01ZIXict+4Ov6W\n",
       "jQtm6o5fS/8cEBJHnkf+RE+dkS/4JL99ohxoZ8PiabndISG/ATm7ExQYK9jh6Xeus/wg//hfEWPp\n",
       "IRSXNg6O/HAkyOnL/ADjTH4GF5f03wvHZc98fBGLmuAUWhktRaphm95B7/P6acamfsFiHNCYBQRy\n",
       "XKyR2U5CBOxrQ3136sO96wzTs81KE4fqjFXvf+GiU4uCnODOmyvfS0m2jcghlHkQQO2Yf9ATlwpA\n",
       "OOIl1hsQatNDU9+NC2SOsmpCWtiASlOciU3I2drgAfj3WVoQCX6vxJO6aFwNhFaCXcTcfISMDwgk\n",
       "f/J70Np/0ckgyjJApTbxs70IhXHcD3Yz0X1u0B7hj9O7ET1FmZmjEJ+ffcRI8U9SeiDIVFzZWcqO\n",
       "tF7xl5BEElM2gOnVYO5jKKXb5tR1lYTgta4PfP3hHUMYkpzzhgL6aSiXlEagmmsWk5YNbRzDfcZj\n",
       "4yxZRw8Q+kcmW90nhFnvtgNB+HsmX3c4MDqsT/mJPdLo///+zJur0Be5b/3QHWEZBOq6H5gsJ1ZN\n",
       "HQdCXhxpo2Pv1ojp+q77Qkq1IxcihxHXbx7ECEi8WP0Jkrhkv/S1aF5x8GXGkIba3xzhlRfI+Rvk\n",
       "VE5dYZHj5ExrA/dxRKee/4J5pNDy3ryUrZgiuzwKiNEreYDDYA9RuT2PpkM93Hh2sFRy9xjld4/n\n",
       "UCaaOPdJqAEdQoPoIxN6Didjn8BtThVUyJcQSssSLElMEO7aYz4fP0H7zPambsgG9DPo5GMsPlXZ\n",
       "yCY2CQPaCzAM/eJtCUcV/Ug8PY3XaPnFoD3iWkOa5IkTKE2qPf74SM76ar3FJtjV3++gNR4fmhuH\n",
       "KSjQ4qqnCPaDeQIJBxHQ99YZwq2ZRbvGC3Xg2qHFfD1TrTjD6QGVkS3F3WwHOd0MywYx2V50bqj2\n",
       "8eZO6C5J/51KBDsrMoo+HAcVMv/5aa2+R9iEcDX0Lov/cW1ONGzDCe7vHXMrhMYbYKNXooQ2CSjC\n",
       "DTC5kyEJ1g44PIFRrF9ayTUwd6SZHHt2S2fwPmitLyvEpcOdal3Z2zqkNabKdxfdJ3JXGWUtbSD1\n",
       "lFb1BG31p+Ch8QJYwsMM0TJtyuzAScidFKEeywIQ9bgqF9mKOByM5TD7V2y8RYTXCUOdex3arhpa\n",
       "pN+BBI898PApNhoecJm7D9CJG6D27dauw7crpxAKfN9bgmRanWpyNNF4ezmBJTdUsB0UBpo8p2Wg\n",
       "RSD0OpXSW75yZBkwU+4zIO6ltPwfcC0AybKqkrwCILVvfbrFycE+ae5DPQ1vNm55MTFCh8Wf+daD\n",
       "eIYw7WfwQMCvfm1rpXUTolXs0GqMekyd17epuLxZRJW1ZyWFDX7piKb5W6J21Lt2bwrDcCD1qY9k\n",
       "ynriHNs9ziwsUDv+bC24jTf3s6K64J2hQ/e9uZP4jYjvfs8nfsgqPY2QpuclicghbA24/x6qNNVw\n",
       "Bsd2n6A5O+HaQ4MKLnVUwMJ9gqA46kphdGVbDPkxLYIAd6AqYHv9aUhE9qbLOFRYAsiR1IrFv+M7\n",
       "2aVYN5/DdXfVl7UiGjyfsqHyz8SL4UBmXGliZiONW/kT9gJuysuT0IC4nzDXFPNwNtA9HFHWvwKw\n",
       "Es8D4cUHrxsA35UmZZUYmukAifEKp9XC+/GA2o3vgBj0TazLj9/KX0nK5RgJi7I5mFvDmziJn+Q0\n",
       "a/Ix2yCSCpeVt1zNBqv5fd4ixuHEFYSk9WXk00OKAQ4lmZCFKZVK1XoTLqiNhqbXXe0insZrU0m5\n",
       "rXjoCvONleio9jo8+jomUURE69skTBD2a+RYA17zY6mCAgUJpEwwLH04WJjLu8Od7Gd/nd6B839T\n",
       "SVV2vd3TdPtLmxlJjYrVSv/XBzlqp5A5hepre73oWtmqGahjkfAnpVwuqWzTudKKoHrnROOThMJa\n",
       "mAKt/faARXGNb42eAhoTg0VdS/1s0RKZAZD7s2qAHU+o+ZIFg6+BTSff6DjizpNZ7tOPIkcl53Xz\n",
       "EPNsyJDglhbxira2x/63T3+h12MVUGjEbvXOG8Jk1beXpIKjjV+TlgfIOV8zb8xhVvrHzqVLcS2U\n",
       "PGevLH47ZKJezTjQhebcKD+GSEtMeayytcN+Nd1Y0tbDqYJJvit+hAW4OScpwRafMMFERcinweYT\n",
       "UdGB3YO+xc/7TusL0/YscfDARh05NMDyHPKBAAADSUGaIWxD//6p/Z/1oA9/gQ7eXCgmDQfn2TD0\n",
       "3JJgHTrg/BhQfDvWSaDZgvo6swOAiT1bLsUQf9M5LAKCH5QoCBxs6U1sIDAeh1Gfkfgehg/AJmqC\n",
       "AFJ5hiDt+1/TMwj/0MVAttpxGd5wm3Fxetf/7fcVYFu1+dXGYV4vDT3aywBqo2Bojr3WBGmE4HgZ\n",
       "U6l0eqekekt3a0kX8L1V29LvUNfUprDek+7Pa1xR6bYI2W9/A5+FiWfHuGCJkOcPFySuWOIFVWPV\n",
       "Ds6dTVisO5g2w4izPNmubernfNzgo3kMzucigGoCPsSvWMK5KAnrMzMPiY2eIfPjYXSk2mzGN2D3\n",
       "YEur0DLJ+m47aWg0+UrwUUvbOjuNwcyT97OBQ6uaHmdMulMQH28F5qeKgEsfgGRB4qg1GhTIXp5I\n",
       "5wBkjfX3sCNXXdGYZmQLdl5iCVNDlcmJ7ylWdn1c7fpB4nZJ0G7BEXNMQcWDe1YcvyOK8m1dkYE9\n",
       "0UoJlg8zN9bo1/+4cFn3WE1JE4FoGNINOmWxgQCNcr7RkGBkiNS3YMC73EMddD7Rgf92AIoYjfIq\n",
       "mtQ0VX6AAgeE8Dz3C3a3Wn6FleQGqVYTLsmg8TjW8nRFpIiKJl/xhh++TElOOxf9WIH5wonB1rNw\n",
       "hlR9nraGzRcAGbXlOZpeVF6DdjO9HQOGtvmuwWU33qsYHruk/tTC7fcbs+BPmkwgcvZcydgsByE5\n",
       "UQzHKO53105FIh5h0+PT22Xw3dwJ5VMUN1CA2Z9zWIg8pXdKUDocHQhZqREHOatKCXZHJ8nROh4t\n",
       "9q8oUbxbIs0dZoV45bInxQrsTDbzGySa1GCXsrJNO08aLqgDjey7z/u/u4JA9JCPHNI30w+iVzTw\n",
       "1gLfD/stPh9iN0q8HJNJoUph5ZyB/YABnFYg7HbpGM1MA4F/SYDROQ0+++d8VS8GxGMaelxsYeDW\n",
       "KMLdyo86EppbOJNwaluctFLPJN1vC78Rjp0qN2QRpJwZkE+O5ycfGJpoJCbeF75eZ9zqJYP02yqe\n",
       "Nux0uj43Tdg62Xstj5js0rTllYOFiGM0hD808jJohknvSlZraEzAYRIt6RyQHJLEHBZW7HRJY/sz\n",
       "AFPhn3/hHtpi3JnC1OKZ1MAAAAMsQZpCPCGTKYQ///6poR1TdABDuZPTX6BkFwNqN0bwc0VRUY9r\n",
       "CyNBy9P1S/V1ouSfyS+fHCSHRN+gtUAPdkmQc5pRgIeB7lQehgVYHdf4yrw36Wn5tcqVzmg0bhLR\n",
       "WVapsMkZaT6BvwTfZoLL/CruWZGdSnl+TWVOfF/2BO1/P79/OUAst5dcoZ1XZd7zFZRtFeQXfixa\n",
       "0wwAJKvMBuFxcrq2uKn5WunpNWLBnhz/If/RQYABgYGyNozUa6JnuKksexuWLg3GAEHtUoWl/+CZ\n",
       "bgpDNIPfNPHY3eM/YHbA0wkKkOh6O7ktTNJfDvvQxPpNVIy8hheozx0hRTUSre2t3uwZPOtWDW4b\n",
       "Xc8sYPEgo+Q74OLO/nW01zZunOCJoIgoAIKwZuLZrRVMqoKhoNEZKHUhM4VLIT2ZScyDSVoZZU/j\n",
       "lymtAHiquGNqG2eIMDx+aYiAHbVs+cYLeMm1DQrMsbtZ9c+3RCKKi05zeLzbZDInnDiHnvgHpqS5\n",
       "DvyosHqkCp84KD92Xui7x8q90LBIopNvh3/vRai2w+/euh0qMv/23PdjfCqBR2bNOQZnwf3EF4Sn\n",
       "aCfWGYSTkbCPwNzo6v2s2+wWRAPOb6JS+WyG/9SJ+HYQsGdI1wP6BjQWk0uU9o47cOhJkCJ36B/w\n",
       "GOk/bnymiCx/nE/I7x2p1KCHz37/KHP3GWC6H5ey2X0QYrqBwubYtCfr9JQfPL32wjRwghrBXCnN\n",
       "IQCLRR0C9KQLY3N2PPXIokvNlJum9J+zZxsS9ehSNZkQ4mIvIcuOqMQfDbZr3EcpSZZLERz4ZND2\n",
       "C67pNr6v4tfQu2YC4gXcgq+h6TyHM7OS8Y7hu4GJ7QDi3PEA0aMpQXejwHxBtm+PByQV2q+hXHpu\n",
       "kGQT3AXrLtBOQJdR30aT/+mfVymKjgyeSxNdueVVMzOzo+AtRFZ10d6AJKot5JIFC5mIHY7UKrz2\n",
       "Yo1VCRJEA1XJjjzpOIMcIwoKX3eSQcqz7Rucf4bb3JczeH+PP33oFaWfupXU5MbOeRYw32AdJQHo\n",
       "eLjqjOFp6xxyZwBVUr54BLEo1ayE5NRkk10oaoZCg2HgyoEAAAK9QZpjSeEPJlMCH//+qZ/wnB9b\n",
       "QAQ6ChMHO1i7n3Sng+VMO+jdM30hol4TxDBKupwqe0bjxIURKenAjvfwxXGAzJfJLlvpsrMIgnFm\n",
       "eVzTfJ1tIMXr8IS4ocymeGQaVPbuigCMgGFgRPFb29VCsuKrVbDEYmYfQADnENB/zHp2sU6dRdK9\n",
       "dvBZDVWYdu0hQJ8pcFTTFhReq4a6+U33c2GuDtdlAMezjhTCJqV4ilsvUiNHaHPwlcPNrypN3cjm\n",
       "G36nRHrYB8xAL+44V+8DNuBnEickS7rM549UDKJiVjVIlt0mvKGB+5hHAE0pOn4iLDScbNSWDjaG\n",
       "+PSV3DvvViIQo+JAbvpwWXTXpPrVFQX8sYRo5WQFuwoEG+aUv8KEGCM2BqE/0wl1K7STswY+gV0i\n",
       "JoFOMEswXIWb/zdHFxDWzmzenCFk/yrlkUhFAvLDYAHp2S41EKSk3UOQ9VaHZJnJ8O5VV/cFkNhl\n",
       "6i1s1xe4GaZ5z+QeRTZd6iwiTKQ0qVc4N1brF20AC/JgTVR8pOL5Jj+09elmwqyTh4XOcVu4UZdf\n",
       "L6nVqV2XvlI/CJ69PxMoljsCWE/R7YHDEs8OGvVhuGRsD6IZHcePXODJ6yvAaEw1/iTbblztN2Od\n",
       "Zki3iFmTmk8+Rsq6NW1Ot5+C0S5jUM/FWvJPjozwyBygow/Hi2E91yrrRFujFlibGM1znSGdPJOZ\n",
       "gwE4EYTCrW91c3L2BexlRtoM/fryYUtLpIHd0XVCdGtV8ueA8AhSZcrAYvkLd0ZVhpUssMqBeQns\n",
       "iKQLbu0uBPcYywIHBXRZ/2Kf52EcOwxYFCLEKIitE/LP+J2GjhJksu0JmwOi9EBFhTCbKuCwLIzO\n",
       "PfC62lR6wNfkxPLJ+wdl15bigTEXaTmoMAG24+dtQeGjZFrntibzySe4opSdpNrww9dGwb8Ri8YA\n",
       "AAK8QZqESeEPJlMCH//+qaBtiCC0AEPpvBw/SbVe6BT/gZjziJQNcNzJJWAmRreV/cjdkiiSUlmE\n",
       "sOyBGZQ2drs0MtOnS5M8s1/yLiFs3gsAvaW2tqBZnbc7vjDKCRQoc6hI7MBijIn0Omzp186cygEC\n",
       "16ewIVAQQ0e1q5ME+GFs5PT/+peR7N6xfiCBlA8V0gMrR0d32YJgQVVDlQCZHG1v7rUvyofwulfS\n",
       "y5YmyMlVje/69wnK8Y2KpT1uxQOmtefGKF+d2jiiXRV4SxtoMtTJY5S7/N+2CX23soUVh/uooTHS\n",
       "RjwHJCo2c6V7PRKjSbhmFutAI3dXHYorOXv4RZGH/IeSFaA0u90Co+5EKKU+RvB+DX831HN5rv8l\n",
       "9MS1QdHCp/ygYHhf48+ecyFMFj3KvxEWhBmT61ziSUD3ANHudL1nkMDpOy6X2Tc3N9edumwHQ/CX\n",
       "jY9bIydBMPuolnIHUXgkppWMExOVJyoB128O8uJFfD9ADiOU+H0rUxaOJvV55Xdx+SuEAXB8WsYc\n",
       "Qdhvz+xW9aJl++hdaMnZDTbSHl36sYkuQGvgs9jnnD5sFviUoNMr5mxxYAUQeSbW5tTJxRnXNE7b\n",
       "kXQB8Oe163jT1tZqQXd15Ox8V40muCdio5D4F/5eypPvDO1CyppE8+hNdWShpRioxl1WPLFzr+YU\n",
       "ja6Eo5swRGdpQzy4WWghYXOuZCDJz21H/neJHNMQ/Sbh5N95+S+rW24hY3ypf4nrE6VEg8IGmx3t\n",
       "0j3rVyjg8M5MOyz0T95x5+v9EBWVLqena6/XQ5fPAO1Jn8xdSHGZF10MFsNmJjuxR3DZPvAXtWcP\n",
       "6jNcoVvTn46up1zsW+WC0RUnEG5WnSu1oM0cJIiwTsF95Qs9R3HzLQljJ+Fgqo9Zli3I8GL3waAA\n",
       "mF3Slm3pcFqHJ8OxFSjfuCdSYQAAAuBBmqVJ4Q8mUwIf//6poCCGMAH64GvHjIwlkNYfRg162SGW\n",
       "MH7bP6wfxZHkdLKrBv9d31DShn9MXpiOGp9RFsd4wRaAwzZ+iz1xQf7wypA1r7EGSyCqD4jOYjXK\n",
       "+MSc0PgmgXb47dHbPZdO9NUxTv2VhtWBvETuOj/6TUUFBEs+Jn+F95jy2hAYo0r20yinyz6s0w6d\n",
       "m0p1cfGKkKW6M2isW8YYoRXo7tkkXLhWh8U62mwrHSCIRChqyVlH4CDhERngj2Fgg2eMQyU/PN/C\n",
       "ycpM3RHScixaKLFDZEcXhITXKsVFp4Wq/iIrVDsaGqia/TSJ2NCvoCAzjQbg9bys7xhVmTScEcpo\n",
       "+n83m76gFuQ2y9e6/GuV50hz4gbjFvpuRHvoP7ecH7F5kc8Zk4zP/RyfFpUVHPVGJO9P75mYsVdn\n",
       "bKDUT+fzx+lAcYwzGqxjb5QpQdnQBwyLevFTle3DegtH9CUCjdhbBGv6cxYni6BtHZ1dMmbqbz11\n",
       "47/WVBtfupLRZeT1ieDsA+h2I/sdByqUzRkIwXThaz5NQdR5ssu+zzNMckvMgIXhAqXw+OeXpwLG\n",
       "GXwUf9ORtbwsOZoDS5ILPpINo3BAFW2DxdZ2sRdcacGkdW0B/lgnmHUdkExWZMnCKDMp1SbsQ2Tr\n",
       "W/7bY/DrlCUOSeRvh0G9b/sgRqlYLBCwoWINsV9t1frlF53vdFQZGUW1YJNYthy9o2PUSk4ApeWP\n",
       "9bNBdvu9b4on/hKd/lyqjks5y6hi4NTB8fT4JnHOcbRR1QcgPibfgmJu+eKA1ByUJmCaWmblsBuf\n",
       "hPKElFHHig3RPHV/lzr+Q470WVWVkpG7KcjHlJlEy46fkCtU3UZszm4flnXtSQvy+Fwx+nV2Aqag\n",
       "clG7uVggV/Xyx1Lm6/NWjRDwfncfzSN9WPiEyrfNNC+aJiQZ7PYU2/HIkdeziHYI3Oj9yw73sFWk\n",
       "9swjJOJRWVoiDa+MvgCv4s+BAAACiUGaxknhDyZTAgh//qpZEV9Y/t2AAhO2wIIiE0Uwx3DJaoyb\n",
       "zF/2vBkuyAdcBCqI+6xoduY8ih39LIBvlTZjRLmzz/CXOwDXs42R9TBvX5bYw5L078QdfZbEfctq\n",
       "QrEwSbGub/RE0ENiWA2Tx+cTnc/H366Bueg9J7SE3jF9M9Kxk2fYQypDd64tGi9ljevSDrAb8jDv\n",
       "U6Bs/mNQhCU1gMdb24nqiscrR+HCJIUaMlbvkLYDv6BSoQx6NPoXjJraUlu1krC+YM0As59R9KIB\n",
       "+6VtZhDIHH1s84RKu8LGWlgTPK8YenDbqSlBjQ8l7Spj79BJcX76s1WnSKDGRJlq/6pHB285OTpU\n",
       "OWKzkJRmcq03VKFuGvWILpiG2r4sT9RMHXEOln/h6MENmmlS/v0j9pWwn1sDHyf/V5CbwJrVh049\n",
       "DwLrPm2B0WCufN6P1PM4cdQtwOg2Qi5PXv9foihF76JULJjOC2fLr9ZzsUgY6chCHG6M1RLHTyKP\n",
       "0IBr8il5Sttpb6jKSMe8HA/KexEDgejqRlb6DVAT+f7mCcHiS8Skv7Ur2tympLfcBOBEET/eCcLK\n",
       "UORK8J2yBG3L5XXM6mvvbCHhcfBoLogkf8ZvvG4lZCJFvaVBnbqyignHjOqqOqfVqKP7BbHf5zat\n",
       "gSNuumyPEz52LMPjmb29T4l2Sr3U9yQ4aD45xVcdVqJgzO/ONzgNOnOuFZ9rleN9J2wMcKYn4cgK\n",
       "4sRFrnsg/0cd04rWF+fKpvH/rmjmpATM5TBHu8FVfMiJaVVqWgvSkOVq0ClnDhgHupYoW+hdwkNs\n",
       "Z3Y88q3lfpRWhPdun4LsIUJr6jpYv+9Hl/7OGGKPenbN8w7s9ZFg/yAOYKkAAALgQZroSeEPJlMF\n",
       "ETw///6poBFDQAQ/UNF3QEDQ4Q7mSDvd5W1MoZ66RWvS7CSvOcXQ0YgGev9xlxJIFa7YcOei7RgO\n",
       "FgDE6/maFUcHUEX60quEjzIigPKlKMKELbxvsPmT97vjuW/87Hb+gmiwI5ZPO7/5dlRSV4RevdcS\n",
       "9scUaX8Qm2MYrzFwG3taRIVqP2MGfQyCCO9t6VgYbOfHFDZ6/39xGQwIhOLFP8JRyiT9lkFxb67f\n",
       "P/S+a4cW1Wp+BzA3uKjXmELBRtABohpOR0+iNNLk9Rtg7lvWrs12UY7bogntC3zFgcWMtT1nESVa\n",
       "pULRYvvYjui6vsbJ3LoG9avYS2UWNQ3SOLpf9fRhAGv1Q+tyiRytAUtS9eYVB6FtHstAV0RbwvbD\n",
       "gu6nPF4BlXDjk/4gIl2MzHIgR+9yJlRC2PSkC6QFy54O+CH2SCPDUB8EI5SM3eQobD9KhCKi6rIs\n",
       "rgVrGaKh+RctHZBeDi0gggXqctSlytDMJOUeUZYp4FhAtgQqaF+P7Qtd4ddaZ5tQZFmkN+LZlrrF\n",
       "9mYrzfYMmNw+gHENFSHjYDdyW+vk1N6R08RhNhp5z9M56iJv0/OyB42RJ7+CASqsQSr3+gdNboNk\n",
       "x5s3zjTyrc3eFnUJZCtP5XQu9PV6++dXoiFqG8RIP5Oba0I/W1i2MCS4oe19zYQBoHQ3+SRBKEcj\n",
       "xTr4ii5Z6ch5S0EuT1ldh0aa2fDksywV+rvnH+qt3J58jfq5wpbW5EVZ49LzBKPaGbcgd4HMDrv3\n",
       "W6aLRs6dylp9OsTIKsrDbY/Jo7x/CYdWmjqfvt5jH9sjMvSxrss/9MYLDbhgP3BmuR2djoN6K3vM\n",
       "4qvMRTL9kqFZ26yQIXmED3M/n4pdVg123kbW6lmiwMKat93YVIJ/mGcDxrc1592VjUSozC7jYnzw\n",
       "UHAg6O/lUHfGY4l99f/YTnwliE80RhiTWZF8hnvTfyeL2fV8hD1yNAIREQAAATwBnwdqQ38HwRoH\n",
       "gBCGvu6jfkFKfF/z512JEVrPGCBSM4rGTtxRL34vgSR6/81abLTYCxDX4obUhA+LFH/ONchsu5Uq\n",
       "s8c0f+evWWwdxatBVDRmcRh+G5Bv7/UOP6aWMQ6U3ezHBXsLJYbXEgn+tQKkVcbO4QubxxqBglF8\n",
       "teHYql9iH7bJa4ePmVpIRlq+mcQPXoJ1RX0BawfQrRE1V+tPgeaZRzmYS10KcvgrA442PhsKJQ4M\n",
       "xokwCU6LHVI7sWDu0IoMOZ60deZAa/5N13+VWeu2sx4rxZBvzLUm0brdhQckXJE7fw/jy2X2UPli\n",
       "o/2IvHHssi2QU3RVM1iWpcpDpFAfar0rJvWVKyaowmGmetG0AlkFJYFhU25MAABwABRG6f5NIian\n",
       "1ec8Gjqi2BrGkWznLSSjfsZFn8SEAAACS0GbCUnhDyZTAh///qmhAD2XgADfuhgLyGWkzd4pg10y\n",
       "+6SwtyjWRinVqOKgLj1AvGRCgTGbR4UNtZUlKaPav6AXtJ6hJx6NrjtPNSfpvznFU/EPjGJDJmn5\n",
       "hSl2zIxY8dJtduNLsm3/q0qepdRFOo638Ek1k0uJwrsLA93j+A52TlIikXsXjzIj54otMH419pud\n",
       "9VHmlUoQvtkczoiu4sQA6ma/5Z3peYjB1Sp/fmPmJFHT8WYXaCFRBvRbN9fgLD4WEEHVMeDy/vHg\n",
       "/1caTJXwcGEsbErXyIEmpMbfKSnPJU4zIJj/1ov9aQkvbqJQH/NFRhWgwSfy3ZzWUn+PFtGGcbgG\n",
       "f5QvzVbmOeFIfWRi3dGGzffSqrHz6+8WMgGtATfw4hYLbZjUWFdFe6l83p5BwIejUxp4fUQVqIDO\n",
       "EZmeV2872lij8sFcXNoqgJxwEtRnV5Qus7aQe8HMa59Y25V6tqRsfxXFxz/4lShULucBvFe1c2VD\n",
       "LsFT3UmiGUbbY3ewt/6CNiTwz5VGlrRl33B6M2gR060X8XCd11AXmJm1IJCeSl7YOtmg92/8Ue0r\n",
       "yhO3xkUI5Kj99UcBVCUSLKJKTPVCWPKNaN777+szpmvV5joSQ+gMjHhOGS8f3HDk78b+9QPnIbcj\n",
       "N3Juc8Y3u8yJcyu4KVrh6AXmgat7lhKnwyh22kQO5vcu2QPtbswq0cOHKt2DNSNIJInVZZxbiVmc\n",
       "zL9U2c6bpTqV7CMVqqGaeQ3nZyAy0pIMxgLwxuT//YdQP9tcko32Aac+AAACdkGbKknhDyZTAh//\n",
       "/qmf53jCVvMOn0AF9d5vI+YjwO7RrRxn+8FxYqHPLhfgWfFk5M/ZfKQdiibP5gdGrknGpW7QBEwU\n",
       "sUAesHHZ7PBQbBDn30jGhYlKHo0fMBC/glDa9ZgOluPyxVEyMAq6ZnFsMHy9dTC7phd98vPWAht7\n",
       "Fp8NYTEgc6RCq+gN3YgoPdpd2BdnpRoc+AoYvlA3XBrnbBgoGijpbvRd4T0XVMkABA19rv/P86UP\n",
       "f07Tis4gYIr77h/tFWIMG//nD8ZlnAwe7YQBCtB1n5Qku7WpfVDNQcGWcDejWwg5TlLRNhHgtFHM\n",
       "uJGWJayDwQeMHED8V/JFCLF+0j2ABQagv6+M5HCxo9heyIo+sXtzDO1uD/thtAMSGPq7KZ+KaUEl\n",
       "GPDEYsv/GVkwXm6VmZgwCN3f1Aff8ceOED2mlwdOMfyR2hCIH6+eHQZjgJ2j7TZB9SSI/uS3VnJX\n",
       "W4evoF1mrFov4PFnfBWUXm2OBBdHcz9gwF3JPD4juVlq13AXx53o2o2XMZ+zt0TeNpF0wmG2UvHz\n",
       "U4Tx9wr8GmfV1KeAsj0HY/EDTX+Lg84mD2ZuBz+QJn/hf3Co8hqDgGtnDGrZMlIysRXCEr1O3TJ7\n",
       "i61t1X8fHDPhuXubVR6GMRAh5Tldl40Qn+OCroCsdWCY3TrHnIlRKjZKQCDdjiFS6amJp6dcgJ0a\n",
       "akYe7buqsBdFLRDRgjZLrSnxoSXIk6VabSIHN1zlzlO9WoATexEX7UyCh8sAThgQgarpHho5NX9m\n",
       "rzjCFucUVLlHsXDOSjNSkZXKSUgSR2PwJt/j8ND8ZiP3bQ0xKNfMDuFNFMxdS2+eQQAAAp5Bm0tJ\n",
       "4Q8mUwIf//6poBFDQAQ/Uom74q8YjdWj61aFAjwpksh03XBtaJqxQsfbCongsPZvKi4I97M0oNXF\n",
       "lWRHkWtzUNRUfw3joDvKv4c71+AQkxynbkE0w8f/TdHxwmk8c7hPa8+ePULKmpqg46utudA/tA2l\n",
       "bremE7//2PwNqo8u0d6VXLfryrYTB/3xFXXPsPyjZnJX+4oVo+IQ8W4FQg5IAls/+wGZCXpKarfw\n",
       "ZvvU2pb4s7jHqAuEQy83Up37a21fRLDmEPeiZM9T3ju7Zm+FisJaW/SkYoQ+R6sWhiuY8wdJdeXo\n",
       "cF18/xSpnxZaODDdJ4f/WdYf6dmKAkvlILMdzEaV0TuDdwuwipzi2gqhDze7/+SUeVBIJWsrKcJB\n",
       "ZGh3H9QItmenL1czg0iv++cpPSVNNPcrtaz8LZb7x+k9uCjNc4L7f+xyGEGSSioZFJkBaCRzl5gm\n",
       "h+117qL5QuH4/y0MNIdF4LdQmLR46Y4aIyEKW4RZGO9vVoWtcACut6MRH5zun/e8ehy5Y6MYmFvn\n",
       "yrXDtDYX9j9uSkK6fyxSt6uQxEQ9ChVSJxcoHzLwakVtHfOw3t3qQNsKqgNDVvQHSdJXfGxNTKK8\n",
       "FptfYvSdrdZinxNKRZh4Fzcofa+2+zwnsBbO6e7c82saWtnQdF3dOQOcNidwJ39zkOpQ6R9wxu0e\n",
       "85tX1rXoztkwEd47FrJKyY0uvQ0iaabkn0p30Ogut0Mpbd1DA6qidhPbS3S/xBctGp6LxNYhA52o\n",
       "kKl9Za/YMr9iSTyQiQMowEoNAcGSrtRIcurgBeRBnfehg2klvr49VpmDF9q3xEp72RaD+pKxL9K7\n",
       "B0SnaAWkK01yK5v7rgO+v9ZvfQ7kC8LNko44QmGg/HJad45euBCQAAACtEGbbEnhDyZTAh///qmg\n",
       "bRDtABDu2ksk5I+p4oXAjkzKtk5tRlcMxzDCRS3qCZNkw0KeCeRjHKqdsi4RcTp6gNwJAj25gRz+\n",
       "8h8ja/x3+y6qIaPzg5TW5Ay5BeKt4iWtmd5zmQAO/u+eIMKZHH5wRmifq0ukiZ4t+kJGVp4Wms+H\n",
       "9ptofimaZ0UNgBf9s+MsaXkAB9mpaN2s98e7KnuudqJfCOJd8KdSelBE3GpYPBX7jIyf6vLyLibO\n",
       "C4UXWTE/1cixiWYqHkS/FpKY8GoFLkPGQknYdQHto9KWH7Y9TtkYTHm6TUMiwtqx7sGXYQzd2w19\n",
       "VPMepTrpCbkpWEAStw3XgaWznXwhcTV9oCwEnYYrRcQVjqgYfv9hg8JuMo+TpbNz+PbFCHKJHqkr\n",
       "09+WVn0M18o2larnpyrzGZWliFvKObyllxgeyUIRkDMQ+XntSvz3EekTOfIQ5S0HgT/QRudsm71X\n",
       "WxFGCiCArw3SAnDbSBgbv2AxQQgkLPdLK08Eo96sppOvAoArzbxwgfRnEqwVH7oVr4cTMt1Nm7dk\n",
       "YkrrSApmanTj1D3L2ngZgsraIS3CwoW9P4IC1ZB+qclAq3xGY50OrHbvAMU89S1bHBLWHjTSHc83\n",
       "QSdE7yXkv9uRhaqOr6+DN88RMrrdvX1BTRPAud8BTAHl8KqOlsYazhNejvJwWuQWzVJZxqjdMVP2\n",
       "9w1liYvstX/WUvJj4cRHG9ycrUbIEZkw8dgcPCjiz3LAhjDNdRmMFnDX4SEh+PJft0dfwf9jt6I8\n",
       "C4rovg+BpH2rs/WH/J3TVW/zPVRMDUXm/IWc/ZKHtsP6kix9qPo/d6G5KdklOTMwlD88Jak36xb9\n",
       "nv4HKYCVK26yYV7nBkh+SwCNCT/gURgmsXhMMgu/byq6g3//ozVI/4AC5l/DbuFoeD/AAAACI0Gb\n",
       "jUnhDyZTAh///qmf6eCJ7aACHRGxzmNuSM0B+oLGt2GKV/NuzjnummXB0pPUEXAMpXDV0xigUxaQ\n",
       "MQ1fBSOtz+vQCvKmXXiPxEgm4PyK894RBBeEgEVOa/clcDEEI8LQP8Ajk99q4hbKiInJ6fLgXxTk\n",
       "lsiFBTLvYwUbUfxkgGiUMkVU/C399uTs3ofIxDrsQqL95Ee2lSvYRluSLJAqEEqOoXswQeQdt7BW\n",
       "TmqSJh/hEpn9NEoQVRhoHoXkaNtLyF7hwnyW5DUp8yHLAN/yjC33d+CwXN6Yb3LcmBFaZcJUZhCs\n",
       "Li/yK+hPnvpEO72WsClQbDVc1GZuPv1WDwuEAJQMPplqy1adCLu/Gw2a1hXLCZXnN5nQdCoIsy0f\n",
       "drx//QZW0+pl5qJJxmyrIksQcGH5+d42XokWN135hBocstAgdQ5spPFJo/VTTyerHikpue2Ah4WX\n",
       "8pQFMBiqYqR82uj1PwUP8KDS2KapGKq43+yoj2b4ftTIF7KA8vdZnwqDN4a00KGuNdoEcgV0ck1K\n",
       "YboK3O/DtyVfW/rIky7M/WRXo8vo5xRa1r+2MnKMWlAksv/lGScoWVwxahppjZA3Bl5sKaJH9nI9\n",
       "QSZt7ZC+lAOwu1S/ouFSh0eHjsZmKWPsmW67UAQD5GsoArfVDMoI4fH62Tefg2AXpBys63biNpNC\n",
       "hbLBlPZ4/4Vn/BnKVZx/u2y0tLdh/ws07yuxoRvIdLkAAALOQZuuSeEPJlMCCH/+qlkRWkEGY+lA\n",
       "BECq4VFkK1aonbm68vbE58LOD3gad+4gHe29SD5mbgnVIHY1lPhDerJ9FN+qtJVl9ttQlqwzsU9w\n",
       "DnpGACknix2q40Vfx0W2HQKszBSToIikTEZiZYMF19sMcnBGxSLCWQLJaQEtfYg2TkEmNzr3QFd6\n",
       "FEQWltar/M+3vZa7D5tN0ZgIMoU4YreyYztAnL/AMb2nq6Aj7FDPTwrqgegAvp1iFHn1HOdYj954\n",
       "1xznK0uXDU24Wu/aBCW4wWc1VJ7gvE/ZWDb+Qyc+Im05Jq7kehXwBee48WuyqANI83XdZA4lg8Sx\n",
       "1shVbFCglDYlaW0kTug9SDquLTbfqpuxcYoOChExlMyXA7lwZHboZ51lxZN/A1Lxq8l4n4nDBkQK\n",
       "CsP3SkITfTpSd+x9HT72hHiVvBwaRgfHTHoLSCVmJjTK+MdIPScq3DaqVkGZ3f26/eU6jjc7Li/y\n",
       "MVQlH3kqrhQ0VpLMHBFVb8cG+YDqG3f5dJLJzlxTl2y78VFs4TvsOJwfknnRkUgL9bBNDJsMUh0Q\n",
       "6hZTOEbKArArDAcAph0fPaI80Pk7KADx8OBJryWifK2r5+Srj/LkfGuBrz6iU4IN4u5gOg696jQi\n",
       "64DEQ8kaDX17qVg/LQiBON/OdhnL2uCavH8DLOD6aaUWb1t8iDTBBZOYP3+gmfsSuR3ImL3UG0kV\n",
       "Y5PsTAoEWlfRY/YV3ZkFxXgV6ZsN/TVeMqiRodglddtfZuyaQfmGNgoTWuGJvt5tO64MfZiGxH49\n",
       "AftpamhkJAqa47pAutK6NOizsZLjkj3hbbP2x6/Q8r5XVOAi90pt5y60of9wTrr+k1q1PLgw37aQ\n",
       "lf/Y+P4i9y2iDfBOvKRP2dZQR3/hauxYqNT0r1efihBmE6ar9CDynssEQPixdj6Xbw38B4llGhys\n",
       "scHGJDQvLPc5M0pX+QAAAuBBm9BJ4Q8mUwURPD///qmf6169KWjABsxOneCBIPVFpQEa2IblEkNT\n",
       "GIGEIlNgCHQxCyrMWzpiCrXhYK9mwqQEbA6cSC1fOaKxZCrOpuaCLFY8X4J3yknPPSSRzSG2KDig\n",
       "fmej0UsehUe5oJbToeNvC9uV6rrm2YBsDUtFB7DsfE2NaQB/4kdKsFH/gsTgaMpFxzC0xesWWBMm\n",
       "raULqS9zF2X1llN6Nw2HQsz09FcZtOxWGidI2exnpo7zJfq9leuaOdoNZJommUKAflDCaUAtzG0m\n",
       "nh5qUK+eWkoD3O/NqkDLdJeZGY44d4jDfcc9nfGaRk1EPqU7L4d35n9eTXBgbbqKJoDveeCJkuNw\n",
       "6RbTgDbbK9nMDuTSy2adPJYEgpld64HimdmyRSCZIZuWITaeMU94MwIQ2bg+PED7qu8Uukhj0G2J\n",
       "e2I7zoWnJFKA9U1h7/lwSGC5JpzLNDH7Mej2fncDpIHHjQV9q5nxdwlpWMtjf46xLo+NCPc0kjMf\n",
       "REuuRtXJOlInGS11SdKrnTNaSCTldcSoodS7YnPIhhGAr+2PwHIXF2l6baa0pu5DkZYsWG//oFFQ\n",
       "As6itVpvhcKh0af7lfo/45/4xW6XwGZcAyz8/JyyGICTDg5WS1n+nOtro8oYN/I+Ha34hR9LyTdV\n",
       "vgshEif9cnF/gAKRQqjZUWueuXJbMUDu/IHxbgjbZas/x7tuM9rrmkEEcz2Cz5qAxlp0nPlvrdIH\n",
       "qoYB9vbZ42kXGuWgyK9xNznp4jWJ0MNDCv5K9IGBiltESVUboqYDF9asp7OdpcYBDfMB2ysB0ciN\n",
       "GGwzNx1ml3jLXlODaEHXTfHju+rpUr10tzHkwDu+kjqcq208sy+US5BbgASZeSWUOwFXI6R3prL3\n",
       "Kym1Hkr+UojUbwV4/TGkUjRnt7jnCkX7QxkK7Wj9F+0YNBimDgFm2xsctJLRCwe4gYj97ktTj56F\n",
       "fGRQWqttd9pAf7g3AAABHQGf72pDfwgomRHgBCb5pmQSgAc4WCz21GmULKiP7QvJ4kxGheRb7Bt9\n",
       "JPAzGw68Glx60a6mrqhnuNpG4yRsSD26hDjPGDRXteYwUtBLv3cbf3o/X8T6xOhqYagnt4/Jl6M9\n",
       "hRMZXz7j++5cwrjhpsQR+Y/BNaifh+ekQr2KMNz+b2nlBXwl2p4SSN0Hg5VeoSG/ovTYNYeKU1h3\n",
       "OH82eJFSv70PP/Aow3+QLMxG5iQwfykagC/rI9aKaOpeEo/LfWzM1Ren3M6sbK7tjkIAZ207ifBT\n",
       "/jC9V+e76Wi4g8LA+Va5O7e7h2ZEud+Q2wykr9Ah4p65UfCMGcVY27nJfhNa5NC8IapiUqtdfrUM\n",
       "yReryF0aVfTFdPDvVAPErgAAAk5Bm/FJ4Q8mUwIf//6poG0aaWAD9hMSGpmCkIi8AiLUrfMD5JE6\n",
       "lvw29aklHyNIYiyyhhHFA8BaCb1wKVRgt3pRKu9M2g6SPnowC9kl1A3D0GSOH+sUG8I/P43zypRV\n",
       "3+v4wDqmxR4UlH3DLePP/qhBZjigC6kurAuFNm0l9TjpdImox3tBWRrAvljkfn5AMJ3hPXfQCFQC\n",
       "cd6IQDFQ1rwon703fAa/bxbfI5NAF6Ymui+uwHAAkd+WdYxIHIzfKPmql6LuIXdFAfcSwHwYw3su\n",
       "6LYv7GNiVqYejd7BBixqef1/hwXUHMVUCz5E+H7RcrN3Pm/7AUxNqOwZ8CQXMLfJR79iU0/4PRcv\n",
       "SNaUAlwrGotbGMad9CwZPnO2oo60M0DmqRzqd50yhMra6tXIS1lYvxWoNfuV6fwBgYqe7yme28Id\n",
       "Qm+vCAGnWneK12faAxQG+FRmt+fvMXgm0PTU7nnANauuYoy5OqcRMDMfXtpXb8G2Mr44gDI1BwhQ\n",
       "6iXAjOGbTfz79CNcdaZqnEGmLw5o/Ddq6pGEhBFuGqXO/VgG6R8mmWLJRGmrM3fjvt88N/ohqx6R\n",
       "DZLY6ehW7ajnXjG8h2nUz36Xtxd3IeB08TumbY76gqXwVc100sL5kaPKloGo3ijoF0TMQj/SJFns\n",
       "rbW2y03USYFqGUpujpnfzMTQr147Zudp/RDLD7LjbQPdLZrKxDyZPUt4y6qaQ9zOyDPNGIWrie1I\n",
       "lF011ZdJRYUcMSR6nX4NDS6EYwEqftr/rN7vt1Qf+yITRLab8vbTKgAAAjNBmhJJ4Q8mUwIIf/6q\n",
       "WURZJQAOzNyt2GrFnbk87MB0wXpISem7Yztep1rwNUvidVtICxZmZTxdxT5ag9jFXZhseQ/iABr0\n",
       "Pd49+ME04cC/QRbpJz2n3vViWVwsBpdn0mvC+BY6MSqOusnDXy5AC3svKhvDOzMpgW9eqbAg3hgQ\n",
       "D6CLXiR2kguHUMphUpeeeELoQmto3jauJxvbcLeb0zfyJMezs3wdoO/r3H9d+63PVucjxzHJAXnq\n",
       "8xDH+pr7thO1Ajf7n3+cWuvROPCdc51AGAuZMR3ddsVdB1YifomPIcUCDYtKnyklNXCYifnpUThP\n",
       "pzd4ENdM4v14ywBXoH7rcHoLPo/HXU9Z37W3WwHXa9d/0UsJIyGy+2ZGCdZ8Gjv2Eq/leukV0xMa\n",
       "XXbKvgZ/e4TCwmr4eB3/Vd533fJRaeRlcpo7Qj3f+/nRxZ+DroelP3Dp21N13bANSIaScighXVdz\n",
       "JWaSesFgE6gIclwiMONVii4ON6NHtTNF1Dh6lmfT1SrRTA7D1F1yMBa2Ek9vtExO3StaXj92Bpwt\n",
       "Fx8iAv+61NfjnLK3IEShrRJ8VbFYMxHq0lhzLjw86tZSfJcFRve237F9cpqf4IOyDn8NRjJZhTWm\n",
       "/CD13bXqbX1ltVegHL3K016EuOXMnEpDeCskmAaQuFvmj/JX/uP8ekx4ZzTGlElngggoC3OrnUd/\n",
       "BTKtKwhEI7MxLZkyVXMnZb461h220HmNUstAcMrdSvLolTzBgQAAAutBmjRJ4Q8mUwURPD///qmg\n",
       "/OceADaTR2/XZweNNWS7fixobfM4zf8c4bTD5TS+mlGAZpCuMfF5kA3RazBHF+4qdtGllW52WJWa\n",
       "I/WuL5L9YrmYJMHYQTB5R+J6JaomM44Q83AiU9Lga8j4Zy/0eiR/WCLFY7/8c3X2fAvL7Rf0MPj+\n",
       "oX5sPaFetGGFxMl3e27djR2jOmWaMH6q/qYDt+hMCTh3+7Fj/VzpNbjaC5V042/NUuFm9W+COuqw\n",
       "QlRWYWMWk4y9BrI4u7G/W4lojkyVm051B/+sIqKZ5UR3C4rq+x1sv82rw6qH4s219xvY2V4kxh0U\n",
       "mx+M1LtiQaiIqPxGMqAPfHv7276ILb+yKPgKuAph1O/eyRFMvX2LsikBdTIP6EqveM3PDCqGwbZw\n",
       "RmdLNFedsdqtMBPe2ZFU/FTv4EMK07BvEb2EsmsW8tWXXe+znfOed229O9WFwezPysSevSHSGxWm\n",
       "ZbJlAqui2f1pMf56vFOW/AwPFJiWF27gAYVZICP+95kAsv6s1HozAJv04TdFbVxQzYvKMaQds/Qv\n",
       "14CqWMAgVpW/3WjaWQhRhNfzlczx6rAu+Bhf7UozcmCFBDWat4HDR8RdOtbFUMDRgpS63fTdQ66X\n",
       "W6n3kiiWaS0MAEEtKOnQiktFPPY5LM7CQbG5Tb8lKB0BbTd4b9bzsd6UzFOhUw/5jHYw9AfJ09i9\n",
       "If8vz3EJN5fFNEbtwk7mqzwERnUGFmkCeTqhVbQrK3Zd2T3h/shXSH9XTw/op5ZPXI8oXBOrMZ57\n",
       "n8TFv3YMB60ZQc0qxL9+WTiINSwJSugEH3ow6koXAKRZFPx1kdwqFGPFVKQwXlMWlZ2PIpb+OfOd\n",
       "B7b8FPDhAEgXZ/JT3NReI8cq0nk4LgW26rQoiRsaW7qcqQ1CAXzW2s3MqZ649nEkr2mn+xcz/UZB\n",
       "TDPOoR5IIYCq5MzNd1G5sYGtzN/vOMfK7hH93HI2nO9V4AuChzzHenV14gTJGWAAAAELAZ5TakN/\n",
       "B51aer6FYqAC0o6ppDO1mYHp7S/oWMCzNZQdQs/6Z6V7qNnafXANhbJGvEGcZY39CNnX0LBNTadw\n",
       "6kWapK7p3QAyhgA2tNdkTg4gCIjioP5apDplL+ZX5mPRfbGkxxgBIzSOqnavVh2dorLMpA8u62D9\n",
       "hcn62f6qJdE05d3KoQQf3nUUnA66J4uP8CfORkul9jAlqCTZ1rqcdm+5tg9G/wCBSAlbHoGB0yxn\n",
       "INsdFL8KARE1n8e4XGoWHB1TUhw4sL41A/BM5bGm6USBH0LVEDWN2ndTKABXZ/h5yciYCkK3/OyH\n",
       "NXyBRp5THSb10Su85ENZF5+eAbssOPC3aclsyJcrpkKAAAACTkGaVUnhDyZTAh///qmf62kEiuZ2\n",
       "IwAbVdktPajjMwHszkwKq2wc5GGufYKrB60baX8TBR5GNhfvwd6d3vGCLFS2wY0wknoyIif1ItZI\n",
       "YS6u7V0rQBGYiP747wvAPN0LkTa4AM/Jv3m6LXLH7fktMj7iU8y6esLsylbLA+EJPMksa0APDaXR\n",
       "s5iuZbHJ063+F5Xf6qyaVf9doTLCEIDtzO1eFBO+gCxo5GMj0uvpVn3d1rRVNvtczYgGveVDn9cw\n",
       "7XtTlMZmG5S1trWcArK0hBRTSDzk2k5IbN2s8LtvMipM6zdSNb+nc5MxH8zhGUfQaXk3+grR4B3l\n",
       "99mnQn/XwqbyaLAEZM29u0pEaHGkW0HZxNwXpXpDIjc1Rc07xefrI0Xa+s0eYPuuomxMCeSza8co\n",
       "HlZH71bbK7ofPkLtdYhVTiNRYQ5M0pZrgMliUf8wXocnwnl9pEj52h5GumbCIJH0SnZ4fk1HnQF4\n",
       "LgJ0EBH4xVFa7wE1phjVhK/DZddmNKhzDiB51cHQXDVKDsP8wcJFXJ/CtWbMGZxcqocXevGazk8y\n",
       "3fFJQ9+zBFYBrDxsoY3Bkz3T1oaAiu2Z+EpS/YlGWLQAqygdIvWlxIkoB+7GNAwluHO/GQEYdyL0\n",
       "Uv0/ZDgdXZcji6TtCL55L1++gtw1J5JsXy+g9AxJC3GqKDv5g5nb/M1e01KgB0TpTD+hBpEU5bRg\n",
       "EXlfqVpJ+9ECBjkon8fCJG7rP1/2dbWdl9Cqf92GFHLHjaoU1HQUjSYJHJSJPMyYdQHcl4j1NBhp\n",
       "AAACdEGadknhDyZTAh///qmf631nrSMAH8IQUZEJfZk/TtC4dvgbf2qsl0YB5qj+z50cpw3eGBXw\n",
       "PpDPwnpm1zEZCG4lUM+DAjny4v5Xyh924s4GivysoD2toF+rla2zAS3dQP2Mr8EyxzwekbP6UzBc\n",
       "IAvNxA/ConC7PULI3PS80292Q7xGHDpIBkpm4f74pOhQalqEo6+WgprfD3ehpezCK6sYVbbGGnVV\n",
       "fq0R78XBqY0g1WxM4vrcdscSOKpJ1vwnVIScYFjalyuehDNAKMHvTYRdlGaHaYdWk++CpqB8wV8h\n",
       "thpLOO95JfdXOUg1ZrmGlQIS1JLuxGdBlQeA7i1NDEvigW7YSWrq25Z794Ui07J1KWidrFsK7qaC\n",
       "whZCiO1Dlz7XDErzLQ3AO0UjZoWIegK+EvHkYUGftcP6by4X5Bl2YR31gVdfGXE0mHVfoBALkqIZ\n",
       "SMmqujkuqtOnCR1ZSyWJA3R0tLMw9PxWoSqEdCd1KhQJX8dZzZZOnn9L+h/J4QsxWQvesSKCCU4s\n",
       "vGQNsiQ2MEoPD/7RwsInQhEdhfi5GPtG5eiCdo4Kc5d2XlhqLuMhiZvpPzMu5dNi8Y8abc8EQvql\n",
       "/ERG4xE4E3ZW7EVIFl33GrCZDattIiNrI+B6IctuWKh6N5zmz+VU1qOi3LqhS7FteuiQYGG85igv\n",
       "3z5IF9ZQx5cLqwomgO6bkTBwP+DGig+38+q5ez0upgAjoORPGdB2ouJWOtVyk7iydZ6AFVwuLRxq\n",
       "2UIBumcdtV/Rzf8sccJJ6OkHkLkRp9/tAVWH0RY9rEAj/21LeQF0UhxOD87qagBnMoBmHby1Xw8K\n",
       "cbHuesAAAAJCQZqXSeEPJlMCH//+qZ/mopdowAbRixvm2eDDs0kwnXfDXFhXmE7NxLwZTpylgLdC\n",
       "lLj2uGyRrvb4ruJoGIY+owcfU+kIYixMm4FE3+D1MluWq4lTvH+AFwhV9cmBIqhHkxwTpBY44nam\n",
       "rrvMWsUYUHsZtvzhYLGBVoFlllRkdTpCh0yloxRRcLnmih2wbaUPlrG8I6NCts6w9AO6N8p9NBba\n",
       "LTKURW21qz6rIGp3Ce/00loDLVSmeVH/OVI9rtklW9GEdnhnP6uvhdz71ujs7trjPO7Gz3Xt8cMp\n",
       "Zpt6k3uRsDywHnrefW8Di2bkFJLZV8z2RXzeQkfgZXch4U30nOi0jw/Qm/oSZj/p8X3ZQunEcbxF\n",
       "BWqghuSkFoAdgvmv4F20SQns7GkgO6QJOn9GYqRENjdr7GFxI1l0BV23BSEEQek78AtX9r25OP0m\n",
       "2dEMayTqwQL8dv6rrSXXexN16575EPq6e/41BkTNtjvhlpsaidNO6gyq+FbG8mQFwWHABrxgt1cT\n",
       "yuKRH6uMrF/GVPx1gTxaO/l/3/N4/4e7t6hyMyYXJqA51QpwPsg/CqXstnSdxUQQul/oymWl9Ir1\n",
       "IVWi/C2tydOwa/+COrXH/qfKP0RI6iYft9Cbq7brsnLF+edVyelxFaF9/OJRk2+a75OKWxei7MhM\n",
       "8vPOGJQGLFTfUmKabCCz6Oe/QXAEoAB4INsJou6FwI2B07abT0zb7XkOgt1L2Ho1tPWCTEITfXGM\n",
       "+N4E+Lm/p3OtDo/iKP80MGEAAAKUQZq4SeEPJlMCCH/+qlkRWk33CXZQAQ7xmnyMzJIEiT+34GTS\n",
       "wPcSw9+AawPIZvShmtlDIukBTUXo1YxORun/5BAq6/zMsqX2vjV2Ze5gmaWwBQZluYL6fNPM8ui/\n",
       "gM1xGJBCwaznEmbMCp/Mozy5q+fxheGM9fJyIb7L+NN8o3mDoBLw+gf7bBc37bn//CgPiz/xxLCj\n",
       "WIj+oA0K6gvo8bIdVAyz7gyBqkQOvD1+bOvmCTebt8se4aROghQOdzfo+nP7N/nXlFisGvXhbJRP\n",
       "9kaIOP+cECaEr9pGKFFSQpBr/azIBeppSAc1DVombIzHTamRfhDCYYU8BdglMRyQB2EzqZSu3YCR\n",
       "GmRotE+/5oMuCEUeQQ7nwluLFqCBoW2gSX7ImfokufmHrPnwubvlKxbgw5pT0wz32CSbldpDY7f1\n",
       "74Xkjw+OmYYgqNB/hMQrSmuLjWWY2tOmx5s8++3tIHcRDn9cR910lkK2KJcdHgyXY/VLXUbkqs8g\n",
       "H/k1QXLP2X17Hlqohh5hONfZAwTaW0MrpyEr7pz5FP3YfMqLfRTlcHko047D+faDpl9U6yQae3NV\n",
       "oI0ti9Wdj9W5zeNRqJlT6Dl50fv9rEcekN3XuCOdnpRl+Rcg34zlqaqNNovPeciOxtqHtcplO+mp\n",
       "BCCgJleUJGHssZ66mwXLywWZmc9cct3iHnPQ1zO2SS2niKB0OdTUX0pn6BbTEKv1vzKO/s5xjiPD\n",
       "pDHpidtkN0qQdRhm7OuG4/XGLDgLPe6rxCzvwsa8FD9CeDnSeekk95I+1aTbsIL/gcacGGMR4y+6\n",
       "KTxZwLqQdjBl19WW8j7GmSEy7kVRUUDDY4d/bML2wM9uG8GkLqh1QSv0QyXbgKVgyZcMJmMDAAAC\n",
       "nkGa2knhDyZTBRE8P//+qaBmucYANotUD03LiZxvbpcnZz3UrleG7Vq1bA1EYchF8XUw6D1VD8ba\n",
       "CMunIxU+Y/MujVlsvHuoXYXGDV+MDk1TQRYqf4VWKRibsuV7pQCXoT4aZ80Hft8i3N+Gve1G2TqB\n",
       "X01K/pl0rSmyrxiB9veb0r6gzgwXsdnCyjti39VVwq0V8G78f0N0zJqK5Mhfa4xJFRLQtgTE2TxV\n",
       "l1lgnOkrfxOz2T90NT6oVdTsqMz8MkRX994SRIrbvqQVz4UN7ki5VM4LTy1m2YkR9PZtsB8uadf7\n",
       "w4toWNUCvz6wMHp0fgKITysbWV9dg/sQtcujv3uy18CpEASzhQnnGmb41JQPmO72MRGVp2+lVv+W\n",
       "3WHM/57uyOrwUn/sfpAvyuE/VFAG2PIvwYy36rJwopgpBq7ou8P60TxA02V+i4klnLKgHX2mqTC6\n",
       "fXmcMavP6Jms/vg66GC9luR4mvMipWlwUu/+RN57EUujJVJIU6xbYnhV4QfyyHfQGzM9nSHHryXb\n",
       "Zo56enZvWW8BBLd2U5jY+ugCQ5LCFAYvjRJmsXsi7/+4ggD1tCKtXFDPtD6Cs7xIgU9hhj7SAZq6\n",
       "J+bx8cIlaNAHqnMIEr+dJZ4HGy8tvv6sgikF5+6RCRxh/mm/peDPx4UCzo7FV32ww7VpRii47AJ9\n",
       "s0mCNnBzlFVJeWGu241ASiFpi4qYpP0W5OnzOTaItmRyPq5cqYVZb9BokiKfXuBdwHdiZOODN3j0\n",
       "Hg+6FnlYwTait2qhckcXz3IHZT8DtykZ8digMYGNF9hznejGlDbWCh1qgDOSiRUtIOywf+MrA+ix\n",
       "O+oKlG/Rwh0cINpldm7BFFstw8IYwCoHqZ+kvKY4V8zrRVkDtJAgNYaAUokAAAE3AZ75akN/CHKf\n",
       "ZABs4S53OPdVIVJZ6UsBU4E5APbenQ3ybXKOlktGOPdgf+gJLyyWEoLPqqvOxt+rbvfh/Pqr+Gog\n",
       "CuONonF2gfsJh4+6Sfv01UylCO2wu4Xe/anylt+UDPhfpO9zCNXkMwzGCe0VTm4xtxsVIf4e+9iA\n",
       "GGNiMJR+WCTGns3S/MiCtEoZyzxVnCio3L4t8Ox1ybStPN8YY5Dtmgh7pA1qZROW3P8kYY2z8z9M\n",
       "SkDd9Q3iJ3xjMYElk9K1+OcqXJesoOMdQQUJ2PgGuq8+M6+lCpFUIxgJ43QSBQq5eRXDYbvTDsID\n",
       "2E8QjLOpCve0vQ47rjLfRBU8h4eJ6SR+pfZ9xxNDdVnJjcwBstwMkJXVzH+T+10GZAx253X7nGq2\n",
       "7xcKiUkxsyCcSZdjEGmOl5EAAAIAQZr8SeEPJlMFPDv//qmf42dUNZABDwWKF+yuQo/IcSAsvlYO\n",
       "rkAa1uQlDe8cOmQssXYQCfJQKUSb6U9hJgvB0L0lnxrERiI3aOL8hZ7sK7BPbzTjJBN9xHsyXa9F\n",
       "K/HE3B/kgAx4KC2RNd6MoMQLOZG7nlXySFfzuGi/9HVyEDW0Z1gMZu4nJrHb5pxQjg2Bq0b6Gf6N\n",
       "42zbWgzF7295HL3dlmuikQ2zCct9kX9p+uWZhQzbV8q+I2zpM3+NIk/qPc7yg9334u2tyifH5uEu\n",
       "hZF/KhaXMZP4kgZPo2GCoZDaB+Pgy9zo/KiSLFMIsQD3bULzcfvCEdbPwVGEeDv3gQ8d13M00ON+\n",
       "/3mwwpTsMX6Tqdw3d2P7CBwi6h6JDQMFNza8LgWMAFFTgGIlRBwC0KSiWtaYt+76rRtU6mBlDnzz\n",
       "k89BAxeI8fy9CaLXM6qoBF+AAHs0ycMQu+dfIC8NeG42eLe8Fs/ZkDwDlRG8J2fgfchqS+JFbfZD\n",
       "UVuikB3hDcTHALPmxKnPL2ZoJiPe2HJkl3JJRCNcLjisn9spGq1c3LpIc7k3cNmZYDQVqTDjtTDe\n",
       "ueaJA+2in1Oyk/9QeuvMJwN2VrmiE+5I/Hmba4yPUnftuHQIDvGkNK+5RJZ6NqfXVqpd+oU7su8T\n",
       "Tb3KJ7XvKfu0VlmAyHLdxWLssaQAAAEnAZ8bakN/B6P8NJkviiAEInB1kXdFh+rooX6x6iwiSsGh\n",
       "+QN3e/jDf4KWi/O5bEF0qq6Ne8wy2WbyX5Zc05wBO66Q9eX6jS+0sjae6VyBwCjPykdi4NG5OZ6I\n",
       "cIFetZJo+VcGmaUywtce0PLZYnBRyU/1WwGZOaRG+OqEu7I5YeSo3XV6/lvSso9ZFQvBsJ9vVKzn\n",
       "k3jfpdi9lraAxw6kvxmrIAjscO76wb1rMnO1yXqJ/0FEfJjry/DNm/SkZatDvpn4E5Ru+62edkY0\n",
       "LceF5J3CyUc0wU6Of3qoiA3dn5N8mjAvokFCUPv7BLCtlPZNl2Offd+C93TU3/lZFUr72D2QGQDx\n",
       "5AOVHb/QZ4V9voFZDddaNuqyYxSXkGwwH/XEcrKB10wLgQAAAYBBmx1J4Q8mUwIb//6nlA3S3LmA\n",
       "AN9LYMNAvRPxta1liAdRWdY48vs7sBwYb+9qReFw0Wjnd0QXRYM5H3f+QHd99Qj6oj/LlWGF+grZ\n",
       "/W7eUUveRSsgaqvyrAwFfAc1KNBRbSy1poi8OIVYER1m2ir6DUttCMo61Su0oOL7nDqqXaJw+grQ\n",
       "NKEG7vAd5s6MztYsVXoyeYwn/nqn28BPitHxt56mpH6bf2j+Hvv5G7Q7ALPIyDUfLDsB2vL4b0S7\n",
       "ik3JUjrWCWGG7s1c/odALawHYJkabgcM1G/f4yNFIRLONlXO7Q+aR69+joP03AWypDF81+4KLm+y\n",
       "xV+i1OXWpz5Lue1A77WJtUL6/DR9hxksfNIJwm19kbWwQ6ncjHeq9UPrWyfec96EMb+s5rgyMh9y\n",
       "tBESQ8d6bUyCbzliwjclcFRDd6PJQSnesUdIYUNgyEpLoSY4eFA18UX47fclAVgaha2gQLbD1+Vd\n",
       "M/xTsnqSKV83QkdxyAIoPKegKKVjxeMAAAQebW9vdgAAAGxtdmhkAAAAAAAAAAAAAAAAAAAD6AAA\n",
       "C7gAAQAAAQAAAAAAAAAAAAAAAAEAAAAAAAAAAAAAAAAAAAABAAAAAAAAAAAAAAAAAABAAAAAAAAA\n",
       "AAAAAAAAAAAAAAAAAAAAAAAAAAAAAAAAAgAAA0h0cmFrAAAAXHRraGQAAAADAAAAAAAAAAAAAAAB\n",
       "AAAAAAAAC7gAAAAAAAAAAAAAAAAAAAAAAAEAAAAAAAAAAAAAAAAAAAABAAAAAAAAAAAAAAAAAABA\n",
       "AAAAAbAAAAEgAAAAAAAkZWR0cwAAABxlbHN0AAAAAAAAAAEAAAu4AAAIAAABAAAAAALAbWRpYQAA\n",
       "ACBtZGhkAAAAAAAAAAAAAAAAAAAoAAAAeABVxAAAAAAALWhkbHIAAAAAAAAAAHZpZGUAAAAAAAAA\n",
       "AAAAAABWaWRlb0hhbmRsZXIAAAACa21pbmYAAAAUdm1oZAAAAAEAAAAAAAAAAAAAACRkaW5mAAAA\n",
       "HGRyZWYAAAAAAAAAAQAAAAx1cmwgAAAAAQAAAitzdGJsAAAAs3N0c2QAAAAAAAAAAQAAAKNhdmMx\n",
       "AAAAAAAAAAEAAAAAAAAAAAAAAAAAAAAAAbABIABIAAAASAAAAAAAAAABAAAAAAAAAAAAAAAAAAAA\n",
       "AAAAAAAAAAAAAAAAAAAAAAAAGP//AAAAMWF2Y0MBZAAV/+EAGGdkABWs2UGwloQAAAMABAAAAwBQ\n",
       "PFi2WAEABmjr48siwAAAABx1dWlka2hA8l8kT8W6OaUbzwMj8wAAAAAAAAAYc3R0cwAAAAAAAAAB\n",
       "AAAAHgAABAAAAAAUc3RzcwAAAAAAAAABAAAAAQAAAIhjdHRzAAAAAAAAAA8AAAAHAAAIAAAAAAEA\n",
       "AAwAAAAAAQAABAAAAAAGAAAIAAAAAAEAAAwAAAAAAQAABAAAAAACAAAIAAAAAAEAAAwAAAAAAQAA\n",
       "BAAAAAAEAAAIAAAAAAEAAAwAAAAAAQAABAAAAAABAAAMAAAAAAEAAAQAAAAAAQAACAAAAAAcc3Rz\n",
       "YwAAAAAAAAABAAAAAQAAAB4AAAABAAAAjHN0c3oAAAAAAAAAAAAAAB4AABf7AAADTQAAAzAAAALB\n",
       "AAACwAAAAuQAAAKNAAAC5AAAAUAAAAJPAAACegAAAqIAAAK4AAACJwAAAtIAAALkAAABIQAAAlIA\n",
       "AAI3AAAC7wAAAQ8AAAJSAAACeAAAAkYAAAKYAAACogAAATsAAAIEAAABKwAAAYQAAAAUc3RjbwAA\n",
       "AAAAAAABAAAALAAAAGJ1ZHRhAAAAWm1ldGEAAAAAAAAAIWhkbHIAAAAAAAAAAG1kaXJhcHBsAAAA\n",
       "AAAAAAAAAAAALWlsc3QAAAAlqXRvbwAAAB1kYXRhAAAAAQAAAABMYXZmNTguMTIuMTAw\n",
       "\">\n",
       "  Your browser does not support the video tag.\n",
       "</video>"
      ],
      "text/plain": [
       "<IPython.core.display.HTML object>"
      ]
     },
     "execution_count": 33,
     "metadata": {},
     "output_type": "execute_result"
    }
   ],
   "source": [
    "# Animation of the traffic density\n",
    "anim = animation.FuncAnimation(fig, update_plot, frames = nt,\n",
    "                              fargs = (rho_hist,), interval = 100)\n",
    "\n",
    "# Display the vid\n",
    "HTML(anim.to_html5_video())"
   ]
  },
  {
   "cell_type": "code",
   "execution_count": null,
   "metadata": {},
   "outputs": [],
   "source": []
  }
 ],
 "metadata": {
  "kernelspec": {
   "display_name": "Python 3",
   "language": "python",
   "name": "python3"
  },
  "language_info": {
   "codemirror_mode": {
    "name": "ipython",
    "version": 3
   },
   "file_extension": ".py",
   "mimetype": "text/x-python",
   "name": "python",
   "nbconvert_exporter": "python",
   "pygments_lexer": "ipython3",
   "version": "3.6.5"
  }
 },
 "nbformat": 4,
 "nbformat_minor": 2
}
