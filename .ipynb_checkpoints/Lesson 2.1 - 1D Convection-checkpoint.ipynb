{
 "cells": [
  {
   "cell_type": "markdown",
   "metadata": {},
   "source": [
    "# Space and Time"
   ]
  },
  {
   "cell_type": "markdown",
   "metadata": {},
   "source": [
    "### 1D Linear Convection\n",
    "$$ \\begin{equation}\n",
    "\\frac{\\partial u}{\\partial t} + c \\frac{\\partial u}{\\partial x} = 0\n",
    "\\end{equation} $$\n",
    "    * one - way wave equation\n",
    "    * advection equation"
   ]
  },
  {
   "cell_type": "markdown",
   "metadata": {},
   "source": [
    "With IC $u(x,0)=u_0(x)$, the exact solution is \n",
    "$$ \\begin{equation}\n",
    "u(x,t)=u_0(x-ct)\n",
    "\\end{equation} $$\n",
    "        - shape does not change\n",
    "        - constant along characteristic curves, x - ct = constant"
   ]
  },
  {
   "cell_type": "markdown",
   "metadata": {},
   "source": [
    "### Finite - Differences\n",
    "Discretization Grid is built with constant steps in time and space, $\\Delta t$ and $\\Delta x$: "
   ]
  },
  {
   "cell_type": "markdown",
   "metadata": {},
   "source": [
    "$$ \\begin{eqnarray}\n",
    "x_i &=& i\\, \\Delta x \\quad \\text{and} \\quad t^n= n\\, \\Delta t \\nonumber \\\\\n",
    "u_i^n &=& u(i\\, \\Delta x, n\\, \\Delta t)\n",
    "\\end{eqnarray} $$"
   ]
  },
  {
   "cell_type": "markdown",
   "metadata": {},
   "source": [
    "### Discretization of Model Equation"
   ]
  },
  {
   "cell_type": "markdown",
   "metadata": {},
   "source": [
    "Possible ways to represent a discrete form of $\\partial u/ \\partial x$:\n",
    "\n",
    "* Forward difference: uses $x_i$ and $x_i + \\Delta x$,\n",
    "* Backward difference: uses $x_i$ and $x_i- \\Delta x$,\n",
    "* Central difference: uses two points on either side of $x_i$."
   ]
  },
  {
   "cell_type": "markdown",
   "metadata": {},
   "source": [
    "With formulas, \n",
    "$$ \\begin{eqnarray}\n",
    "\\frac{\\partial u}{\\partial x} & \\approx & \\frac{u(x_{i+1})-u(x_i)}{\\Delta x} \\quad\\text{Forward}\\\\\n",
    "\\frac{\\partial u}{\\partial x} & \\approx & \\frac{u(x_i)-u(x_{i-1})}{\\Delta x} \\quad\\text{Backward}\\\\\n",
    "\\frac{\\partial u}{\\partial x} & \\approx & \\frac{u(x_{i+1})-u(x_{i-1})}{2\\Delta x} \\quad\\text{Central}\n",
    "\\end{eqnarray} $$"
   ]
  },
  {
   "cell_type": "markdown",
   "metadata": {},
   "source": [
    "Backward differencing scheme for the space derivative: "
   ]
  },
  {
   "cell_type": "markdown",
   "metadata": {},
   "source": [
    "$$ \\begin{equation}\n",
    "\\frac{u_i^{n+1}-u_i^n}{\\Delta t} + c \\frac{u_i^n - u_{i-1}^n}{\\Delta x} = 0\n",
    "\\end{equation} $$"
   ]
  },
  {
   "cell_type": "markdown",
   "metadata": {},
   "source": [
    "    * n and n+1 are two consecutive steps in time\n",
    "    * i-1 and i are two neighboring points of the discretized\n",
    "        x coordinate"
   ]
  },
  {
   "cell_type": "markdown",
   "metadata": {},
   "source": [
    "So, \n",
    "$$\n",
    "\\begin{equation}\n",
    "u_i^{n+1} = u_i^n - c \\frac{\\Delta t}{\\Delta x}(u_i^n-u_{i-1}^n)\n",
    "\\end{equation}\n",
    "$$"
   ]
  },
  {
   "cell_type": "code",
   "execution_count": 1,
   "metadata": {},
   "outputs": [],
   "source": [
    "import numpy as np\n",
    "from matplotlib import pyplot as py\n",
    "% matplotlib inline\n",
    "\n",
    "# Font family and size to use for Matplotlib figures\n",
    "py.rcParams['font.family'] = 'serif'\n",
    "py.rcParams['font.size'] = 16"
   ]
  },
  {
   "cell_type": "markdown",
   "metadata": {},
   "source": [
    "With a *square wave* initial condition: \n",
    "\n",
    "$$ \\begin{equation}\n",
    "u(x,0)=\\begin{cases}2 & \\text{where } 0.5\\leq x \\leq 1,\\\\\n",
    "1 & \\text{everywhere else in } (0, 2)\n",
    "\\end{cases}\n",
    "\\end{equation} $$"
   ]
  },
  {
   "cell_type": "markdown",
   "metadata": {},
   "source": [
    "With a boundary condition on $x$: let $u=1$ at $x=0$\n"
   ]
  },
  {
   "cell_type": "markdown",
   "metadata": {},
   "source": [
    "Spatial domain for the numerical solution will only cover the range:\n",
    "$x\\in (0, 2)$"
   ]
  },
  {
   "cell_type": "code",
   "execution_count": 2,
   "metadata": {},
   "outputs": [],
   "source": [
    "# Parameters\n",
    "nx = 41   # number of spatial discrete points\n",
    "L = 2.0   #length of the 1D domain\n",
    "dx = L/(nx-1)   # spatial grid size\n",
    "nt = 25   # number of time - steps\n",
    "dt = 0.02   # time - step size\n",
    "c = 1.0   # convection speed\n",
    "\n",
    "# Grid point coordinates\n",
    "x = np.linspace(0.0, L, num = nx)"
   ]
  },
  {
   "cell_type": "code",
   "execution_count": 3,
   "metadata": {},
   "outputs": [
    {
     "name": "stdout",
     "output_type": "stream",
     "text": [
      "(array([10, 11, 12, 13, 14, 15, 16, 17, 18, 19, 20]),)\n"
     ]
    }
   ],
   "source": [
    "# Initial Condition with 1.0 everywhere\n",
    "u0 = np.ones(nx)\n",
    "\n",
    "# List of indices where 0.5 <= x <= 1.0\n",
    "mask = np.where(np.logical_and(x >= 0.5, x <= 1.0))\n",
    "print(mask)"
   ]
  },
  {
   "cell_type": "code",
   "execution_count": 4,
   "metadata": {},
   "outputs": [
    {
     "name": "stdout",
     "output_type": "stream",
     "text": [
      "[1. 1. 1. 1. 1. 1. 1. 1. 1. 1. 2. 2. 2. 2. 2. 2. 2. 2. 2. 2. 2. 1. 1. 1.\n",
      " 1. 1. 1. 1. 1. 1. 1. 1. 1. 1. 1. 1. 1. 1. 1. 1. 1.]\n"
     ]
    }
   ],
   "source": [
    "# Initial Condition with 2.0 where 0.5 <= x <= 1.0\n",
    "u0[mask] = 2.0\n",
    "print(u0)"
   ]
  },
  {
   "cell_type": "code",
   "execution_count": 5,
   "metadata": {},
   "outputs": [
    {
     "data": {
      "image/png": "[encoded data removed]",
      "text/plain": [
       "<Figure size 360x360 with 1 Axes>"
      ]
     },
     "metadata": {},
     "output_type": "display_data"
    }
   ],
   "source": [
    "# Plot of the initial conditions\n",
    "py.figure(figsize = (5.0, 5.0))\n",
    "py.title('Initial Conditions')\n",
    "py.xlabel('x')\n",
    "py.ylabel('y')\n",
    "py.grid()\n",
    "py.plot(x, u0, color = 'C0', linestyle = '--', linewidth = 2)\n",
    "py.xlim(0.0, L)\n",
    "py.ylim(0.0, 2.5);"
   ]
  },
  {
   "cell_type": "markdown",
   "metadata": {},
   "source": [
    "$$\n",
    "u_i^{n+1} = u_i^n - c \\frac{\\Delta t}{\\Delta x}(u_i^n-u_{i-1}^n)\n",
    "$$"
   ]
  },
  {
   "cell_type": "code",
   "execution_count": 6,
   "metadata": {},
   "outputs": [],
   "source": [
    "u = u0.copy()\n",
    "for n in range(1, nt):\n",
    "    un = u.copy()\n",
    "    for i in range(1, nx):\n",
    "        u[i] = un[i] - c * dt / dx * (un[i] - un[i-1])"
   ]
  },
  {
   "cell_type": "code",
   "execution_count": 7,
   "metadata": {},
   "outputs": [
    {
     "data": {
      "image/png": "[encoded data removed]",
      "text/plain": [
       "<Figure size 360x360 with 1 Axes>"
      ]
     },
     "metadata": {},
     "output_type": "display_data"
    }
   ],
   "source": [
    "# Plot of the solution after nt time-steps along with the ICs\n",
    "py.figure(figsize = (5.0, 5.0))\n",
    "py.xlabel('x')\n",
    "py.ylabel('u')\n",
    "py.grid()\n",
    "py.plot(x, u0, label = 'Initial', color = 'C0', \n",
    "        linestyle = '--', linewidth = 2)\n",
    "py.plot(x, u, label = 'nt = {}'.format(nt), color = 'C1', \n",
    "        linestyle = '-', linewidth = 2)\n",
    "py.legend()\n",
    "py.xlim(0.0, L)\n",
    "py.ylim(0.0, 2.5);"
   ]
  },
  {
   "cell_type": "markdown",
   "metadata": {},
   "source": [
    "### Spatial Truncation Error"
   ]
  },
  {
   "cell_type": "markdown",
   "metadata": {},
   "source": [
    "Euler's method introduces an error, called the trunaction error.\n",
    "\n",
    "Using a Taylor series expansion for the spatial terms, it can be seen that the backward-difference scheme produces a first-order method, in space."
   ]
  },
  {
   "cell_type": "markdown",
   "metadata": {},
   "source": [
    "$$ \\begin{equation}\n",
    "\\frac{\\partial u}{\\partial x}(x_i) = \\frac{u(x_i)-u(x_{i-1})}{\\Delta x} + \\frac{\\Delta x}{2} \\frac{\\partial^2 u}{\\partial x^2}(x_i) - \\frac{\\Delta x^2}{6} \\frac{\\partial^3 u}{\\partial x^3}(x_i)+ \\cdots\n",
    "\\end{equation} $$"
   ]
  },
  {
   "cell_type": "markdown",
   "metadata": {},
   "source": [
    "The dominant term that is neglected in the finite-difference approximation is of $\\mathcal{O}(\\Delta x)$.\n",
    "\n",
    "The approximation *converges* to the exact derivative as $\\Delta x \\rightarrow 0$.\n",
    "\n",
    "\"Forward-time / Backward space\" difference scheme is first-order in both space and time in which the truncation errors are $\\mathcal{O}(\\Delta t, \\Delta x)$."
   ]
  },
  {
   "cell_type": "markdown",
   "metadata": {},
   "source": [
    "### Non - Linear Convection"
   ]
  },
  {
   "cell_type": "markdown",
   "metadata": {},
   "source": [
    "* Replacing the constant wave speed $c$ by the variable speed $u$"
   ]
  },
  {
   "cell_type": "markdown",
   "metadata": {},
   "source": [
    "Forward difference in time and backward difference in space:"
   ]
  },
  {
   "cell_type": "markdown",
   "metadata": {},
   "source": [
    "$$ \\begin{equation}\n",
    "\\frac{u_i^{n+1}-u_i^n}{\\Delta t} + u_i^n \\frac{u_i^n-u_{i-1}^n}{\\Delta x} = 0\n",
    "\\end{equation} $$\n",
    "\n",
    "With the unknown term, $u_i^{n+1}$: \n",
    "\n",
    "$$ \\begin{equation}\n",
    "u_i^{n+1} = u_i^n - u_i^n \\frac{\\Delta t}{\\Delta x} (u_i^n - u_{i-1}^n)\n",
    "\\end{equation} $$"
   ]
  },
  {
   "cell_type": "code",
   "execution_count": 8,
   "metadata": {},
   "outputs": [],
   "source": [
    "# Parameters\n",
    "nx = 41   # number of spatial discrete points\n",
    "L = 2.0   #length of the 1D domain\n",
    "dx = L/(nx-1)   # spatial grid size\n",
    "nt = 10   # number of time - steps\n",
    "dt = 0.02   # time - step size\n",
    "\n",
    "# Grid point coordinates\n",
    "x = np.linspace(0.0, L, num = nx)\n",
    "\n",
    "# Initial Condition with 1.0 everywhere\n",
    "u0 = np.ones(nx)\n",
    "\n",
    "# List of indices where 0.5 <= x <= 1.0\n",
    "mask = np.where(np.logical_and(x >= 0.5, x <= 1.0))\n",
    "\n",
    "# Initial Condition with 2.0 where 0.5 <= x <= 1.0\n",
    "u0[mask] = 2.0"
   ]
  },
  {
   "cell_type": "code",
   "execution_count": 9,
   "metadata": {},
   "outputs": [
    {
     "data": {
      "image/png": "[encoded data removed]",
      "text/plain": [
       "<Figure size 360x360 with 1 Axes>"
      ]
     },
     "metadata": {},
     "output_type": "display_data"
    }
   ],
   "source": [
    "# Plot of the initial conditions\n",
    "py.figure(figsize = (5.0, 5.0))\n",
    "py.title('Initial Conditions')\n",
    "py.xlabel('x')\n",
    "py.ylabel('y')\n",
    "py.grid()\n",
    "py.plot(x, u0, color = 'C0', linestyle = '--', linewidth = 2)\n",
    "py.xlim(0.0, L)\n",
    "py.ylim(0.0, 2.5);"
   ]
  },
  {
   "cell_type": "code",
   "execution_count": 10,
   "metadata": {},
   "outputs": [],
   "source": [
    "# Solution using Euler's method and array slicing\n",
    "u = u0.copy()\n",
    "for n in range(1, nt):\n",
    "    u[1:] = u[1:] - dt/dx * u[1:] * (u[1:] - u[:-1])"
   ]
  },
  {
   "cell_type": "code",
   "execution_count": 11,
   "metadata": {},
   "outputs": [
    {
     "data": {
      "image/png": "[encoded data removed]",
      "text/plain": [
       "<Figure size 360x360 with 1 Axes>"
      ]
     },
     "metadata": {},
     "output_type": "display_data"
    }
   ],
   "source": [
    "# Plot of the solution after nt time-steps along with the ICs\n",
    "py.figure(figsize = (5.0, 5.0))\n",
    "py.xlabel('x')\n",
    "py.ylabel('u')\n",
    "py.grid()\n",
    "py.plot(x, u0, label = 'Initial', color = 'C2', \n",
    "        linestyle = '--', linewidth = 2)\n",
    "py.plot(x, u, label = 'nt = {}'.format(nt), color = 'C3', \n",
    "        linestyle = '-', linewidth = 2)\n",
    "py.legend()\n",
    "py.xlim(0.0, L)\n",
    "py.ylim(0.0, 2.5);"
   ]
  },
  {
   "cell_type": "code",
   "execution_count": null,
   "metadata": {},
   "outputs": [],
   "source": []
  }
 ],
 "metadata": {
  "kernelspec": {
   "display_name": "Python 3",
   "language": "python",
   "name": "python3"
  },
  "language_info": {
   "codemirror_mode": {
    "name": "ipython",
    "version": 3
   },
   "file_extension": ".py",
   "mimetype": "text/x-python",
   "name": "python",
   "nbconvert_exporter": "python",
   "pygments_lexer": "ipython3",
   "version": "3.6.5"
  }
 },
 "nbformat": 4,
 "nbformat_minor": 2
}
