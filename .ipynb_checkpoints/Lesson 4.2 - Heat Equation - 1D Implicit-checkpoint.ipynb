{
 "cells": [
  {
   "cell_type": "markdown",
   "metadata": {},
   "source": [
    "# Spreading Out\n",
    "\n",
    "Heat equation in one spatial dimension:\n",
    "\n",
    "$$\n",
    "\\begin{equation}\n",
    "\\frac{\\partial T}{\\partial t} = \\alpha \\frac{\\partial^2 T}{\\partial x^2}\n",
    "\\end{equation}\n",
    "$$\n",
    "\n",
    "where $\\alpha$ is the thermal diffusivity and $T$ is the temperature"
   ]
  },
  {
   "cell_type": "markdown",
   "metadata": {},
   "source": [
    "## Implicit Schemes\n",
    "\n",
    "$$\n",
    "\\begin{equation}\n",
    "\\frac{T_{i}^{n+1}-T_{i}^{n}}{\\Delta t}=\\alpha\\frac{T_{i+1}^{n+1}-2T_{i}^{n+1}+T_{i-1}^{n+1}}{\\Delta x^2}\n",
    "\\end{equation}\n",
    "$$\n",
    "\n",
    "Right-hand side of the equation:\n",
    "\n",
    "$$\n",
    "\\begin{equation}\n",
    "-T_{i-1}^{n+1} + \\left( 2 + \\frac{\\Delta x^2}{\\alpha\\Delta t}\\right) T_{i}^{n+1} - T_{i+1}^{n+1} = T_{i}^{n}\\frac{\\Delta x^2}{\\alpha\\Delta t}\n",
    "\\end{equation}\n",
    "$$\n",
    "\n",
    "with $i=1$...\n",
    "\n",
    "$$\n",
    "\\begin{equation}\n",
    "-T_{0}^{n+1} + \\left( 2 + \\frac{\\Delta x^2}{\\alpha\\Delta t}\\right) T_{1}^{n+1} - T_{2}^{n+1} = T_{1}^{n}\\frac{\\Delta x^2}{\\alpha\\Delta t}\n",
    "\\end{equation}\n",
    "$$\n",
    "\n",
    "and $i=2$...\n",
    "\n",
    "$$\n",
    "\\begin{equation}\n",
    "-T_{1}^{n+1} + \\left( 2 + \\frac{\\Delta x^2}{\\alpha\\Delta t}\\right) T_{2}^{n+1} - T_{3}^{n+1} = T_{2}^{n}\\frac{\\Delta x^2}{\\alpha\\Delta t}\n",
    "\\end{equation}\n",
    "$$\n",
    "\n",
    "and $i=3$...\n",
    "\n",
    "$$\n",
    "\\begin{equation}\n",
    "-T_{2}^{n+1} + \\left( 2 + \\frac{\\Delta x^2}{\\alpha\\Delta t}\\right) T_{3}^{n+1} - T_{4}^{n+1} = T_{3}^{n}\\frac{\\Delta x^2}{\\alpha\\Delta t}\n",
    "\\end{equation}\n",
    "$$\n",
    "\n",
    "This is a linear system of equations for the unknown values $T_{i}^{n+1}$ on the spatial grid."
   ]
  },
  {
   "cell_type": "markdown",
   "metadata": {},
   "source": [
    "### Boundary Conditions\n",
    "\n",
    "The value $T_0^{n+1}$ is known at every time-step from the BC, so putting all unknown terms on the left-hand side of the equation and the known values on the right side yields the following for the $i=1$ equation:\n",
    "\n",
    "$$\\begin{equation}\n",
    "-T_{2}^{n+1} + \\left( 2 + \\frac{\\Delta x^2}{\\alpha\\Delta t}\\right) T_{1}^{n+1} = T_{1}^{n}\\frac{\\Delta x^2}{\\alpha\\Delta t} + T_{0}^{n+1}\n",
    "\\end{equation} $$\n",
    "\n",
    "On the other hand, for $i=N-2$, the equation reads\n",
    "\n",
    "$$ \\begin{equation}\n",
    "-T_{N-3}^{n+1} + \\left( 2 + \\frac{\\Delta x^2}{\\alpha\\Delta t}\\right) T_{N-2}^{n+1} - T_{N-1}^{n+1} = T_{N-2}^{n}\\frac{\\Delta x^2}{\\alpha\\Delta t}\n",
    "\\end{equation} $$\n",
    "\n",
    "The discretized Neumann boundary condition on the right side of the rod is\n",
    "\n",
    "$$ \\begin{equation}\n",
    "\\frac{T^{n}_{N-1} - T^{n}_{N-2}}{\\Delta x} = q\n",
    "\\end{equation} $$\n",
    "\n",
    "At time step $n+1$ (the boundary conditions apply at every time-step):\n",
    "\n",
    "$$ \\begin{equation}\n",
    "\\frac{T^{n+1}_{N-1} - T^{n+1}_{N-2}}{\\Delta x} = q\n",
    "\\end{equation} $$\n",
    "\n",
    "Inserting the Neumann boundary condition in the equation for $i=N-2$ yields\n",
    "\n",
    "$$ \\begin{equation}\n",
    "    -T_{N-3}^{n+1} + \\left( 1 + \\frac{\\Delta x^2}{\\alpha\\Delta t} \\right) T_{N-2}^{n+1} = T_{N-2}^{n} \\frac{\\Delta x^2}{\\alpha\\Delta t} + \\Delta x q\n",
    "\\end{equation} $$\n",
    "\n",
    "The linear system of equations in matrix form as follows:\n",
    "\n",
    "$$\n",
    "[A][x] = [b]+[b]_{b.c.}\n",
    "$$\n",
    "\n",
    "- where the matrix of coefficients $[A]$ is a sparse matrix—most of the matrix elements are zero—with three non-zero diagonals."
   ]
  },
  {
   "cell_type": "markdown",
   "metadata": {},
   "source": [
    "### Problem Set Up\n",
    "\n",
    "Consider a graphite rod, with thermal diffusivity $\\alpha=1.22\\times10^{-3} {\\rm m}^2/{\\rm s}$, length $L=1{\\rm m}$, and temperature held at $T=100{\\rm C}$ on the left end, $x=0$, and $0 {\\rm C}$ everywhere else initially."
   ]
  },
  {
   "cell_type": "code",
   "execution_count": 1,
   "metadata": {},
   "outputs": [],
   "source": [
    "import numpy as np\n",
    "from matplotlib import pyplot as py\n",
    "% matplotlib inline\n",
    "\n",
    "# Font family and size to use for Matplotlib figures.\n",
    "py.rcParams['font.family'] = 'serif'\n",
    "py.rcParams['font.size'] = 16"
   ]
  },
  {
   "cell_type": "code",
   "execution_count": 2,
   "metadata": {},
   "outputs": [],
   "source": [
    "# Parameters\n",
    "L = 1.0   # length of the rod\n",
    "nx = 51   # number of locations on the rod\n",
    "dx = L / (nx - 1)   # distance between two consecutive locations\n",
    "alpha = 1.22e-3   #  thermal diffusivity of the rod\n",
    "q = 0.0   # temperature gradient on the right side of the rod\n",
    "\n",
    "# Locations along the rod\n",
    "x = np.linspace(0.0, L, num = nx)\n",
    "\n",
    "# Initial temperature along the rod.\n",
    "T0 = np.zeros(nx)\n",
    "T0[0] = 100.0"
   ]
  },
  {
   "cell_type": "markdown",
   "metadata": {},
   "source": [
    "### Solving a Linear System\n",
    "\n",
    "From `scipy.linalg`, import `solve`: a function to solve linear systems."
   ]
  },
  {
   "cell_type": "code",
   "execution_count": 3,
   "metadata": {},
   "outputs": [],
   "source": [
    "from scipy import linalg as lg"
   ]
  },
  {
   "cell_type": "code",
   "execution_count": 4,
   "metadata": {},
   "outputs": [],
   "source": [
    "'''\n",
    "    Computes the impilicit operator of the system for the \n",
    "        1D diffusion equation.\n",
    "    We use backward Euler method, Dirichlet condition on the\n",
    "        left side of the domain, and zero-gradient Neumann\n",
    "        condition on the right side.\n",
    "        \n",
    "    N : integer, number of interior points\n",
    "    sigma : float, value of alpha * dt/dx**2\n",
    "    \n",
    "    Returns:\n",
    "    A : np.ndarray, implicit operator as a 2D array of floats\n",
    "        of size N by N.\n",
    "'''\n",
    "\n",
    "def lhs_operator(N, sigma):\n",
    "    # Diagonal of the operator\n",
    "    D = np.diag((2.0 + 1.0 / sigma) * np.ones(N))\n",
    "    # Neumann condition for the last element\n",
    "    D[-1, -1] = 1.0 + 1.0 / sigma\n",
    "    # Upper diagonal of the operator\n",
    "    U = np.diag(-1.0 * np.ones(N-1), k=1)\n",
    "    # Lower diagonal of the operator\n",
    "    L = np.diag(-1.0 * np.ones(N-1), k=-1)\n",
    "    # Assumble of the operator\n",
    "    A = D + U + L\n",
    "    \n",
    "    return A"
   ]
  },
  {
   "cell_type": "code",
   "execution_count": 5,
   "metadata": {},
   "outputs": [],
   "source": [
    "'''\n",
    "    Computes the right-hand side of the system for the 1D\n",
    "        diffusion equation, using a Dirichlet condition on the\n",
    "        left side and a Neumann condition on the right side.\n",
    "        \n",
    "    T : np.ndarray, temperature distribution\n",
    "    sigma : float, value of alpha * dt / dx**2\n",
    "    qdx : float, the temperature flux at the right side\n",
    "        \n",
    "    Returns:\n",
    "    b : np.ndaarray, right hand side of the system as a \n",
    "        1D array of floats\n",
    "'''\n",
    "\n",
    "def rhs_vector(T, sigma, qdx):\n",
    "    b = T[1:-1] / sigma\n",
    "    # Dirichlet condition\n",
    "    b[0] += T[0]\n",
    "    # Neumann condition\n",
    "    b[-1] += qdx\n",
    "    \n",
    "    return b"
   ]
  },
  {
   "cell_type": "markdown",
   "metadata": {},
   "source": [
    "Below is the function that steps in time is using implicit central-space scheme. For an implicit method, a step in time is performed by solving the entire linear system. This is a fundamental difference between implicit and explicit methods, and implies considerable computational cost."
   ]
  },
  {
   "cell_type": "code",
   "execution_count": 6,
   "metadata": {},
   "outputs": [],
   "source": [
    "'''\n",
    "    Computes the temperature along the rod with the given\n",
    "        number of time steps.\n",
    "    This function uses Euler implicit in time, central differencing\n",
    "        in space, a Dirichlet condition on the left side, and a\n",
    "        Neumann condition on the right side.\n",
    "        \n",
    "    T0 : np.ndarray, the initial tmperature distributio\n",
    "    nt : integer, number of time steps to compute\n",
    "    dt : float, time-step size\n",
    "    dx : float, distance between two consecutive locations\n",
    "    alpha : float, thermal diffusivity of the rod\n",
    "    q : float, value of the temperature gradient on the right side\n",
    "    \n",
    "    Returns:\n",
    "    T : np.ndarray, temperature distribution as a 1D array of floats\n",
    "'''\n",
    "\n",
    "def btcs_implicit(T0, nt, dt, dx, alpha, q):\n",
    "    sigma = alpha * dt /dx**2\n",
    "    # Implicit operator of the system\n",
    "    A = lhs_operator(len(T0) - 2, sigma)\n",
    "    # Integrate in time\n",
    "    T = T0.copy()\n",
    "    for n in range(nt):\n",
    "        # Right-hand side of the system\n",
    "        b = rhs_vector(T, sigma, q * dx)\n",
    "        # Solve the system with scipy.linalg.solve\n",
    "        T[1:-1] = lg.solve(A, b)\n",
    "        # Neumann BC\n",
    "        T[-1] = T[-2] + q * dx\n",
    "        \n",
    "    return T"
   ]
  },
  {
   "cell_type": "code",
   "execution_count": 7,
   "metadata": {},
   "outputs": [],
   "source": [
    "# Time-step size based on CFL limit\n",
    "sigma = 0.5\n",
    "dt = sigma * dx**2 / alpha  # time-step size\n",
    "nt = 1000   # number of time steps to compute\n",
    "\n",
    "# Temperature along the rod\n",
    "T = btcs_implicit(T0, nt, dt, dx, alpha, q)"
   ]
  },
  {
   "cell_type": "code",
   "execution_count": 8,
   "metadata": {},
   "outputs": [
    {
     "data": {
      "image/png": "[encoded data removed]",
      "text/plain": [
       "<Figure size 432x288 with 1 Axes>"
      ]
     },
     "metadata": {},
     "output_type": "display_data"
    }
   ],
   "source": [
    "# Plot of the temperature along the rod\n",
    "py.figure(figsize = (6.0, 4.0))\n",
    "py.xlabel('Distance [m]')\n",
    "py.ylabel('Temperature [C]')\n",
    "py.grid()\n",
    "py.plot(x, T, color = 'C0', linestyle = '-', linewidth = 2)\n",
    "py.xlim(0.0, L)\n",
    "py.ylim(0.0, 100.0);"
   ]
  },
  {
   "cell_type": "markdown",
   "metadata": {},
   "source": [
    "This result looks just like from the *explicit* forward in time, centered in space for $\\alpha\\frac{\\Delta t}{\\Delta x^2} = \\frac{1}{2}$. "
   ]
  },
  {
   "cell_type": "markdown",
   "metadata": {},
   "source": [
    "Let $\\alpha\\frac{\\Delta t}{\\Delta x^2} = 5$, which violates the stability condition of the *explicit* scheme:"
   ]
  },
  {
   "cell_type": "code",
   "execution_count": 9,
   "metadata": {},
   "outputs": [
    {
     "data": {
      "image/png": "[encoded data removed]",
      "text/plain": [
       "<Figure size 432x288 with 1 Axes>"
      ]
     },
     "metadata": {},
     "output_type": "display_data"
    }
   ],
   "source": [
    "# Increasing the time-step size based on CFL limit to 5.0\n",
    "sigma = 5.0\n",
    "dt = sigma * dx**2 / alpha  # time-step size\n",
    "nt = 100   # number of time steps to compute\n",
    "\n",
    "# Temperature along the rod\n",
    "T = btcs_implicit(T0, nt, dt, dx, alpha, q)\n",
    "\n",
    "# Plot of the temperature along the rod\n",
    "py.figure(figsize = (6.0, 4.0))\n",
    "py.xlabel('Distance [m]')\n",
    "py.ylabel('Temperature [C]')\n",
    "py.grid()\n",
    "py.plot(x, T, color = 'C0', linestyle = '-', linewidth = 2)\n",
    "py.xlim(0.0, L)\n",
    "py.ylim(0.0, 100.0);"
   ]
  },
  {
   "cell_type": "markdown",
   "metadata": {},
   "source": [
    "This is an *unconditionally stable* scheme.\n",
    "\n",
    "The most valuable feature of implicit methods is that they give stable solutions without a constraint on the choice of time step. \n",
    "\n",
    "Using the implicit scheme, we can always advance in time using larger time steps. But each time step requires the solution of a linear system, which is computationally expensive. This is the trade-off between explicit and implicit methods. "
   ]
  }
 ],
 "metadata": {
  "kernelspec": {
   "display_name": "Python 3",
   "language": "python",
   "name": "python3"
  },
  "language_info": {
   "codemirror_mode": {
    "name": "ipython",
    "version": 3
   },
   "file_extension": ".py",
   "mimetype": "text/x-python",
   "name": "python",
   "nbconvert_exporter": "python",
   "pygments_lexer": "ipython3",
   "version": "3.6.5"
  }
 },
 "nbformat": 4,
 "nbformat_minor": 2
}
