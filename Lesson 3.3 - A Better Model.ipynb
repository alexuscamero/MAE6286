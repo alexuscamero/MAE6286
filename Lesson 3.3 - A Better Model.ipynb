{
 "cells": [
  {
   "cell_type": "markdown",
   "metadata": {},
   "source": [
    "# Riding the Wave"
   ]
  },
  {
   "cell_type": "markdown",
   "metadata": {},
   "source": [
    "## Traffic Flow, revisited\n",
    "### A better flux model"
   ]
  },
  {
   "cell_type": "markdown",
   "metadata": {},
   "source": [
    "In a typical conservation law,\n",
    "\n",
    "$$\n",
    "\\begin{equation}\n",
    "\\frac{\\partial \\rho}{\\partial t} + \\frac{\\partial F}{\\partial x} = 0\n",
    "\\end{equation}\n",
    "$$\n",
    "\n",
    "where $F$ is the flux, $F=\\rho u$—flux equals density times velocity.\n",
    "\n",
    "A linear relation between traffic speed and density as a first approximation: \n",
    "\n",
    "$$\n",
    "\\begin{equation}\n",
    "F(\\rho) = \\rho \\, u_{max}\\left(1 - \\frac{\\rho}{\\rho_{max}} \\right)\n",
    "\\end{equation}\n",
    "$$\n",
    "\n",
    "This flux model meets the two requirements, based on a qualitative view of traffic flow, that:\n",
    "1. $u \\rightarrow u_{max}$ and $F\\rightarrow 0$ when $\\rho \\rightarrow 0$.\n",
    "2. $u \\rightarrow 0$ as $\\rho \\rightarrow \\rho_{max}$"
   ]
  },
  {
   "cell_type": "markdown",
   "metadata": {},
   "source": [
    "If the traffic speed is a linear function of density, the flux function will be quadratic. Thus, the max flux will occer when $\\rho^{\\star} = \\rho_{max}/2$, corresponding to a traffic speed $u_{max}/2$."
   ]
  },
  {
   "cell_type": "markdown",
   "metadata": {},
   "source": [
    "Should the max flux on a given stretch of a road have a strict dependence on the max speed that the roadway allows, be it by physical restrictions or posted speed limits? I.e., do we expect the max flux to increase if we allows arbitrarily high speeds?\n",
    "##### No. But there *should* be some ideal traffic speed, $u^{\\star}$, corresponding to an ideal traffic density, $\\rho^{\\star}$, resulting in the maximum traffic flux:\n",
    "\n",
    "$$\n",
    "\\begin{equation}\n",
    "F_{\\rm max} = \\rho^{\\star}u^{\\star}\n",
    "\\end{equation}\n",
    "$$"
   ]
  },
  {
   "cell_type": "markdown",
   "metadata": {},
   "source": [
    "Let's introduce a flux model that is subic in $\\rho$ instead of quadratic:\n",
    "\n",
    "$$\n",
    "\\begin{equation}\n",
    "F(\\rho) = u_{\\rm max}\\rho (1 - A\\rho - B \\rho^2)\n",
    "\\end{equation}\n",
    "$$\n",
    "\n",
    "This still meets the first criterion listed above: $F\\rightarrow 0$ when $\\rho \\rightarrow 0$.\n",
    "\n",
    "Imposing the following coniditons, \n",
    "\n",
    "* When $\\rho = \\rho_{\\rm max}$ traffic flux goes to zero:\n",
    "\n",
    "$$\n",
    "\\begin{equation}\n",
    "F(\\rho_{\\rm max}) = 0 = u_{\\rm max}\\, \\rho_{\\rm max}(1 - A \\rho_{\\rm max} - B \\rho_{\\rm max}^2)\n",
    "\\end{equation}\n",
    "$$\n",
    "\n",
    "* Based on eq. (3), maximum flux occurs when $\\rho = \\rho^{\\star}$ and $F'(\\rho^{\\star}) = 0$:\n",
    "\n",
    "$$\n",
    "\\begin{equation}\n",
    "F'(\\rho^{\\star}) = 0  = u_{\\rm max}(1 - 2A\\rho^{\\star} - 3B(\\rho^{\\star})^2)\n",
    "\\end{equation}\n",
    "$$\n",
    "\n",
    "* $u^{\\star}$ is obtained when $\\rho = \\rho^{\\star}$:\n",
    "\n",
    "$$\n",
    "\\begin{equation}\n",
    "u^{\\star} = u_{\\rm max}(1 - A \\rho^{\\star} - B(\\rho^{\\star})^2)\n",
    "\\end{equation}\n",
    "$$\n",
    "\n",
    "Here we have three equations and four unknowns, $A,B,\\rho^{\\star}, u^{\\star}$. \n",
    "\n",
    "In practice, the ideal traffic speed could be obtained for a given road by observations. Similarly to $u_{max}$ and $\\rho_{max}$ it will therefore be taken as a parameter."
   ]
  },
  {
   "cell_type": "markdown",
   "metadata": {},
   "source": [
    "### Solving the new flux equation"
   ]
  },
  {
   "cell_type": "markdown",
   "metadata": {},
   "source": [
    "Here, [SymPy](http://sympy.org/en/index.html), the symbolic mathematics library of Python, will be used. \n",
    "\n",
    "Import Sympy, initialize $\\LaTeX$ printing, and define a set of symbolic variables that will be used in calculations...\n",
    "\n",
    "Remember that variables are not defined automatically, we have to tell Sympy that a name will correspond to a symbolic variable by using the keyword `symbol`. "
   ]
  },
  {
   "cell_type": "code",
   "execution_count": 2,
   "metadata": {},
   "outputs": [],
   "source": [
    "import sympy as sp\n",
    "sp.init_printing()\n",
    "\n",
    "(u_max, u_star, rho_max, rho_star,\n",
    "     A, B) = sp.symbols('u_max u_star rho_max rho_star A B')"
   ]
  },
  {
   "cell_type": "markdown",
   "metadata": {},
   "source": [
    "Sympy also allows you to create symbols with a superscript by means of the special character `^`. \n",
    "\n",
    "To define the three equation, we use `sympy.Eq()` in terms of symbolic variables. This function creates an equality between two Sympy obkects, passed as arguments separated by a comma.\n",
    "\n",
    "Remember that the equal sign in Python is used for varibale assignment and it cannot be used to build symbolic equation with Sympy. That is why `sympy.Eq()` will be used to create symbolic equalities. But the equal sign is used to assign an equation to a name.\n",
    "\n",
    "Here, below, `eq1`, `eq2`, `eq3` are names for the symbolic equalities we create with `sympy.Eq()`."
   ]
  },
  {
   "cell_type": "code",
   "execution_count": 3,
   "metadata": {},
   "outputs": [],
   "source": [
    "eq1 = sp.Eq(0, u_max * rho_max * (1 - A * rho_max - B * rho_max**2))\n",
    "eq2 = sp.Eq(0, u_max * (1 - 2 * A * rho_star - 3 * B * rho_star**2))\n",
    "eq3 = sp.Eq(u_star, u_max * (1 - A * rho_star - B * rho_star**2))"
   ]
  },
  {
   "cell_type": "markdown",
   "metadata": {},
   "source": [
    "Let's display these equations in pretty typset mathematics just by executing their name in a code cell:"
   ]
  },
  {
   "cell_type": "code",
   "execution_count": 4,
   "metadata": {},
   "outputs": [
    {
     "data": {
      "image/png": "[encoded data removed]",
      "text/latex": [
       "$$0 = \\rho_{max} u_{max} \\left(- A \\rho_{max} - B \\rho_{max}^{2} + 1\\right)$$"
      ],
      "text/plain": [
       "              ⎛                2    ⎞\n",
       "0 = ρₘₐₓ⋅uₘₐₓ⋅⎝-A⋅ρₘₐₓ - B⋅ρₘₐₓ  + 1⎠"
      ]
     },
     "execution_count": 4,
     "metadata": {},
     "output_type": "execute_result"
    }
   ],
   "source": [
    "eq1"
   ]
  },
  {
   "cell_type": "code",
   "execution_count": 5,
   "metadata": {},
   "outputs": [
    {
     "data": {
      "image/png": "[encoded data removed]",
      "text/latex": [
       "$$0 = u_{max} \\left(- 2 A \\rho_{star} - 3 B \\rho_{star}^{2} + 1\\right)$$"
      ],
      "text/plain": [
       "         ⎛                      2    ⎞\n",
       "0 = uₘₐₓ⋅⎝-2⋅A⋅ρₛₜₐᵣ - 3⋅B⋅ρₛₜₐᵣ  + 1⎠"
      ]
     },
     "execution_count": 5,
     "metadata": {},
     "output_type": "execute_result"
    }
   ],
   "source": [
    "eq2"
   ]
  },
  {
   "cell_type": "code",
   "execution_count": 7,
   "metadata": {},
   "outputs": [
    {
     "data": {
      "image/png": "[encoded data removed]",
      "text/latex": [
       "$$u_{star} = u_{max} \\left(- A \\rho_{star} - B \\rho_{star}^{2} + 1\\right)$$"
      ],
      "text/plain": [
       "             ⎛                  2    ⎞\n",
       "uₛₜₐᵣ = uₘₐₓ⋅⎝-A⋅ρₛₜₐᵣ - B⋅ρₛₜₐᵣ  + 1⎠"
      ]
     },
     "execution_count": 7,
     "metadata": {},
     "output_type": "execute_result"
    }
   ],
   "source": [
    "eq3"
   ]
  },
  {
   "cell_type": "markdown",
   "metadata": {},
   "source": [
    "Assuming there is an observed value of $u_{star}$, corresponding to the ideal traffic speed, three equations with three unknowns will have a solution!\n",
    "\n",
    "Mathematical operators cannot be used directly on the Sympy equations. Because they are really _equalities_. Let's see..."
   ]
  },
  {
   "cell_type": "code",
   "execution_count": 8,
   "metadata": {},
   "outputs": [
    {
     "data": {
      "image/png": "[encoded data removed]",
      "text/latex": [
       "$$\\left(0 = \\rho_{max} u_{max} \\left(- A \\rho_{max} - B \\rho_{max}^{2} + 1\\right)\\right) - 3 \\left(u_{star} = u_{max} \\left(- A \\rho_{star} - B \\rho_{star}^{2} + 1\\right)\\right)$$"
      ],
      "text/plain": [
       "⎛              ⎛                2    ⎞⎞     ⎛             ⎛                  2\n",
       "⎝0 = ρₘₐₓ⋅uₘₐₓ⋅⎝-A⋅ρₘₐₓ - B⋅ρₘₐₓ  + 1⎠⎠ - 3⋅⎝uₛₜₐᵣ = uₘₐₓ⋅⎝-A⋅ρₛₜₐᵣ - B⋅ρₛₜₐᵣ \n",
       "\n",
       "    ⎞⎞\n",
       " + 1⎠⎠"
      ]
     },
     "execution_count": 8,
     "metadata": {},
     "output_type": "execute_result"
    }
   ],
   "source": [
    "eq1 - 3 * eq3"
   ]
  },
  {
   "cell_type": "markdown",
   "metadata": {},
   "source": [
    "Sympy only printed out what what was suggested but it did not manipulate algebraically the left and right sides of `eq1` like we are aiming for. \n",
    "\n",
    "In order to achieve this, let's create a new equation, perform the left-hand side (LHS) and right-right side (RHS) operations separately and then recombine them into desired result. "
   ]
  },
  {
   "cell_type": "code",
   "execution_count": 10,
   "metadata": {},
   "outputs": [
    {
     "data": {
      "image/png": "[encoded data removed]",
      "text/latex": [
       "$$- 3 u_{star} = u_{max} \\left(- 2 A \\rho_{star} - 3 B \\rho_{star}^{2} + 1\\right) - 3 u_{max} \\left(- A \\rho_{star} - B \\rho_{star}^{2} + 1\\right)$$"
      ],
      "text/plain": [
       "                ⎛                      2    ⎞          ⎛                  2   \n",
       "-3⋅uₛₜₐᵣ = uₘₐₓ⋅⎝-2⋅A⋅ρₛₜₐᵣ - 3⋅B⋅ρₛₜₐᵣ  + 1⎠ - 3⋅uₘₐₓ⋅⎝-A⋅ρₛₜₐᵣ - B⋅ρₛₜₐᵣ  + \n",
       "\n",
       " ⎞\n",
       "1⎠"
      ]
     },
     "execution_count": 10,
     "metadata": {},
     "output_type": "execute_result"
    }
   ],
   "source": [
    "eq4 = sp.Eq(eq2.lhs - 3 * eq3.lhs, eq2.rhs - 3 * eq3.rhs)\n",
    "\n",
    "# Display eq4\n",
    "eq4"
   ]
  },
  {
   "cell_type": "markdown",
   "metadata": {},
   "source": [
    "Let's use `simplify()` to make the expression simpler. But you can imagine that the equality of an expression being simple is not well defined. \n",
    "\n",
    "The `sumplify()` function applies several strategies to give an equivalent reduced expression. "
   ]
  },
  {
   "cell_type": "code",
   "execution_count": 11,
   "metadata": {},
   "outputs": [
    {
     "data": {
      "image/png": "[encoded data removed]",
      "text/latex": [
       "$$3 u_{star} = - u_{max} \\left(A \\rho_{star} - 2\\right)$$"
      ],
      "text/plain": [
       "3⋅uₛₜₐᵣ = -uₘₐₓ⋅(A⋅ρₛₜₐᵣ - 2)"
      ]
     },
     "execution_count": 11,
     "metadata": {},
     "output_type": "execute_result"
    }
   ],
   "source": [
    "eq4.simplify()"
   ]
  },
  {
   "cell_type": "markdown",
   "metadata": {},
   "source": [
    "The `expand()` function expands bracketed factors in expressions anf group powers of symbols. "
   ]
  },
  {
   "cell_type": "code",
   "execution_count": 12,
   "metadata": {},
   "outputs": [
    {
     "data": {
      "image/png": "[encoded data removed]",
      "text/latex": [
       "$$- 3 u_{star} = A \\rho_{star} u_{max} - 2 u_{max}$$"
      ],
      "text/plain": [
       "-3⋅uₛₜₐᵣ = A⋅ρₛₜₐᵣ⋅uₘₐₓ - 2⋅uₘₐₓ"
      ]
     },
     "execution_count": 12,
     "metadata": {},
     "output_type": "execute_result"
    }
   ],
   "source": [
    "# Display eq4\n",
    "eq4\n",
    "\n",
    "# Apply expand() function to eq4\n",
    "eq4.expand()"
   ]
  },
  {
   "cell_type": "markdown",
   "metadata": {},
   "source": [
    "The `solve()` function returnes results in a _list_, since you end up with multiple solutions for a given variable.\n",
    "\n",
    "These linear equations only return one solution so we can skip a step and ask right away for the `[0]`-th element of the list."
   ]
  },
  {
   "cell_type": "code",
   "execution_count": 19,
   "metadata": {},
   "outputs": [
    {
     "data": {
      "image/png": "[encoded data removed]",
      "text/latex": [
       "$$\\frac{1}{A u_{max}} \\left(2 u_{max} - 3 u_{star}\\right)$$"
      ],
      "text/plain": [
       "2⋅uₘₐₓ - 3⋅uₛₜₐᵣ\n",
       "────────────────\n",
       "     A⋅uₘₐₓ     "
      ]
     },
     "execution_count": 19,
     "metadata": {},
     "output_type": "execute_result"
    }
   ],
   "source": [
    "rho_sol = sp.solve(eq4, rho_star)[0]\n",
    "rho_sol"
   ]
  },
  {
   "cell_type": "code",
   "execution_count": 20,
   "metadata": {},
   "outputs": [
    {
     "data": {
      "image/png": "[encoded data removed]",
      "text/latex": [
       "$$\\frac{1}{\\rho_{max}^{2}} \\left(- A \\rho_{max} + 1\\right)$$"
      ],
      "text/plain": [
       "-A⋅ρₘₐₓ + 1\n",
       "───────────\n",
       "       2   \n",
       "   ρₘₐₓ    "
      ]
     },
     "execution_count": 20,
     "metadata": {},
     "output_type": "execute_result"
    }
   ],
   "source": [
    "B_sol = sp.solve(eq1, B)[0]\n",
    "B_sol"
   ]
  },
  {
   "cell_type": "markdown",
   "metadata": {},
   "source": [
    "The arguments to the Sympy function `subs()` are given as (old, new) pairs, where the \"new\" expression subsitutes the \"old\" one. \n",
    "\n",
    "In `eq2`, we subsitute `rho_sol` in place of `rho_star` and we subsitute `B_sol` in place of `B`."
   ]
  },
  {
   "cell_type": "code",
   "execution_count": 21,
   "metadata": {},
   "outputs": [
    {
     "data": {
      "image/png": "[encoded data removed]",
      "text/latex": [
       "$$0 = u_{max} \\left(1 - \\frac{2}{u_{max}} \\left(2 u_{max} - 3 u_{star}\\right) - \\frac{3 \\left(2 u_{max} - 3 u_{star}\\right)^{2}}{A^{2} \\rho_{max}^{2} u_{max}^{2}} \\left(- A \\rho_{max} + 1\\right)\\right)$$"
      ],
      "text/plain": [
       "         ⎛                                               2              ⎞\n",
       "         ⎜    2⋅(2⋅uₘₐₓ - 3⋅uₛₜₐᵣ)   3⋅(2⋅uₘₐₓ - 3⋅uₛₜₐᵣ) ⋅(-A⋅ρₘₐₓ + 1)⎟\n",
       "0 = uₘₐₓ⋅⎜1 - ──────────────────── - ───────────────────────────────────⎟\n",
       "         ⎜            uₘₐₓ                       2     2     2          ⎟\n",
       "         ⎝                                      A ⋅ρₘₐₓ ⋅uₘₐₓ           ⎠"
      ]
     },
     "execution_count": 21,
     "metadata": {},
     "output_type": "execute_result"
    }
   ],
   "source": [
    "quadA = eq2.subs([(rho_star, rho_sol), (B, B_sol)])\n",
    "quadA"
   ]
  },
  {
   "cell_type": "code",
   "execution_count": 22,
   "metadata": {},
   "outputs": [
    {
     "data": {
      "image/png": "[encoded data removed]",
      "text/latex": [
       "$$- 3 u_{max} + 6 u_{star} + \\frac{3 \\left(2 u_{max} - 3 u_{star}\\right)^{2}}{A \\rho_{max} u_{max}} - \\frac{3 \\left(2 u_{max} - 3 u_{star}\\right)^{2}}{A^{2} \\rho_{max}^{2} u_{max}} = 0$$"
      ],
      "text/plain": [
       "                                        2                       2    \n",
       "                    3⋅(2⋅uₘₐₓ - 3⋅uₛₜₐᵣ)    3⋅(2⋅uₘₐₓ - 3⋅uₛₜₐᵣ)     \n",
       "-3⋅uₘₐₓ + 6⋅uₛₜₐᵣ + ───────────────────── - ───────────────────── = 0\n",
       "                         A⋅ρₘₐₓ⋅uₘₐₓ             2     2             \n",
       "                                                A ⋅ρₘₐₓ ⋅uₘₐₓ        "
      ]
     },
     "execution_count": 22,
     "metadata": {},
     "output_type": "execute_result"
    }
   ],
   "source": [
    "quadA.simplify()"
   ]
  },
  {
   "cell_type": "markdown",
   "metadata": {},
   "source": [
    "Printing each root separately..."
   ]
  },
  {
   "cell_type": "code",
   "execution_count": 23,
   "metadata": {},
   "outputs": [],
   "source": [
    "A_sol = sp.solve(quadA, A)"
   ]
  },
  {
   "cell_type": "code",
   "execution_count": 24,
   "metadata": {},
   "outputs": [
    {
     "data": {
      "image/png": "[encoded data removed]",
      "text/latex": [
       "$$\\frac{1}{2 \\rho_{max} u_{max} \\left(u_{max} - 2 u_{star}\\right)} \\left(\\sqrt{- u_{star} \\left(4 u_{max} - 9 u_{star}\\right)} \\left(- 2 u_{max} + 3 u_{star}\\right) + \\left(2 u_{max} - 3 u_{star}\\right)^{2}\\right)$$"
      ],
      "text/plain": [
       "  ___________________________                                         2\n",
       "╲╱ -uₛₜₐᵣ⋅(4⋅uₘₐₓ - 9⋅uₛₜₐᵣ) ⋅(-2⋅uₘₐₓ + 3⋅uₛₜₐᵣ) + (2⋅uₘₐₓ - 3⋅uₛₜₐᵣ) \n",
       "───────────────────────────────────────────────────────────────────────\n",
       "                      2⋅ρₘₐₓ⋅uₘₐₓ⋅(uₘₐₓ - 2⋅uₛₜₐᵣ)                     "
      ]
     },
     "execution_count": 24,
     "metadata": {},
     "output_type": "execute_result"
    }
   ],
   "source": [
    "A_sol[0]"
   ]
  },
  {
   "cell_type": "code",
   "execution_count": 25,
   "metadata": {},
   "outputs": [
    {
     "data": {
      "image/png": "[encoded data removed]",
      "text/latex": [
       "$$\\frac{1}{2 \\rho_{max} u_{max} \\left(u_{max} - 2 u_{star}\\right)} \\left(2 u_{max} - 3 u_{star}\\right) \\left(2 u_{max} - 3 u_{star} + \\sqrt{- u_{star} \\left(4 u_{max} - 9 u_{star}\\right)}\\right)$$"
      ],
      "text/plain": [
       "                   ⎛                     ___________________________⎞\n",
       "(2⋅uₘₐₓ - 3⋅uₛₜₐᵣ)⋅⎝2⋅uₘₐₓ - 3⋅uₛₜₐᵣ + ╲╱ -uₛₜₐᵣ⋅(4⋅uₘₐₓ - 9⋅uₛₜₐᵣ) ⎠\n",
       "─────────────────────────────────────────────────────────────────────\n",
       "                     2⋅ρₘₐₓ⋅uₘₐₓ⋅(uₘₐₓ - 2⋅uₛₜₐᵣ)                    "
      ]
     },
     "execution_count": 25,
     "metadata": {},
     "output_type": "execute_result"
    }
   ],
   "source": [
    "A_sol[1]"
   ]
  },
  {
   "cell_type": "markdown",
   "metadata": {},
   "source": [
    "### Evaluating The New Flux Equation"
   ]
  },
  {
   "cell_type": "markdown",
   "metadata": {},
   "source": [
    "Let's numerically evaluate the solutions for $A$ using the following values:\n",
    "\n",
    "$$\n",
    "\\begin{align} \n",
    "\\rho_{\\rm max} &=10.0 \\nonumber\\\\ u_{\\rm max} &=1.0 \\nonumber\\\\ u^{\\star} &=0.7 \\nonumber\n",
    "\\end{align}\n",
    "$$\n",
    "\n",
    "Evaluate the numerical result for each root of $A$ using the `evalf()` function, where it passes the numeric substitution as an argument... Evaluating both roots, and picking the positive value...\n",
    "\n",
    "Let's try the `[0]`-th solution for $A$:"
   ]
  },
  {
   "cell_type": "code",
   "execution_count": 27,
   "metadata": {},
   "outputs": [
    {
     "data": {
      "image/png": "[encoded data removed]",
      "text/latex": [
       "$$-0.0171107219255619$$"
      ],
      "text/plain": [
       "-0.0171107219255619"
      ]
     },
     "execution_count": 27,
     "metadata": {},
     "output_type": "execute_result"
    }
   ],
   "source": [
    "A_val_0 = A_sol[0].evalf(subs={u_star: 0.7, u_max: 1.0, rho_max: 10.0})\n",
    "A_val_0"
   ]
  },
  {
   "cell_type": "markdown",
   "metadata": {},
   "source": [
    "`[1]`-th solution for A:"
   ]
  },
  {
   "cell_type": "code",
   "execution_count": 28,
   "metadata": {},
   "outputs": [
    {
     "data": {
      "image/png": "[encoded data removed]",
      "text/latex": [
       "$$0.0146107219255619$$"
      ],
      "text/plain": [
       "0.0146107219255619"
      ]
     },
     "execution_count": 28,
     "metadata": {},
     "output_type": "execute_result"
    }
   ],
   "source": [
    "A_val_1 = A_sol[1].evalf(subs={u_star: 0.7, u_max: 1.0, rho_max: 10.0})\n",
    "A_val_1"
   ]
  },
  {
   "cell_type": "markdown",
   "metadata": {},
   "source": [
    "By using the Python built-in `max` function, the positive root will be automatically picked... "
   ]
  },
  {
   "cell_type": "code",
   "execution_count": 29,
   "metadata": {},
   "outputs": [
    {
     "data": {
      "image/png": "[encoded data removed]",
      "text/latex": [
       "$$0.0146107219255619$$"
      ],
      "text/plain": [
       "0.0146107219255619"
      ]
     },
     "execution_count": 29,
     "metadata": {},
     "output_type": "execute_result"
    }
   ],
   "source": [
    "A_val = max(A_val_0, A_val_1)\n",
    "A_val"
   ]
  },
  {
   "cell_type": "markdown",
   "metadata": {},
   "source": [
    "Evaluate B numerically in the same way using the positive `A_val`:"
   ]
  },
  {
   "cell_type": "code",
   "execution_count": 30,
   "metadata": {},
   "outputs": [
    {
     "data": {
      "image/png": "[encoded data removed]",
      "text/latex": [
       "$$0.00853892780744381$$"
      ],
      "text/plain": [
       "0.00853892780744381"
      ]
     },
     "execution_count": 30,
     "metadata": {},
     "output_type": "execute_result"
    }
   ],
   "source": [
    "B_val = B_sol.evalf(subs={rho_max: 10.0, A: A_val})\n",
    "B_val"
   ]
  },
  {
   "cell_type": "markdown",
   "metadata": {},
   "source": [
    "#### Turn off $\\LaTeX$"
   ]
  },
  {
   "cell_type": "code",
   "execution_count": 31,
   "metadata": {},
   "outputs": [],
   "source": [
    "sp.init_printing(use_latex = False)"
   ]
  },
  {
   "cell_type": "code",
   "execution_count": null,
   "metadata": {},
   "outputs": [],
   "source": []
  }
 ],
 "metadata": {
  "kernelspec": {
   "display_name": "Python 3",
   "language": "python",
   "name": "python3"
  },
  "language_info": {
   "codemirror_mode": {
    "name": "ipython",
    "version": 3
   },
   "file_extension": ".py",
   "mimetype": "text/x-python",
   "name": "python",
   "nbconvert_exporter": "python",
   "pygments_lexer": "ipython3",
   "version": "3.6.5"
  }
 },
 "nbformat": 4,
 "nbformat_minor": 2
}
