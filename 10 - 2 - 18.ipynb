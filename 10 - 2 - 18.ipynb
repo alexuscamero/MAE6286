{
 "cells": [
  {
   "cell_type": "code",
   "execution_count": null,
   "metadata": {},
   "outputs": [],
   "source": [
    "def dudx_BD(u, dx)\n",
    "    ''' Return du/dx using backward-difference quotient'''\n",
    "    dudx = (u[1:-1] - u[:-2]) / dx\n",
    "    return dudx\n",
    "\n",
    "def dudx_CD(u, dx)\n",
    "    ''' Return du/dx using central-difference quotient'''\n",
    "    dudx = (u[2:] - u[:-2]) / (2 * dx)\n",
    "    return dudx\n",
    "\n"
   ]
  }
 ],
 "metadata": {
  "kernelspec": {
   "display_name": "Python 3",
   "language": "python",
   "name": "python3"
  },
  "language_info": {
   "codemirror_mode": {
    "name": "ipython",
    "version": 3
   },
   "file_extension": ".py",
   "mimetype": "text/x-python",
   "name": "python",
   "nbconvert_exporter": "python",
   "pygments_lexer": "ipython3",
   "version": "3.6.5"
  }
 },
 "nbformat": 4,
 "nbformat_minor": 2
}
