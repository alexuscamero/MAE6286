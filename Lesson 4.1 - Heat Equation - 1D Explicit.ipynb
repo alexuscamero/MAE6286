{
 "cells": [
  {
   "cell_type": "markdown",
   "metadata": {},
   "source": [
    "# Spreading Out\n",
    "\n",
    "## Simplest Prabolic PDE - the 1D Diffusion Equation\n",
    "$$\n",
    "\\frac{\\partial u}{\\partial t} = \\alpha \\frac{\\partial^2 u}{\\partial x^2}\n",
    "$$\n",
    "\n",
    "## Heat Conduction\n",
    "- a diffusive process\n",
    "$$\n",
    "\\begin{equation}\n",
    "\\frac{\\partial T}{\\partial t} = \\alpha \\frac{\\partial^2 T}{\\partial x^2}\n",
    "\\end{equation}\n",
    "$$\n",
    "\n",
    "- $\\alpha$ is the thermal diffusivity, a property of the material, and $T$ is the temperature\n",
    "- stability constraint:\n",
    "\n",
    "$$\n",
    "\\begin{equation}\n",
    "\\alpha \\frac{\\Delta t}{(\\Delta x)^2} \\leq \\frac{1}{2}\n",
    "\\end{equation}\n",
    "$$"
   ]
  },
  {
   "cell_type": "code",
   "execution_count": 1,
   "metadata": {},
   "outputs": [],
   "source": [
    "import numpy as np\n",
    "from matplotlib import pyplot as py\n",
    "% matplotlib inline\n",
    "\n",
    "# Font family and size to use for Matplotlib figures.\n",
    "py.rcParams['font.family'] = 'serif'\n",
    "py.rcParams['font.size'] = 16"
   ]
  },
  {
   "cell_type": "code",
   "execution_count": 2,
   "metadata": {},
   "outputs": [],
   "source": [
    "# Parameters\n",
    "L = 1.0  # length of the rod\n",
    "nx = 51  # number of locations on the rod\n",
    "dx = L / (nx - 1)  # distance between two consecutive locations\n",
    "alpha = 1.22e-3  #  thermal diffusivity of the rod\n",
    "\n",
    "# Locations along the rod.\n",
    "x = np.linspace(0.0, L, num = nx)\n",
    "\n",
    "# Initial temperature along the rod.\n",
    "T0 = np.zeros(nx)\n",
    "T0[0] = 100.0"
   ]
  },
  {
   "cell_type": "markdown",
   "metadata": {},
   "source": [
    "####  forward-time, centered-space discretization\n",
    "$$\n",
    "\\begin{equation}\n",
    "\\frac{T_{i}^{n+1}-T_{i}^{n}}{\\Delta t}=\\alpha\\frac{T_{i+1}^{n}-2T_{i}^{n}+T_{i-1}^{n}}{\\Delta x^2}\n",
    "\\end{equation}\n",
    "$$\n",
    "\n",
    "#### temperature at the next time step, $T^{n+1}_i$\n",
    "$$\n",
    "\\begin{equation}\n",
    "T_{i}^{n+1}=T_{i}^{n}+\\frac{\\alpha\\Delta t}{\\Delta x^2}(T_{i+1}^{n}-2T_{i}^{n}+T_{i-1}^{n})\n",
    "\\end{equation}\n",
    "$$"
   ]
  },
  {
   "cell_type": "code",
   "execution_count": 3,
   "metadata": {},
   "outputs": [],
   "source": [
    "'''\n",
    "    Computes and returns the temperature along the road after\n",
    "        a provuded number of time steps, given the initia\n",
    "        temperature and thermal diffusivity. \n",
    "    The diffusion equation is integrated using forward differencing\n",
    "        in time and central differencing in space.\n",
    "    T0 : np.ndarray, initial temperature along the rod\n",
    "    nt : integer, number of time steps to compute\n",
    "    dt : float, time-step sie to integrate\n",
    "    dx : float, distance between two consecutive locations\n",
    "    alpha : float, thermal diffusivity of the rd\n",
    "    \n",
    "    Returns:\n",
    "    T : np.ndarray, the temperature along the road\n",
    "'''\n",
    "\n",
    "def ftcs(t0, nt, dt, dx, alpha):\n",
    "    T = T0.copy()\n",
    "    sigma = alpha * dt / dx**2\n",
    "    for n in range(nt):\n",
    "        T[1:-1] = (T[1:-1] + sigma * (T[2:] - 2.0 * T[1:-1] + T[:-2]))\n",
    "    return T"
   ]
  },
  {
   "cell_type": "code",
   "execution_count": 4,
   "metadata": {},
   "outputs": [],
   "source": [
    "# Set the time-step size based on CFL limit\n",
    "nt = 100  # number of time steps to compute\n",
    "sigma = 0.5\n",
    "dt = sigma * dx**2 / alpha  # time-step size\n",
    "\n",
    "# Temperature along the road\n",
    "T = ftcs(T0, nt, dt, dx, alpha)"
   ]
  },
  {
   "cell_type": "code",
   "execution_count": 5,
   "metadata": {},
   "outputs": [
    {
     "data": {
      "image/png": "[encoded data removed]",
      "text/plain": [
       "<Figure size 432x288 with 1 Axes>"
      ]
     },
     "metadata": {},
     "output_type": "display_data"
    }
   ],
   "source": [
    "# Plot of the tmeperature along the rod\n",
    "py.figure(figsize=(6.0, 4.0))\n",
    "py.xlabel('Distance [m]')\n",
    "py.ylabel('Temperature [C]')\n",
    "py.grid()\n",
    "py.plot(x, T, color = 'C0', linestyle = '-', linewidth = 2)\n",
    "py.xlim(0.0, L)\n",
    "py.ylim(0.0, 100.0);"
   ]
  },
  {
   "cell_type": "markdown",
   "metadata": {},
   "source": [
    "## Boundary Conditions\n",
    "\n",
    "### Dirichlet Boundary"
   ]
  },
  {
   "cell_type": "code",
   "execution_count": 6,
   "metadata": {},
   "outputs": [],
   "source": [
    "# Increase the number of time steps\n",
    "nt = 1000\n",
    "\n",
    "# Compute the temperature along the rod\n",
    "T = ftcs(T0, nt, dt, dx, alpha)"
   ]
  },
  {
   "cell_type": "code",
   "execution_count": 7,
   "metadata": {},
   "outputs": [
    {
     "data": {
      "image/png": "[encoded data removed]",
      "text/plain": [
       "<Figure size 432x288 with 1 Axes>"
      ]
     },
     "metadata": {},
     "output_type": "display_data"
    }
   ],
   "source": [
    "# Plot of the temperature along the rod\n",
    "py.figure(figsize=(6.0, 4.0))\n",
    "py.xlabel('Distance [m]')\n",
    "py.ylabel('Temperature [C]')\n",
    "py.grid()\n",
    "py.plot(x, T, color = 'C0', linestyle = '-', linewidth = 2)\n",
    "py.xlim(0.0, L)\n",
    "py.ylim(0.0, 100.0);"
   ]
  },
  {
   "cell_type": "markdown",
   "metadata": {},
   "source": [
    "### Neumann Boundary\n",
    "- specifies the value of the derivative of the solution at the border instead of specifying the value of the solution at the border"
   ]
  },
  {
   "cell_type": "markdown",
   "metadata": {},
   "source": [
    "$$\n",
    "\\begin{equation}\n",
    "\\left. \\frac{\\partial T}{\\partial x} \\right|_{x = 1} = q(t)\n",
    "\\end{equation}\n",
    "$$\n",
    "\n",
    "At time step $n$, for $N$ points...\n",
    "\n",
    "$$\n",
    "\\begin{equation}\n",
    "\\left. \\frac{\\partial T}{\\partial x} \\right|_{x=1} \\approx \\frac{T^n_N - T^n_{N-1}}{\\Delta x} = q(t)\n",
    "\\end{equation}\n",
    "$$\n",
    "\n",
    "In the context of heat conduction, the space derivative of temperature is the heat flux density $q$, the amount of heat per unit time, per unit area."
   ]
  },
  {
   "cell_type": "markdown",
   "metadata": {},
   "source": [
    "For example, if the rod at $x=1$ has some insulating material, no heat is going to be able to get out through that end, and the Neumann boundary condition is:\n",
    "\n",
    "$$\n",
    "\\begin{equation}\n",
    "\\left. \\frac{\\partial T}{\\partial x} \\right|_{x=1} = 0\n",
    "\\end{equation}\n",
    "$$"
   ]
  },
  {
   "cell_type": "markdown",
   "metadata": {},
   "source": [
    "Let's revisit the heated-rod problem.  This time, the temperature at $x = 0$ will remain fixed at $T = 100{\\rm C}$—that's the Dirichlet condition— and a Neumann BC applies at $x = 1$."
   ]
  },
  {
   "cell_type": "code",
   "execution_count": 8,
   "metadata": {},
   "outputs": [],
   "source": [
    "'''\n",
    "    Computes the temperature along the rod with the given\n",
    "        number of time steps, initial temperature, and the\n",
    "        thermal diffusivity.\n",
    "    The diffusion equation is integrated using forward differencing\n",
    "        in time and central differencing in space.\n",
    "    The function uses a Dirichlet condition on the left side\n",
    "         of the rod and a Neumann condition (zero-gradient) on\n",
    "         the right side.\n",
    "    T0 : np.ndarray, initial temperature along the rod\n",
    "    nt : integer, time-step size to compute\n",
    "    dt : float, time-step size to integrate\n",
    "    dx : float, distance between two consecutive location\n",
    "    alpha : float, thermal diffusivity of the rod\n",
    "    \n",
    "    Returns:\n",
    "    T : np.ndarray, temperature along the rod as a 1D array of floats\n",
    "'''\n",
    "\n",
    "def ftcs_mixed_bcs(T0, nt, dt, dx, alpha):\n",
    "    T = T0.copy()\n",
    "    sigma = alpha * dt / dx**2\n",
    "    for n in range(nt):\n",
    "        T[1:-1] = (T[1:-1] + sigma * (T[2:] - 2.0 * T[1:-1] + T[:-2]))\n",
    "        # Applying Neumann condition at the last location\n",
    "        T [-1] = T[-2]\n",
    "    return T"
   ]
  },
  {
   "cell_type": "code",
   "execution_count": 9,
   "metadata": {},
   "outputs": [],
   "source": [
    "nt = 1000  # number of time-steps to compute\n",
    "\n",
    "# Temperature along the road\n",
    "T = ftcs_mixed_bcs(T0, nt, dt, dx, alpha)"
   ]
  },
  {
   "cell_type": "code",
   "execution_count": 10,
   "metadata": {},
   "outputs": [
    {
     "data": {
      "image/png": "[encoded data removed]",
      "text/plain": [
       "<Figure size 432x288 with 1 Axes>"
      ]
     },
     "metadata": {},
     "output_type": "display_data"
    }
   ],
   "source": [
    "# Plot of the temperature along the rod\n",
    "py.figure(figsize = (6.0, 4.0))\n",
    "py.xlabel('Distance [m]')\n",
    "py.ylabel('Temperature [C]')\n",
    "py.grid()\n",
    "py.plot(x, T, color = 'C0', linestyle = '-', linewidth = 2)\n",
    "py.xlim(0.0, L)\n",
    "py.ylim(0.0, 100.0);"
   ]
  },
  {
   "cell_type": "markdown",
   "metadata": {},
   "source": [
    "If you increase the number of time steps `nt` further, you will see that the outflow temperature at $x = 1$ continues to increase."
   ]
  },
  {
   "cell_type": "markdown",
   "metadata": {},
   "source": [
    "### Explicit Schemes and BCs\n",
    "- explicit schemes, the updated solution at $t^{n+1}$ was computed using only known information at time $t^n$\n",
    "- has limitations, particularly with the small sizes of time step necessary to obtain stability\n",
    "- to calculate $T_i^{n+1}$ you use the information from the grid points $i-1, i, i+1$ at the previous time step\n",
    "- thus, any change in boundary condition will feed into the solution only at the next time step, not immediatelyw\n",
    "- this contradicts the physics of the problem,  as any change on the boundary should be felt right away under the diffusion equation\n",
    "- to include boundary effects on the same time level, we can use an _implicit_ update"
   ]
  }
 ],
 "metadata": {
  "kernelspec": {
   "display_name": "Python 3",
   "language": "python",
   "name": "python3"
  },
  "language_info": {
   "codemirror_mode": {
    "name": "ipython",
    "version": 3
   },
   "file_extension": ".py",
   "mimetype": "text/x-python",
   "name": "python",
   "nbconvert_exporter": "python",
   "pygments_lexer": "ipython3",
   "version": "3.6.5"
  }
 },
 "nbformat": 4,
 "nbformat_minor": 2
}
