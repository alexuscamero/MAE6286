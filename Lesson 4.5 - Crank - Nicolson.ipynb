{
 "cells": [
  {
   "cell_type": "markdown",
   "metadata": {},
   "source": [
    "# Spreading Out\n",
    "## Crank - Nicolson Scheme\n",
    "- a second-order, implicit method used with parabolic PDEs in particular\n",
    "- the main idea is to take the average between the solutions at $t^n$ and $t^{n+1}$ in the evaluation of the spatial derivative\n",
    "- the time derivative will then be discretized with a centered scheme, giving second-order accuracy"
   ]
  },
  {
   "cell_type": "markdown",
   "metadata": {},
   "source": [
    "1D Heat Equation: \n",
    "$$\n",
    "\\begin{equation}\n",
    "    \\frac{\\partial T}{\\partial t} = \\alpha \\frac{\\partial^2 T}{\\partial x^2}.\n",
    "\\end{equation}\n",
    "$$\n",
    "\n",
    "Crank-Nicolson scheme leads to the following equation: \n",
    "$$\n",
    "\\begin{equation}\n",
    "    \\begin{split}\n",
    "        & \\frac{T^{n+1}_i - T^n_i}{\\Delta t} = \\\\\n",
    "        & \\quad \\alpha \\cdot \\frac{1}{2} \\left( \\frac{T^{n+1}_{i+1} - 2 T^{n+1}_i + T^{n+1}_{i-1}}{\\Delta x^2} + \\frac{T^n_{i+1} - 2 T^n_i + T^n_{i-1}}{\\Delta x^2} \\right) \\\\\n",
    "    \\end{split}\n",
    "\\end{equation}\n",
    "$$\n",
    "\n",
    "- both time indices $n$ and $n+1$ appear on the right-hand side\n",
    "\n",
    "Rearranging, \n",
    "$$\n",
    "\\begin{equation}\n",
    "    \\begin{split}\n",
    "        & -T^{n+1}_{i-1} + 2 \\left( \\frac{\\Delta x^2}{\\alpha \\Delta t} + 1 \\right) T^{n+1}_i - T^{n+1}_{i+1} \\\\\n",
    "        & \\qquad = T^{n}_{i-1} + 2 \\left( \\frac{\\Delta x^2}{\\alpha \\Delta t} - 1 \\right) T^{n}_i + T^{n}_{i+1} \\\\\n",
    "    \\end{split}\n",
    "\\end{equation}\n",
    "$$\n",
    "\n",
    "If we have a Neumann boundary $\\left(\\left.\\frac{\\partial T}{\\partial x}\\right|_{x=L} = q\\right)$ at $T_{n_x-1}^{n+1}, for $i=n_x-2$ we get\n",
    "\n",
    "$$\n",
    "\\begin{equation}\n",
    "    \\begin{split}\n",
    "        & -T^{n+1}_{n_x-3} + \\left( 2 \\frac{\\Delta x^2}{\\alpha \\Delta t} + 1 \\right) T^{n+1}_{n_x-2} \\\\\n",
    "        & \\qquad = T^{n}_{n_x-3} + 2 \\left( \\frac{\\Delta x^2}{\\alpha \\Delta t} - 1 \\right) T^{n}_{n_x-2} + T^{n}_{n_x-1} + q\\Delta x \\\\\n",
    "    \\end{split}\n",
    "\\end{equation}\n",
    "$$"
   ]
  },
  {
   "cell_type": "markdown",
   "metadata": {},
   "source": [
    "### The Linear System\n",
    "$$\n",
    "[A][T^{n+1}_\\text{int}] = [b]+[b]_{b.c.}\n",
    "$$\n",
    "\n",
    "$$\n",
    "\\begin{align}\n",
    "    \\left[\n",
    "        \\begin{array}{cccccc}\n",
    "             2 \\left( \\frac{1}{\\sigma} + 1 \\right) & -1 & 0 & \\cdots & & 0 \\\\\n",
    "             -1 & 2 \\left( \\frac{1}{\\sigma} + 1\\right) & -1 & 0 & \\cdots & 0 \\\\\n",
    "             0 & & \\ddots & & & \\vdots \\\\\n",
    "             \\vdots & & & & 2 \\left( \\frac{1}{\\sigma} + 1\\right) & \\\\\n",
    "             0 & \\cdots & & & -1 & \\left( 2 \\frac{1}{\\sigma} + 1\\right) \\\\\n",
    "        \\end{array}\n",
    "    \\right] \\cdot \n",
    "    \\left[\n",
    "        \\begin{array}{c} \n",
    "             T_1^{n+1} \\\\\n",
    "             T_2^{n+1} \\\\\n",
    "             \\vdots \\\\\n",
    "             \\\\\n",
    "             T_{N-2}^{n+1} \\\\\n",
    "        \\end{array}\n",
    "    \\right] =\n",
    "    \\left[\n",
    "        \\begin{array}{c}\n",
    "            T_0^n + 2 \\left( \\frac{1}{\\sigma} - 1 \\right) T_1^n + T_2^n \\\\\n",
    "            T_1^n + 2 \\left( \\frac{1}{\\sigma} - 1 \\right) T_2^n + T_3^n \\\\\n",
    "            \\vdots \\\\\n",
    "            \\\\\n",
    "            T_{n_x-3}^n + 2 \\left( \\frac{1}{\\sigma} - 1 \\right) T_{n_x-2}^n + T_{n_x-1}^n \\\\\n",
    "        \\end{array}\n",
    "    \\right] +\n",
    "    \\begin{bmatrix}\n",
    "        T_0^{n+1} \\\\\n",
    "        0\\\\\n",
    "        \\vdots \\\\\n",
    "        0 \\\\\n",
    "        q \\Delta x \\\\\n",
    "    \\end{bmatrix}\n",
    "\\end{align}\n",
    "$$"
   ]
  },
  {
   "cell_type": "markdown",
   "metadata": {},
   "source": [
    "With Dirichlet boundary at $x=0$ and zero-flux boundary $(q=0)$ at $x=L$..."
   ]
  },
  {
   "cell_type": "code",
   "execution_count": 1,
   "metadata": {},
   "outputs": [],
   "source": [
    "import numpy as np\n",
    "from scipy import linalg as lg\n",
    "from matplotlib import pyplot as py\n",
    "%matplotlib inline"
   ]
  },
  {
   "cell_type": "code",
   "execution_count": 2,
   "metadata": {},
   "outputs": [],
   "source": [
    "'''\n",
    "    Computes the implicit operator of the system for the\n",
    "        1D diffusion equation.\n",
    "    Crank-Nicolson will be used with Dirichlet condition on the\n",
    "        left side and zero-gradient Neumann condition on the\n",
    "        right side of the domain.\n",
    "        \n",
    "    N : integer, number of interior points\n",
    "    sigma : float, value of alpha * dt / dx**2\n",
    "    \n",
    "    Returns:\n",
    "    A : np.nadarray, the implicit operator as a 2D array of\n",
    "        floats of size N by N\n",
    "'''\n",
    "\n",
    "def lhs_operator(N, sigma):\n",
    "    # Diagonal of the operator\n",
    "    D = np.diag(2.0 * (1.0 + 1.0 / sigma) * np.ones(N))\n",
    "    \n",
    "    # Neumann condition for the last element\n",
    "    D[-1, -1] = 1.0 + 2.0 / sigma\n",
    "    \n",
    "    # Upper diagonal of the operator\n",
    "    U = np.diag(-1.0 * np.ones(N - 1), k = 1)\n",
    "    \n",
    "    # Lower diagonal of the operator\n",
    "    L = np.diag(-1.0 * np.ones(N - 1), k = -1)\n",
    "    \n",
    "    # Assemble the operator.\n",
    "    A = D + U + L\n",
    "    \n",
    "    return A"
   ]
  },
  {
   "cell_type": "code",
   "execution_count": 3,
   "metadata": {},
   "outputs": [],
   "source": [
    "'''\n",
    "    Computes the right-hand side of the system for the 1D diffusion\n",
    "        equation, using a Dirichlet condition on the left side and\n",
    "        a Neumann condition on the right side.\n",
    "        \n",
    "    T : np.ndarray, temperature distribution\n",
    "    sigma : float, value of alpha * dt / dx**2\n",
    "    qdx : float, value of the temperature flux at the right side\n",
    "    \n",
    "    Returns:\n",
    "    b : np.ndarray, the right-hand side of the system as\n",
    "        a 1D array of floats\n",
    "'''\n",
    "\n",
    "def rhs_vector(T, sigma, qdx):\n",
    "    b = T[:-2] + 2.0 * (1.0 / sigma - 1.0) * T[1:-1] + T[2:]\n",
    "    \n",
    "    # Dirichlet condition\n",
    "    b[0] += T[0]\n",
    "    \n",
    "    # Neumann condition\n",
    "    b[-1] += qdx\n",
    "    \n",
    "    return b"
   ]
  },
  {
   "cell_type": "code",
   "execution_count": 4,
   "metadata": {},
   "outputs": [],
   "source": [
    "'''\n",
    "    Computes the temperature along the rod after a given\n",
    "        number of time steps, using Crank-Nicolson method in time,\n",
    "        central differencing in space, a Dirichlet condition on\n",
    "        the left side, and a Neumann condition on the right side.\n",
    "    \n",
    "    T0 : np.ndarray, initial temperature distribution\n",
    "    nt : integer, number of time steps to compute\n",
    "    dt : float, time-step size\n",
    "    dx : float, distance between two consecutive locations\n",
    "    alpha : float, thermal diffusivity of the rod\n",
    "    q : float, value of temperature gradient on the right side\n",
    "    \n",
    "    Returns:\n",
    "    T : np.ndarray, temperature distribution as a 1D array\n",
    "        of floats\n",
    "'''\n",
    "\n",
    "def crank_nicolson(T0, nt, dt, dx, alpha, q):\n",
    "    sigma = alpha * dt / dx**2\n",
    "    \n",
    "    # Implicit operator of the system\n",
    "    A = lhs_operator(len(T0) - 2, sigma)\n",
    "    \n",
    "    # Integrate in time\n",
    "    T = T0.copy()\n",
    "    for n in range(nt):\n",
    "        # Right-hand side of the system\n",
    "        b = rhs_vector(T, sigma, q * dx)\n",
    "        \n",
    "        # Solve the system with scipy.linalg.solve\n",
    "        T[1:-1] = lg.solve(A, b)\n",
    "        \n",
    "        # Apply the Neumann boundary condition\n",
    "        T[-1] = T[-2] + q * dx\n",
    "    return T"
   ]
  },
  {
   "cell_type": "markdown",
   "metadata": {},
   "source": [
    "Set up of the initial conditions, and the matrix:"
   ]
  },
  {
   "cell_type": "code",
   "execution_count": 5,
   "metadata": {},
   "outputs": [],
   "source": [
    "# Parameters\n",
    "L = 1.0   # length of the rod\n",
    "nx = 21   # number of points on the rod\n",
    "dx = L / (nx - 1)   # grid spacing\n",
    "alpha = 1.22e-3   # thermal diffusivity of the rod\n",
    "q = 0.0   # temperature gradient at the extremity\n",
    "\n",
    "# Locations on the rod\n",
    "x = np.linspace(0.0, L, num = nx)\n",
    "\n",
    "# Initial temperature distribution\n",
    "T0 = np.zeros(nx)\n",
    "T0[0] = 100.0"
   ]
  },
  {
   "cell_type": "code",
   "execution_count": 6,
   "metadata": {},
   "outputs": [
    {
     "name": "stdout",
     "output_type": "stream",
     "text": [
      "[[ 6. -1.  0.  0.  0.  0.  0.  0.  0.  0.  0.  0.  0.  0.  0.  0.  0.  0.\n",
      "   0.  0.]\n",
      " [-1.  6. -1.  0.  0.  0.  0.  0.  0.  0.  0.  0.  0.  0.  0.  0.  0.  0.\n",
      "   0.  0.]\n",
      " [ 0. -1.  6. -1.  0.  0.  0.  0.  0.  0.  0.  0.  0.  0.  0.  0.  0.  0.\n",
      "   0.  0.]\n",
      " [ 0.  0. -1.  6. -1.  0.  0.  0.  0.  0.  0.  0.  0.  0.  0.  0.  0.  0.\n",
      "   0.  0.]\n",
      " [ 0.  0.  0. -1.  6. -1.  0.  0.  0.  0.  0.  0.  0.  0.  0.  0.  0.  0.\n",
      "   0.  0.]\n",
      " [ 0.  0.  0.  0. -1.  6. -1.  0.  0.  0.  0.  0.  0.  0.  0.  0.  0.  0.\n",
      "   0.  0.]\n",
      " [ 0.  0.  0.  0.  0. -1.  6. -1.  0.  0.  0.  0.  0.  0.  0.  0.  0.  0.\n",
      "   0.  0.]\n",
      " [ 0.  0.  0.  0.  0.  0. -1.  6. -1.  0.  0.  0.  0.  0.  0.  0.  0.  0.\n",
      "   0.  0.]\n",
      " [ 0.  0.  0.  0.  0.  0.  0. -1.  6. -1.  0.  0.  0.  0.  0.  0.  0.  0.\n",
      "   0.  0.]\n",
      " [ 0.  0.  0.  0.  0.  0.  0.  0. -1.  6. -1.  0.  0.  0.  0.  0.  0.  0.\n",
      "   0.  0.]\n",
      " [ 0.  0.  0.  0.  0.  0.  0.  0.  0. -1.  6. -1.  0.  0.  0.  0.  0.  0.\n",
      "   0.  0.]\n",
      " [ 0.  0.  0.  0.  0.  0.  0.  0.  0.  0. -1.  6. -1.  0.  0.  0.  0.  0.\n",
      "   0.  0.]\n",
      " [ 0.  0.  0.  0.  0.  0.  0.  0.  0.  0.  0. -1.  6. -1.  0.  0.  0.  0.\n",
      "   0.  0.]\n",
      " [ 0.  0.  0.  0.  0.  0.  0.  0.  0.  0.  0.  0. -1.  6. -1.  0.  0.  0.\n",
      "   0.  0.]\n",
      " [ 0.  0.  0.  0.  0.  0.  0.  0.  0.  0.  0.  0.  0. -1.  6. -1.  0.  0.\n",
      "   0.  0.]\n",
      " [ 0.  0.  0.  0.  0.  0.  0.  0.  0.  0.  0.  0.  0.  0. -1.  6. -1.  0.\n",
      "   0.  0.]\n",
      " [ 0.  0.  0.  0.  0.  0.  0.  0.  0.  0.  0.  0.  0.  0.  0. -1.  6. -1.\n",
      "   0.  0.]\n",
      " [ 0.  0.  0.  0.  0.  0.  0.  0.  0.  0.  0.  0.  0.  0.  0.  0. -1.  6.\n",
      "  -1.  0.]\n",
      " [ 0.  0.  0.  0.  0.  0.  0.  0.  0.  0.  0.  0.  0.  0.  0.  0.  0. -1.\n",
      "   6. -1.]\n",
      " [ 0.  0.  0.  0.  0.  0.  0.  0.  0.  0.  0.  0.  0.  0.  0.  0.  0.  0.\n",
      "  -1.  5.]]\n"
     ]
    }
   ],
   "source": [
    "A = lhs_operator(nx-1, 0.5)\n",
    "print(A)"
   ]
  },
  {
   "cell_type": "markdown",
   "metadata": {},
   "source": [
    "Step in time..."
   ]
  },
  {
   "cell_type": "code",
   "execution_count": 7,
   "metadata": {},
   "outputs": [],
   "source": [
    "# Time-step size based on CFL limit\n",
    "sigma = 0.5\n",
    "dt = sigma * dx**2 / alpha   # time-step size\n",
    "nt = 10   # number of time steps to compute\n",
    "\n",
    "# Temperature Distribution\n",
    "T = crank_nicolson(T0, nt, dt, dx, alpha, q)"
   ]
  },
  {
   "cell_type": "markdown",
   "metadata": {},
   "source": [
    "Plot..."
   ]
  },
  {
   "cell_type": "code",
   "execution_count": 9,
   "metadata": {},
   "outputs": [],
   "source": [
    "# Font family and size to use for Matplotlib figures.\n",
    "py.rcParams['font.family'] = 'serif'\n",
    "py.rcParams['font.size'] = 16"
   ]
  },
  {
   "cell_type": "code",
   "execution_count": 10,
   "metadata": {},
   "outputs": [
    {
     "data": {
      "image/png": "[encoded data removed]",
      "text/plain": [
       "<Figure size 432x288 with 1 Axes>"
      ]
     },
     "metadata": {},
     "output_type": "display_data"
    }
   ],
   "source": [
    "# Plot of the temperature along the rod\n",
    "py.figure(figsize = (6.0, 4.0))\n",
    "py.xlabel('Distance [m]')\n",
    "py.ylabel('Temperature [C]')\n",
    "py.grid()\n",
    "py.plot(x, T, color = 'C0', linestyle = '-', linewidth = 2)\n",
    "py.xlim(0.0, L)\n",
    "py.ylim(0.0, 100.0);"
   ]
  },
  {
   "cell_type": "markdown",
   "metadata": {},
   "source": [
    "## Accuracy and Convergence\n",
    "### A closed expression for the rod problem: \n",
    "$$\n",
    "\\begin{eqnarray}\n",
    "T(x,t) = & \\nonumber \\\\\n",
    "100 - \\sum_{n=1}^{\\infty} & \\frac{400}{(2n-1)\\pi}\\sin\\left(\\frac{(2n-1)\\pi}{2L}x\\right) \\exp\\left[-\\alpha\\left(\\frac{(2n-1)\\pi}{2L}\\right)^2t\\right]\n",
    "\\end{eqnarray}\n",
    "$$"
   ]
  },
  {
   "cell_type": "code",
   "execution_count": 11,
   "metadata": {},
   "outputs": [],
   "source": [
    "'''\n",
    "    Computes a truncated approximation of the exact temperature\n",
    "        distribution along the rod.\n",
    "        \n",
    "    x : np.ndarray, locations at which to calculate the \n",
    "        temperature as a 1D array of floats\n",
    "    t : float, time\n",
    "    alpha : float, thermal diffusivity of the rod\n",
    "    L : float, length of the rod\n",
    "    N : integer, number of terms to use in the expansion\n",
    "    \n",
    "    Returns:\n",
    "    T : np.nadarray, the truncated analytical temperature\n",
    "        distribution as a 1D array of floats\n",
    "'''\n",
    "\n",
    "def analytical_temp(x, t, alpha, L, N):\n",
    "    T = 100 * np.ones_like(x)\n",
    "    for n in range(1, N + 1):\n",
    "        k = (2 * n - 1) * np.pi / (2.0 * L)\n",
    "        T -= (400.0 / (2.0*L*k) * np.sin(k*x) * np.exp(-alpha * k**2 * t))\n",
    "    return T"
   ]
  },
  {
   "cell_type": "code",
   "execution_count": 12,
   "metadata": {},
   "outputs": [
    {
     "data": {
      "image/png": "[encoded data removed]",
      "text/plain": [
       "<Figure size 432x288 with 1 Axes>"
      ]
     },
     "metadata": {},
     "output_type": "display_data"
    }
   ],
   "source": [
    "# Analytical temperature distribution\n",
    "T_exact = analytical_temp(x, nt*dt, alpha, L, 100)\n",
    "\n",
    "# Plot of the numerical and analytical temperatures\n",
    "py.figure(figsize = (6.0, 4.0))\n",
    "py.xlabel('Distance [m]')\n",
    "py.ylabel('Temperature [C]')\n",
    "py.grid()\n",
    "py.plot(x, T, label = 'numerical', color = 'C0',\n",
    "            linestyle = '-', linewidth = 2)\n",
    "py.plot(x, T_exact, label = 'analytical', color = 'C1',\n",
    "            linestyle = '--', linewidth = 2)\n",
    "py.legend()\n",
    "py.xlim(0.0, L)\n",
    "py.ylim(0.0, 100.0);"
   ]
  },
  {
   "cell_type": "code",
   "execution_count": 13,
   "metadata": {},
   "outputs": [
    {
     "data": {
      "text/plain": [
       "6.927917118260093e-13"
      ]
     },
     "execution_count": 13,
     "metadata": {},
     "output_type": "execute_result"
    }
   ],
   "source": [
    "T1 = analytical_temp(x, 0.2, alpha, L, 100)\n",
    "T2 = analytical_temp(x, 0.2, alpha, L, 200)\n",
    "np.sqrt(np.sum((T1 - T2)**2) / np.sum(T2**2))"
   ]
  },
  {
   "cell_type": "markdown",
   "metadata": {},
   "source": [
    "### Time Convergence\n",
    "Let $\\Delta x$ be constant, run the code for different values of $\\Delta t$ and compare the result at the same physical time, say $t=n_t\\cdot\\Delta t=10$, with the analytical expression above.\n",
    "\n",
    "The initial condition of the rod problem has a very sharp gradient: it suddenly jumps from $0{\\rm C}$ to $100{\\rm C}$ at the boundary. To resolve that gradient to the point that it doesn't affect time convergence, we would need a very fine mesh, and computations would be very slow.\n",
    "\n",
    "To avoid this issue, we will start from $t=1$ rather than starting from $t=0$.\n",
    "\n",
    "Below is a function thst will compute the $L_2$-norm of the error:"
   ]
  },
  {
   "cell_type": "code",
   "execution_count": 14,
   "metadata": {},
   "outputs": [],
   "source": [
    "'''\n",
    "    Computes the relative L2-norm of the difference between\n",
    "        the numerical solution and the exact solution.\n",
    "        \n",
    "    T : np.ndarray, numerical solution\n",
    "    T_exact : np.ndarray, exact solution\n",
    "    \n",
    "    Returns:\n",
    "    error : float, the relative L2-norm of the difference\n",
    "'''\n",
    "\n",
    "def l2_error(T, T_exact):\n",
    "    error = np.sqrt(np.sum((T - T_exact)**2) / np.sum(T_exact**2))\n",
    "    return error"
   ]
  },
  {
   "cell_type": "markdown",
   "metadata": {},
   "source": [
    "Compare the Crank-Nicolson scheme with the implicit (a.k.a., backward) Euler scheme:"
   ]
  },
  {
   "cell_type": "code",
   "execution_count": 15,
   "metadata": {},
   "outputs": [],
   "source": [
    "'''\n",
    "    Computes the implicit operator of the system for the \n",
    "        1D diffusion equation, using backward Euler method,\n",
    "        Dirichlet condition on the left side, and zero-gradient\n",
    "        Neumann condition on the right side.\n",
    "        \n",
    "    N : integer, number of interior points\n",
    "    sigma : float, value of alpha * dt / dx**2\n",
    "    \n",
    "    Returns:\n",
    "    A : np.ndarray, the implicit operator as a 2D array of floats\n",
    "        of size N by N.\n",
    "'''\n",
    "\n",
    "def lhs_operator_btcs(N, sigma):\n",
    "    # Diagonal of the operator\n",
    "    D = np.diag((2.0 + 1.0 / sigma) * np.ones(N))\n",
    "    \n",
    "    # Neumann condition for the last element\n",
    "    D[-1, -1] = 1.0 + 1.0 / sigma\n",
    "    \n",
    "    # Upper diagonal of the operator\n",
    "    U = np.diag(-1.0 * np.ones(N - 1), k=1)\n",
    "    \n",
    "    # Lower diagonal of the operator\n",
    "    L = np.diag(-1.0 * np.ones(N - 1), k=-1)\n",
    "    \n",
    "    # Assemble the operator\n",
    "    A = D + U + L\n",
    "    \n",
    "    return A"
   ]
  },
  {
   "cell_type": "code",
   "execution_count": 16,
   "metadata": {},
   "outputs": [],
   "source": [
    "'''\n",
    "    Computes the right-hand side of the system for the 1D\n",
    "        diffusion equation, using a Dirichlet condition\n",
    "        on the left side, and a Neumann condition on the\n",
    "        right side of the domain.\n",
    "        \n",
    "    T : np.ndarray, temperature distribution\n",
    "    sigma : float, value of alpha * dt / dx**2\n",
    "    qdx : float, value of the temperature flux at the right side\n",
    "    \n",
    "    Returns:\n",
    "    b : np.ndarray, right hand-side of the system as\n",
    "        a 1D array of floats\n",
    "'''\n",
    "\n",
    "def rhs_vector_btcs(T, sigma, qdx):\n",
    "    b = T[1:-1] / sigma\n",
    "    \n",
    "    # Dirichlet condition\n",
    "    b[0] += T[0]\n",
    "    \n",
    "    # Neumann condition\n",
    "    b[-1] += qdx\n",
    "    \n",
    "    return b"
   ]
  },
  {
   "cell_type": "code",
   "execution_count": 17,
   "metadata": {},
   "outputs": [],
   "source": [
    "'''\n",
    "    Computes the temperature along the rod with a given number\n",
    "        of time steps using Euler implicit in time, central\n",
    "        differencing in space, a Dirichlet condition on the left\n",
    "        side, and a Neumann condition on the right side.\n",
    "        \n",
    "    T0 : np.ndarray, initial temperature distribution\n",
    "    nt : integer, number of time steps to compute\n",
    "    dt : float, time-step size\n",
    "    dx : float, distance between two consecutive locations\n",
    "    alpha : float, thermal diffusivity of the rod\n",
    "    q : float, value of the temperature gradient on the right side\n",
    "    \n",
    "    Returns:\n",
    "    T : np.ndarray, temperature distribution as a 1D array of floats\n",
    "'''\n",
    "\n",
    "def btcs_implicit(T0, nt, dt, dx, alpha, q):\n",
    "    sigma = alpha * dt / dx**2\n",
    "    \n",
    "    # Implicit operator of the system\n",
    "    A = lhs_operator_btcs(len(T0) - 2, sigma)\n",
    "    \n",
    "    # Integrate in time\n",
    "    T = T0.copy()\n",
    "    for n in range(nt):\n",
    "        # Right-hand side of the system\n",
    "        b = rhs_vector_btcs(T, sigma, q * dx)\n",
    "        \n",
    "        # Solve the system with scipy.linalg.solve.\n",
    "        T[1:-1] = lg.solve(A, b)\n",
    "        \n",
    "        # Neumann boundary condition\n",
    "        T[-1] = T[-2] + q * dx\n",
    "        \n",
    "    return T"
   ]
  },
  {
   "cell_type": "code",
   "execution_count": 18,
   "metadata": {},
   "outputs": [],
   "source": [
    "# Update parameters\n",
    "nx = 1001  # number of points on the rod\n",
    "dx = L / (nx - 1)  # grid spacing\n",
    "\n",
    "# Locations on the rod\n",
    "x = np.linspace(0.0, L, num = nx)\n",
    "\n",
    "# A list with the time-step sizes to use\n",
    "dt_values = [1.0, 0.5, 0.25, 0.125]\n",
    "\n",
    "# Empty lists to hold the errors for both schemes\n",
    "errors = []\n",
    "errors_btcs = []\n",
    "\n",
    "# Initial temperature distribution at t=1.0\n",
    "t0 = 1.0\n",
    "T0 = analytical_temp(x, t0, alpha, L, 100)\n",
    "\n",
    "# Final analytical temperature at t=10.0\n",
    "t = 10.0\n",
    "T_exact = analytical_temp(x, t, alpha, L, 100)\n",
    "\n",
    "# Numerical solutions and errors\n",
    "for dt in dt_values:\n",
    "    nt = int((t - t0) / dt)  # number of time steps\n",
    "    \n",
    "    # Solution using Crank-Nicolson scheme\n",
    "    T = crank_nicolson(T0, nt, dt, dx, alpha, q)\n",
    "    \n",
    "    # Compute and record the L2-norm of the error\n",
    "    errors.append(l2_error(T, T_exact))\n",
    "    \n",
    "    # Solution using implicit BTCS scheme\n",
    "    T = btcs_implicit(T0, nt, dt, dx, alpha, q)\n",
    "    \n",
    "    # Compute and record the L2-norm of the error\n",
    "    errors_btcs.append(l2_error(T, T_exact))"
   ]
  },
  {
   "cell_type": "code",
   "execution_count": 19,
   "metadata": {},
   "outputs": [
    {
     "data": {
      "image/png": "[encoded data removed]",
      "text/plain": [
       "<Figure size 432x432 with 1 Axes>"
      ]
     },
     "metadata": {},
     "output_type": "display_data"
    }
   ],
   "source": [
    "# Plot of the error versus the time-step size\n",
    "py.figure(figsize = (6.0, 6.0))\n",
    "py.grid()\n",
    "py.xlabel(r'$\\Delta t$')\n",
    "py.ylabel('Relative $L_2$-norm\\nof the error')\n",
    "py.loglog(dt_values, errors, label = 'Crank-Nicolson', color = 'black',\n",
    "          linestyle = '--', linewidth = 2, marker = 'o')\n",
    "py.loglog(dt_values, errors_btcs, label = 'BTCS (implicit)', color = 'black',\n",
    "          linestyle = '--', linewidth = 2, marker = 's')\n",
    "py.legend()\n",
    "py.axis('equal');"
   ]
  },
  {
   "cell_type": "code",
   "execution_count": 20,
   "metadata": {},
   "outputs": [
    {
     "data": {
      "text/plain": [
       "[0.0005562525604219093,\n",
       " 0.00013745756447876512,\n",
       " 3.285170428448499e-05,\n",
       " 6.771647469151803e-06]"
      ]
     },
     "execution_count": 20,
     "metadata": {},
     "output_type": "execute_result"
    }
   ],
   "source": [
    "errors"
   ]
  },
  {
   "cell_type": "markdown",
   "metadata": {},
   "source": [
    "The error drops four times when the time step is halved.\n",
    "\n",
    "This method is second order in time.\n",
    "\n",
    "Crank-Nicolson convergest fater than backward Euler. The error curve is shifted down, thus, making Crank-Nicolson more accurate.\n",
    "\n",
    "Crank-Nicolson decays about twice as fast than backward Euler: 2nd vs first order method."
   ]
  },
  {
   "cell_type": "code",
   "execution_count": null,
   "metadata": {},
   "outputs": [],
   "source": []
  }
 ],
 "metadata": {
  "kernelspec": {
   "display_name": "Python 3",
   "language": "python",
   "name": "python3"
  },
  "language_info": {
   "codemirror_mode": {
    "name": "ipython",
    "version": 3
   },
   "file_extension": ".py",
   "mimetype": "text/x-python",
   "name": "python",
   "nbconvert_exporter": "python",
   "pygments_lexer": "ipython3",
   "version": "3.6.5"
  }
 },
 "nbformat": 4,
 "nbformat_minor": 2
}
